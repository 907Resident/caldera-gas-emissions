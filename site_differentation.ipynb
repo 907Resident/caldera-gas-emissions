{
  "nbformat": 4,
  "nbformat_minor": 0,
  "metadata": {
    "colab": {
      "name": "site-differentation.ipynb",
      "provenance": [],
      "toc_visible": true,
      "authorship_tag": "ABX9TyMn+rlcLExY2eW8nv59Xwik",
      "include_colab_link": true
    },
    "kernelspec": {
      "name": "python3",
      "display_name": "Python 3"
    }
  },
  "cells": [
    {
      "cell_type": "markdown",
      "metadata": {
        "id": "view-in-github",
        "colab_type": "text"
      },
      "source": [
        "<a href=\"https://colab.research.google.com/github/907Resident/caldera-gas-emissions/blob/logistic-prediction/site_differentation.ipynb\" target=\"_parent\"><img src=\"https://colab.research.google.com/assets/colab-badge.svg\" alt=\"Open In Colab\"/></a>"
      ]
    },
    {
      "cell_type": "markdown",
      "metadata": {
        "id": "vr0NxKcpyApw"
      },
      "source": [
        "# Site Differentation\r\n",
        "How are the sites similar and/or different.\r\n",
        "\r\n",
        "## Importing necessary libraries"
      ]
    },
    {
      "cell_type": "code",
      "metadata": {
        "id": "83oV_uKlx-Rm"
      },
      "source": [
        "# Import libraries\r\n",
        "import pandas as pd\r\n",
        "import matplotlib.pyplot as plt\r\n",
        "import seaborn as sns\r\n",
        "import numpy as np\r\n"
      ],
      "execution_count": 9,
      "outputs": []
    },
    {
      "cell_type": "markdown",
      "metadata": {
        "id": "6jsJokXb0xPU"
      },
      "source": [
        "## Import data\r\n",
        "The data have been processed using code developed in MATLAB previously. The data is currently stored in a OneDrive directory. Therefore to access it, one will need to use [`onedrivesdk<2`](https://github.com/OneDrive/onedrive-sdk-python/blob/master/README.md#onedrive). This library will be able to tap into the OneDrive API. After user authentication, you can get the necesary files for this exercise. "
      ]
    },
    {
      "cell_type": "markdown",
      "metadata": {
        "id": "1DHU6XvJXbNZ"
      },
      "source": [
        "_need to return to get `onedrivesdk` working properly_"
      ]
    },
    {
      "cell_type": "code",
      "metadata": {
        "id": "lquY54Rnyw_w",
        "colab": {
          "base_uri": "https://localhost:8080/"
        },
        "outputId": "df3fd6e8-b94f-4308-e7d9-49b5fe082a2f"
      },
      "source": [
        "#!pip install \"onedrivesdk<2\""
      ],
      "execution_count": null,
      "outputs": [
        {
          "output_type": "stream",
          "text": [
            "Collecting onedrivesdk<2\n",
            "\u001b[?25l  Downloading https://files.pythonhosted.org/packages/d9/73/32677f3ffc420522c9ebf92aa5741bd19e6844a907a15b491fcbe2221d9f/onedrivesdk-1.1.8.zip (203kB)\n",
            "\r\u001b[K     |█▋                              | 10kB 12.7MB/s eta 0:00:01\r\u001b[K     |███▏                            | 20kB 14.0MB/s eta 0:00:01\r\u001b[K     |████▉                           | 30kB 8.9MB/s eta 0:00:01\r\u001b[K     |██████▍                         | 40kB 7.8MB/s eta 0:00:01\r\u001b[K     |████████                        | 51kB 4.4MB/s eta 0:00:01\r\u001b[K     |█████████▋                      | 61kB 4.9MB/s eta 0:00:01\r\u001b[K     |███████████▎                    | 71kB 5.0MB/s eta 0:00:01\r\u001b[K     |████████████▉                   | 81kB 5.0MB/s eta 0:00:01\r\u001b[K     |██████████████▌                 | 92kB 5.3MB/s eta 0:00:01\r\u001b[K     |████████████████                | 102kB 5.6MB/s eta 0:00:01\r\u001b[K     |█████████████████▊              | 112kB 5.6MB/s eta 0:00:01\r\u001b[K     |███████████████████▎            | 122kB 5.6MB/s eta 0:00:01\r\u001b[K     |████████████████████▉           | 133kB 5.6MB/s eta 0:00:01\r\u001b[K     |██████████████████████▌         | 143kB 5.6MB/s eta 0:00:01\r\u001b[K     |████████████████████████        | 153kB 5.6MB/s eta 0:00:01\r\u001b[K     |█████████████████████████▊      | 163kB 5.6MB/s eta 0:00:01\r\u001b[K     |███████████████████████████▎    | 174kB 5.6MB/s eta 0:00:01\r\u001b[K     |█████████████████████████████   | 184kB 5.6MB/s eta 0:00:01\r\u001b[K     |██████████████████████████████▌ | 194kB 5.6MB/s eta 0:00:01\r\u001b[K     |████████████████████████████████| 204kB 5.6MB/s \n",
            "\u001b[?25hRequirement already satisfied: requests>=2.6.1 in /usr/local/lib/python3.6/dist-packages (from onedrivesdk<2) (2.23.0)\n",
            "Requirement already satisfied: certifi>=2017.4.17 in /usr/local/lib/python3.6/dist-packages (from requests>=2.6.1->onedrivesdk<2) (2020.12.5)\n",
            "Requirement already satisfied: idna<3,>=2.5 in /usr/local/lib/python3.6/dist-packages (from requests>=2.6.1->onedrivesdk<2) (2.10)\n",
            "Requirement already satisfied: urllib3!=1.25.0,!=1.25.1,<1.26,>=1.21.1 in /usr/local/lib/python3.6/dist-packages (from requests>=2.6.1->onedrivesdk<2) (1.24.3)\n",
            "Requirement already satisfied: chardet<4,>=3.0.2 in /usr/local/lib/python3.6/dist-packages (from requests>=2.6.1->onedrivesdk<2) (3.0.4)\n",
            "Building wheels for collected packages: onedrivesdk\n",
            "  Building wheel for onedrivesdk (setup.py) ... \u001b[?25l\u001b[?25hdone\n",
            "  Created wheel for onedrivesdk: filename=onedrivesdk-1.1.8-cp36-none-any.whl size=147150 sha256=c2e10c2ad86165a776de2a97b73297d69fc07c78def8e870ba7d87740b65229c\n",
            "  Stored in directory: /root/.cache/pip/wheels/8f/0c/f0/fe6e0677e05a8bfbd6c2b8d2034db9bcdc03f365545a990fff\n",
            "Successfully built onedrivesdk\n",
            "Installing collected packages: onedrivesdk\n",
            "Successfully installed onedrivesdk-1.1.8\n"
          ],
          "name": "stdout"
        }
      ]
    },
    {
      "cell_type": "code",
      "metadata": {
        "colab": {
          "base_uri": "https://localhost:8080/",
          "height": 394
        },
        "id": "2cOt4syk8E1-",
        "outputId": "3bc7e896-02c2-46e2-9a18-4541087342de"
      },
      "source": [
        "'''\r\n",
        "# Import packages from `ondrivesdk`\r\n",
        "import onedrivesdk\r\n",
        "from onedrivesdk.helpers import GetAuthCodeServer\r\n",
        "from onedrivesdk.helpers.resource_discovery import ResourceDiscoveryRequest\r\n",
        "\r\n",
        "redirect_uri = 'http://localhost:8080/' \r\n",
        "client_secret = 'txwlRACN800:~abtZDV08@=' \r\n",
        "client_id='9603342a-0630-4e1c-9fb1-fe97746511ae' \r\n",
        "api_base_url= 'https://graph.microsoft.com/v1.0/' \r\n",
        "scopes=['wl.signin', 'wl.offline_access', 'onedrive.readwrite'] \r\n",
        "http_provider = onedrivesdk.HttpProvider() \r\n",
        "auth_provider = onedrivesdk.AuthProvider(http_provider=http_provider, \r\n",
        "                                         client_id=client_id, \r\n",
        "                                         scopes=scopes) \r\n",
        "client = onedrivesdk.OneDriveClient(api_base_url, auth_provider, \r\n",
        "                                    http_provider) \r\n",
        "auth_url = client.auth_provider.get_auth_url(redirect_uri) \r\n",
        "print(auth_url)\r\n",
        "code = \"https://login.live.com/oauth20_authorize.srf?client_id=64bdfc12-0546-4082-beb4-8504880da74e&response_type=code&redirect_uri=http%3A%2F%2Flocalhost%3A8080%2F&scope=wl.signin+wl.offline_access+onedrive.readwrite\"\r\n",
        "client.auth_provider.authenticate(code, redirect_uri, client_secret)\r\n",
        "'''"
      ],
      "execution_count": null,
      "outputs": [
        {
          "output_type": "stream",
          "text": [
            "https://login.live.com/oauth20_authorize.srf?client_id=9603342a-0630-4e1c-9fb1-fe97746511ae&response_type=code&redirect_uri=http%3A%2F%2Flocalhost%3A8080%2F&scope=wl.signin+wl.offline_access+onedrive.readwrite\n"
          ],
          "name": "stdout"
        },
        {
          "output_type": "error",
          "ename": "Exception",
          "evalue": "ignored",
          "traceback": [
            "\u001b[0;31m---------------------------------------------------------------------------\u001b[0m",
            "\u001b[0;31mException\u001b[0m                                 Traceback (most recent call last)",
            "\u001b[0;32m<ipython-input-3-c050eab5c819>\u001b[0m in \u001b[0;36m<module>\u001b[0;34m()\u001b[0m\n\u001b[1;32m     18\u001b[0m \u001b[0mprint\u001b[0m\u001b[0;34m(\u001b[0m\u001b[0mauth_url\u001b[0m\u001b[0;34m)\u001b[0m\u001b[0;34m\u001b[0m\u001b[0;34m\u001b[0m\u001b[0m\n\u001b[1;32m     19\u001b[0m \u001b[0mcode\u001b[0m \u001b[0;34m=\u001b[0m \u001b[0;34m\"https://login.live.com/oauth20_authorize.srf?client_id=64bdfc12-0546-4082-beb4-8504880da74e&response_type=code&redirect_uri=http%3A%2F%2Flocalhost%3A8080%2F&scope=wl.signin+wl.offline_access+onedrive.readwrite\"\u001b[0m\u001b[0;34m\u001b[0m\u001b[0;34m\u001b[0m\u001b[0m\n\u001b[0;32m---> 20\u001b[0;31m \u001b[0mclient\u001b[0m\u001b[0;34m.\u001b[0m\u001b[0mauth_provider\u001b[0m\u001b[0;34m.\u001b[0m\u001b[0mauthenticate\u001b[0m\u001b[0;34m(\u001b[0m\u001b[0mcode\u001b[0m\u001b[0;34m,\u001b[0m \u001b[0mredirect_uri\u001b[0m\u001b[0;34m,\u001b[0m \u001b[0mclient_secret\u001b[0m\u001b[0;34m)\u001b[0m\u001b[0;34m\u001b[0m\u001b[0;34m\u001b[0m\u001b[0m\n\u001b[0m",
            "\u001b[0;32m/usr/local/lib/python3.6/dist-packages/onedrivesdk/auth_provider.py\u001b[0m in \u001b[0;36mauthenticate\u001b[0;34m(self, code, redirect_uri, client_secret, resource)\u001b[0m\n\u001b[1;32m    201\u001b[0m                                             \u001b[0mheaders\u001b[0m\u001b[0;34m=\u001b[0m\u001b[0mheaders\u001b[0m\u001b[0;34m,\u001b[0m\u001b[0;34m\u001b[0m\u001b[0;34m\u001b[0m\u001b[0m\n\u001b[1;32m    202\u001b[0m                                             \u001b[0murl\u001b[0m\u001b[0;34m=\u001b[0m\u001b[0mauth_url\u001b[0m\u001b[0;34m,\u001b[0m\u001b[0;34m\u001b[0m\u001b[0;34m\u001b[0m\u001b[0m\n\u001b[0;32m--> 203\u001b[0;31m                                             data=params)\n\u001b[0m\u001b[1;32m    204\u001b[0m \u001b[0;34m\u001b[0m\u001b[0m\n\u001b[1;32m    205\u001b[0m         \u001b[0mrcont\u001b[0m \u001b[0;34m=\u001b[0m \u001b[0mjson\u001b[0m\u001b[0;34m.\u001b[0m\u001b[0mloads\u001b[0m\u001b[0;34m(\u001b[0m\u001b[0mresponse\u001b[0m\u001b[0;34m.\u001b[0m\u001b[0mcontent\u001b[0m\u001b[0;34m)\u001b[0m\u001b[0;34m\u001b[0m\u001b[0;34m\u001b[0m\u001b[0m\n",
            "\u001b[0;32m/usr/local/lib/python3.6/dist-packages/onedrivesdk/http_provider.py\u001b[0m in \u001b[0;36msend\u001b[0;34m(self, method, headers, url, data, content, path)\u001b[0m\n\u001b[1;32m     69\u001b[0m             \u001b[0mresponse\u001b[0m \u001b[0;34m=\u001b[0m \u001b[0msession\u001b[0m\u001b[0;34m.\u001b[0m\u001b[0msend\u001b[0m\u001b[0;34m(\u001b[0m\u001b[0mprepped\u001b[0m\u001b[0;34m)\u001b[0m\u001b[0;34m\u001b[0m\u001b[0;34m\u001b[0m\u001b[0m\n\u001b[1;32m     70\u001b[0m \u001b[0;34m\u001b[0m\u001b[0m\n\u001b[0;32m---> 71\u001b[0;31m         \u001b[0mcustom_response\u001b[0m \u001b[0;34m=\u001b[0m \u001b[0mHttpResponse\u001b[0m\u001b[0;34m(\u001b[0m\u001b[0mresponse\u001b[0m\u001b[0;34m.\u001b[0m\u001b[0mstatus_code\u001b[0m\u001b[0;34m,\u001b[0m \u001b[0mresponse\u001b[0m\u001b[0;34m.\u001b[0m\u001b[0mheaders\u001b[0m\u001b[0;34m,\u001b[0m \u001b[0mresponse\u001b[0m\u001b[0;34m.\u001b[0m\u001b[0mtext\u001b[0m\u001b[0;34m)\u001b[0m\u001b[0;34m\u001b[0m\u001b[0;34m\u001b[0m\u001b[0m\n\u001b[0m\u001b[1;32m     72\u001b[0m         \u001b[0;32mreturn\u001b[0m \u001b[0mcustom_response\u001b[0m\u001b[0;34m\u001b[0m\u001b[0;34m\u001b[0m\u001b[0m\n\u001b[1;32m     73\u001b[0m \u001b[0;34m\u001b[0m\u001b[0m\n",
            "\u001b[0;32m/usr/local/lib/python3.6/dist-packages/onedrivesdk/http_response.py\u001b[0m in \u001b[0;36m__init__\u001b[0;34m(self, status, headers, content)\u001b[0m\n\u001b[1;32m     59\u001b[0m                     \u001b[0;32mraise\u001b[0m \u001b[0mOneDriveError\u001b[0m\u001b[0;34m(\u001b[0m\u001b[0mmessage\u001b[0m\u001b[0;34m[\u001b[0m\u001b[0;34m\"error\"\u001b[0m\u001b[0;34m]\u001b[0m\u001b[0;34m,\u001b[0m \u001b[0mself\u001b[0m\u001b[0;34m.\u001b[0m\u001b[0mstatus\u001b[0m\u001b[0;34m)\u001b[0m\u001b[0;34m\u001b[0m\u001b[0;34m\u001b[0m\u001b[0m\n\u001b[1;32m     60\u001b[0m                 \u001b[0;32melse\u001b[0m\u001b[0;34m:\u001b[0m\u001b[0;34m\u001b[0m\u001b[0;34m\u001b[0m\u001b[0m\n\u001b[0;32m---> 61\u001b[0;31m                     \u001b[0;32mraise\u001b[0m \u001b[0mException\u001b[0m\u001b[0;34m(\u001b[0m\u001b[0mstr\u001b[0m\u001b[0;34m(\u001b[0m\u001b[0mmessage\u001b[0m\u001b[0;34m[\u001b[0m\u001b[0;34m\"error\"\u001b[0m\u001b[0;34m]\u001b[0m\u001b[0;34m)\u001b[0m\u001b[0;34m)\u001b[0m\u001b[0;34m\u001b[0m\u001b[0;34m\u001b[0m\u001b[0m\n\u001b[0m\u001b[1;32m     62\u001b[0m \u001b[0;34m\u001b[0m\u001b[0m\n\u001b[1;32m     63\u001b[0m     \u001b[0;32mdef\u001b[0m \u001b[0m__str__\u001b[0m\u001b[0;34m(\u001b[0m\u001b[0mself\u001b[0m\u001b[0;34m)\u001b[0m\u001b[0;34m:\u001b[0m\u001b[0;34m\u001b[0m\u001b[0;34m\u001b[0m\u001b[0m\n",
            "\u001b[0;31mException\u001b[0m: invalid_grant"
          ]
        }
      ]
    },
    {
      "cell_type": "markdown",
      "metadata": {
        "id": "3S6HYmWyZ8CO"
      },
      "source": [
        "Using manual file upload until issue #1 is resolved"
      ]
    },
    {
      "cell_type": "code",
      "metadata": {
        "colab": {
          "resources": {
            "http://localhost:8080/nbextensions/google.colab/files.js": {
              "data": "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",
              "ok": true,
              "headers": [
                [
                  "content-type",
                  "application/javascript"
                ]
              ],
              "status": 200,
              "status_text": ""
            }
          },
          "base_uri": "https://localhost:8080/",
          "height": 72
        },
        "id": "StzVW07XXq5D",
        "outputId": "3a43b15d-39eb-4b2d-eeb4-2c8e3bb569cc"
      },
      "source": [
        "# Manual File Upload from local drive\r\n",
        "from google.colab import files\r\n",
        "uploaded2018 = files.upload()"
      ],
      "execution_count": 10,
      "outputs": [
        {
          "output_type": "display_data",
          "data": {
            "text/html": [
              "\n",
              "     <input type=\"file\" id=\"files-086d2300-5f99-4329-9293-ceb0658fdda9\" name=\"files[]\" multiple disabled\n",
              "        style=\"border:none\" />\n",
              "     <output id=\"result-086d2300-5f99-4329-9293-ceb0658fdda9\">\n",
              "      Upload widget is only available when the cell has been executed in the\n",
              "      current browser session. Please rerun this cell to enable.\n",
              "      </output>\n",
              "      <script src=\"/nbextensions/google.colab/files.js\"></script> "
            ],
            "text/plain": [
              "<IPython.core.display.HTML object>"
            ]
          },
          "metadata": {
            "tags": []
          }
        },
        {
          "output_type": "stream",
          "text": [
            "Saving YNP_SummaryData.xlsx to YNP_SummaryData.xlsx\n"
          ],
          "name": "stdout"
        }
      ]
    },
    {
      "cell_type": "code",
      "metadata": {
        "colab": {
          "base_uri": "https://localhost:8080/",
          "height": 496
        },
        "id": "1BUl_5zyZ58r",
        "outputId": "b2f87fbc-573b-489e-9a51-4888d4175b28"
      },
      "source": [
        "# Import file into workspace\r\n",
        "import io\r\n",
        "df_2018_YC = pd.read_excel(io.BytesIO(uploaded2018['YNP_SummaryData.xlsx']), \r\n",
        "                           sheet_name=\"2018\",\r\n",
        "                           header=0)\r\n",
        "# Delete first row that contains secondary data information\r\n",
        "df_2018_YC.drop([0], inplace=True)\r\n",
        "\r\n",
        "# Reset index\r\n",
        "df_2018_YC.reset_index(drop=True, inplace=True)\r\n",
        "\r\n",
        "# Preview data\r\n",
        "df_2018_YC.head()"
      ],
      "execution_count": 11,
      "outputs": [
        {
          "output_type": "execute_result",
          "data": {
            "text/html": [
              "<div>\n",
              "<style scoped>\n",
              "    .dataframe tbody tr th:only-of-type {\n",
              "        vertical-align: middle;\n",
              "    }\n",
              "\n",
              "    .dataframe tbody tr th {\n",
              "        vertical-align: top;\n",
              "    }\n",
              "\n",
              "    .dataframe thead th {\n",
              "        text-align: right;\n",
              "    }\n",
              "</style>\n",
              "<table border=\"1\" class=\"dataframe\">\n",
              "  <thead>\n",
              "    <tr style=\"text-align: right;\">\n",
              "      <th></th>\n",
              "      <th>Site_Name</th>\n",
              "      <th>Group</th>\n",
              "      <th>Location</th>\n",
              "      <th>Soil_Classification</th>\n",
              "      <th>Latitude</th>\n",
              "      <th>Longitude</th>\n",
              "      <th>Date_of_Measurement</th>\n",
              "      <th>Start_Time_of_Chamber_Enclosure</th>\n",
              "      <th>End_Time_of_Chamber_Enclosure</th>\n",
              "      <th>Duration_of_Chamber_Enclosure</th>\n",
              "      <th>CH4_Flux</th>\n",
              "      <th>Long_Term CH4_Flux</th>\n",
              "      <th>d13CH4_source</th>\n",
              "      <th>LowerBound_d13CH4_source</th>\n",
              "      <th>UpperBound_d13CH4_source</th>\n",
              "      <th>CO2_Flux</th>\n",
              "      <th>Long_Term_CO2_Flux</th>\n",
              "      <th>d13CO2_source</th>\n",
              "      <th>LowerBound_d13CO2_source</th>\n",
              "      <th>UpperBound_d13CO2_source</th>\n",
              "      <th>Horita_Geothermometer_Temperature_at_Formation</th>\n",
              "      <th>Ambient_Temperature</th>\n",
              "      <th>Barometric_Pressure</th>\n",
              "      <th>Soil_Moisture</th>\n",
              "      <th>Soil_Conductivity</th>\n",
              "      <th>Soil_Tempeature_at_Surface</th>\n",
              "      <th>Soil_Tempeature_at_6_in_depth</th>\n",
              "    </tr>\n",
              "  </thead>\n",
              "  <tbody>\n",
              "    <tr>\n",
              "      <th>0</th>\n",
              "      <td>Porcelain Basin</td>\n",
              "      <td>North of Norris GB</td>\n",
              "      <td>PRCN_20Jun2018_1.1</td>\n",
              "      <td>Acid-Sulphate</td>\n",
              "      <td>44.7447</td>\n",
              "      <td>-110.713</td>\n",
              "      <td>2018-06-20 00:00:00</td>\n",
              "      <td>2018-06-20 11:48:30</td>\n",
              "      <td>2018-06-20 12:08:00</td>\n",
              "      <td>19.5</td>\n",
              "      <td>0.0001738</td>\n",
              "      <td>0.00152353</td>\n",
              "      <td>7.14093</td>\n",
              "      <td>-142.064</td>\n",
              "      <td>156.346</td>\n",
              "      <td>214.948</td>\n",
              "      <td>1.88424</td>\n",
              "      <td>-5.56615</td>\n",
              "      <td>-5.87406</td>\n",
              "      <td>-5.25824</td>\n",
              "      <td>-5.87406</td>\n",
              "      <td>-5.25824</td>\n",
              "      <td>1.11546e+11</td>\n",
              "      <td>NaN</td>\n",
              "      <td>NaN</td>\n",
              "      <td>1.31763</td>\n",
              "      <td>714.47</td>\n",
              "    </tr>\n",
              "    <tr>\n",
              "      <th>1</th>\n",
              "      <td>Porcelain Basin</td>\n",
              "      <td>North of Norris GB</td>\n",
              "      <td>PRCN_20Jun2018_1.2</td>\n",
              "      <td>Acid-Sulphate</td>\n",
              "      <td>44.7448</td>\n",
              "      <td>-110.713</td>\n",
              "      <td>2018-06-20 00:00:00</td>\n",
              "      <td>2018-06-20 12:22:30</td>\n",
              "      <td>2018-06-20 12:42:00</td>\n",
              "      <td>19.5</td>\n",
              "      <td>-0.000784411</td>\n",
              "      <td>-0.00687615</td>\n",
              "      <td>-116.363</td>\n",
              "      <td>-386.473</td>\n",
              "      <td>153.747</td>\n",
              "      <td>437.633</td>\n",
              "      <td>3.83629</td>\n",
              "      <td>-19.2932</td>\n",
              "      <td>-19.4558</td>\n",
              "      <td>-19.1307</td>\n",
              "      <td>-19.4558</td>\n",
              "      <td>-19.1307</td>\n",
              "      <td>-29.0515</td>\n",
              "      <td>NaN</td>\n",
              "      <td>NaN</td>\n",
              "      <td>1.31647</td>\n",
              "      <td>778.056</td>\n",
              "    </tr>\n",
              "    <tr>\n",
              "      <th>2</th>\n",
              "      <td>Porcelain Basin</td>\n",
              "      <td>North of Norris GB</td>\n",
              "      <td>PRCN_20Jun2018_1.3</td>\n",
              "      <td>Acid-Sulphate</td>\n",
              "      <td>44.7448</td>\n",
              "      <td>-110.713</td>\n",
              "      <td>2018-06-20 00:00:00</td>\n",
              "      <td>2018-06-20 12:56:30</td>\n",
              "      <td>2018-06-20 13:15:59</td>\n",
              "      <td>19.4833</td>\n",
              "      <td>-0.00236666</td>\n",
              "      <td>-0.0207461</td>\n",
              "      <td>36.94</td>\n",
              "      <td>-59.3935</td>\n",
              "      <td>133.273</td>\n",
              "      <td>215.394</td>\n",
              "      <td>1.88815</td>\n",
              "      <td>-23.4323</td>\n",
              "      <td>-23.7177</td>\n",
              "      <td>-23.1469</td>\n",
              "      <td>-23.7177</td>\n",
              "      <td>-23.1469</td>\n",
              "      <td>450282228398209761280</td>\n",
              "      <td>NaN</td>\n",
              "      <td>NaN</td>\n",
              "      <td>1.31442</td>\n",
              "      <td>737.47</td>\n",
              "    </tr>\n",
              "    <tr>\n",
              "      <th>3</th>\n",
              "      <td>Porcelain Basin</td>\n",
              "      <td>North of Norris GB</td>\n",
              "      <td>PRCN_20Jun2018_2.1</td>\n",
              "      <td>Acid-Sulphate</td>\n",
              "      <td>44.745</td>\n",
              "      <td>-110.713</td>\n",
              "      <td>2018-06-20 00:00:00</td>\n",
              "      <td>2018-06-20 13:32:33</td>\n",
              "      <td>2018-06-20 13:51:57</td>\n",
              "      <td>19.4</td>\n",
              "      <td>-0.00125964</td>\n",
              "      <td>-0.011042</td>\n",
              "      <td>31.0104</td>\n",
              "      <td>-84.1555</td>\n",
              "      <td>146.176</td>\n",
              "      <td>347.507</td>\n",
              "      <td>3.04624</td>\n",
              "      <td>-22.9485</td>\n",
              "      <td>-23.1399</td>\n",
              "      <td>-22.757</td>\n",
              "      <td>-23.1399</td>\n",
              "      <td>-22.757</td>\n",
              "      <td>503872814901302919168</td>\n",
              "      <td>NaN</td>\n",
              "      <td>NaN</td>\n",
              "      <td>1.31679</td>\n",
              "      <td>688.697</td>\n",
              "    </tr>\n",
              "    <tr>\n",
              "      <th>4</th>\n",
              "      <td>Porcelain Basin</td>\n",
              "      <td>North of Norris GB</td>\n",
              "      <td>PRCN_20Jun2018_2.2</td>\n",
              "      <td>Acid-Sulphate</td>\n",
              "      <td>44.745</td>\n",
              "      <td>-110.713</td>\n",
              "      <td>2018-06-20 00:00:00</td>\n",
              "      <td>2018-06-20 14:07:30</td>\n",
              "      <td>2018-06-20 14:27:00</td>\n",
              "      <td>19.5</td>\n",
              "      <td>-0.000472218</td>\n",
              "      <td>-0.00413946</td>\n",
              "      <td>317.581</td>\n",
              "      <td>-88.6927</td>\n",
              "      <td>723.856</td>\n",
              "      <td>350.529</td>\n",
              "      <td>3.07273</td>\n",
              "      <td>-19.3013</td>\n",
              "      <td>-19.5028</td>\n",
              "      <td>-19.0999</td>\n",
              "      <td>-19.5028</td>\n",
              "      <td>-19.0999</td>\n",
              "      <td>251936407216017440768</td>\n",
              "      <td>NaN</td>\n",
              "      <td>NaN</td>\n",
              "      <td>1.31185</td>\n",
              "      <td>708.358</td>\n",
              "    </tr>\n",
              "  </tbody>\n",
              "</table>\n",
              "</div>"
            ],
            "text/plain": [
              "         Site_Name  ... Soil_Tempeature_at_6_in_depth\n",
              "0  Porcelain Basin  ...                        714.47\n",
              "1  Porcelain Basin  ...                       778.056\n",
              "2  Porcelain Basin  ...                        737.47\n",
              "3  Porcelain Basin  ...                       688.697\n",
              "4  Porcelain Basin  ...                       708.358\n",
              "\n",
              "[5 rows x 27 columns]"
            ]
          },
          "metadata": {
            "tags": []
          },
          "execution_count": 11
        }
      ]
    },
    {
      "cell_type": "code",
      "metadata": {
        "colab": {
          "resources": {
            "http://localhost:8080/nbextensions/google.colab/files.js": {
              "data": "Ly8gQ29weXJpZ2h0IDIwMTcgR29vZ2xlIExMQwovLwovLyBMaWNlbnNlZCB1bmRlciB0aGUgQXBhY2hlIExpY2Vuc2UsIFZlcnNpb24gMi4wICh0aGUgIkxpY2Vuc2UiKTsKLy8geW91IG1heSBub3QgdXNlIHRoaXMgZmlsZSBleGNlcHQgaW4gY29tcGxpYW5jZSB3aXRoIHRoZSBMaWNlbnNlLgovLyBZb3UgbWF5IG9idGFpbiBhIGNvcHkgb2YgdGhlIExpY2Vuc2UgYXQKLy8KLy8gICAgICBodHRwOi8vd3d3LmFwYWNoZS5vcmcvbGljZW5zZXMvTElDRU5TRS0yLjAKLy8KLy8gVW5sZXNzIHJlcXVpcmVkIGJ5IGFwcGxpY2FibGUgbGF3IG9yIGFncmVlZCB0byBpbiB3cml0aW5nLCBzb2Z0d2FyZQovLyBkaXN0cmlidXRlZCB1bmRlciB0aGUgTGljZW5zZSBpcyBkaXN0cmlidXRlZCBvbiBhbiAiQVMgSVMiIEJBU0lTLAovLyBXSVRIT1VUIFdBUlJBTlRJRVMgT1IgQ09ORElUSU9OUyBPRiBBTlkgS0lORCwgZWl0aGVyIGV4cHJlc3Mgb3IgaW1wbGllZC4KLy8gU2VlIHRoZSBMaWNlbnNlIGZvciB0aGUgc3BlY2lmaWMgbGFuZ3VhZ2UgZ292ZXJuaW5nIHBlcm1pc3Npb25zIGFuZAovLyBsaW1pdGF0aW9ucyB1bmRlciB0aGUgTGljZW5zZS4KCi8qKgogKiBAZmlsZW92ZXJ2aWV3IEhlbHBlcnMgZm9yIGdvb2dsZS5jb2xhYiBQeXRob24gbW9kdWxlLgogKi8KKGZ1bmN0aW9uKHNjb3BlKSB7CmZ1bmN0aW9uIHNwYW4odGV4dCwgc3R5bGVBdHRyaWJ1dGVzID0ge30pIHsKICBjb25zdCBlbGVtZW50ID0gZG9jdW1lbnQuY3JlYXRlRWxlbWVudCgnc3BhbicpOwogIGVsZW1lbnQudGV4dENvbnRlbnQgPSB0ZXh0OwogIGZvciAoY29uc3Qga2V5IG9mIE9iamVjdC5rZXlzKHN0eWxlQXR0cmlidXRlcykpIHsKICAgIGVsZW1lbnQuc3R5bGVba2V5XSA9IHN0eWxlQXR0cmlidXRlc1trZXldOwogIH0KICByZXR1cm4gZWxlbWVudDsKfQoKLy8gTWF4IG51bWJlciBvZiBieXRlcyB3aGljaCB3aWxsIGJlIHVwbG9hZGVkIGF0IGEgdGltZS4KY29uc3QgTUFYX1BBWUxPQURfU0laRSA9IDEwMCAqIDEwMjQ7CgpmdW5jdGlvbiBfdXBsb2FkRmlsZXMoaW5wdXRJZCwgb3V0cHV0SWQpIHsKICBjb25zdCBzdGVwcyA9IHVwbG9hZEZpbGVzU3RlcChpbnB1dElkLCBvdXRwdXRJZCk7CiAgY29uc3Qgb3V0cHV0RWxlbWVudCA9IGRvY3VtZW50LmdldEVsZW1lbnRCeUlkKG91dHB1dElkKTsKICAvLyBDYWNoZSBzdGVwcyBvbiB0aGUgb3V0cHV0RWxlbWVudCB0byBtYWtlIGl0IGF2YWlsYWJsZSBmb3IgdGhlIG5leHQgY2FsbAogIC8vIHRvIHVwbG9hZEZpbGVzQ29udGludWUgZnJvbSBQeXRob24uCiAgb3V0cHV0RWxlbWVudC5zdGVwcyA9IHN0ZXBzOwoKICByZXR1cm4gX3VwbG9hZEZpbGVzQ29udGludWUob3V0cHV0SWQpOwp9CgovLyBUaGlzIGlzIHJvdWdobHkgYW4gYXN5bmMgZ2VuZXJhdG9yIChub3Qgc3VwcG9ydGVkIGluIHRoZSBicm93c2VyIHlldCksCi8vIHdoZXJlIHRoZXJlIGFyZSBtdWx0aXBsZSBhc3luY2hyb25vdXMgc3RlcHMgYW5kIHRoZSBQeXRob24gc2lkZSBpcyBnb2luZwovLyB0byBwb2xsIGZvciBjb21wbGV0aW9uIG9mIGVhY2ggc3RlcC4KLy8gVGhpcyB1c2VzIGEgUHJvbWlzZSB0byBibG9jayB0aGUgcHl0aG9uIHNpZGUgb24gY29tcGxldGlvbiBvZiBlYWNoIHN0ZXAsCi8vIHRoZW4gcGFzc2VzIHRoZSByZXN1bHQgb2YgdGhlIHByZXZpb3VzIHN0ZXAgYXMgdGhlIGlucHV0IHRvIHRoZSBuZXh0IHN0ZXAuCmZ1bmN0aW9uIF91cGxvYWRGaWxlc0NvbnRpbnVlKG91dHB1dElkKSB7CiAgY29uc3Qgb3V0cHV0RWxlbWVudCA9IGRvY3VtZW50LmdldEVsZW1lbnRCeUlkKG91dHB1dElkKTsKICBjb25zdCBzdGVwcyA9IG91dHB1dEVsZW1lbnQuc3RlcHM7CgogIGNvbnN0IG5leHQgPSBzdGVwcy5uZXh0KG91dHB1dEVsZW1lbnQubGFzdFByb21pc2VWYWx1ZSk7CiAgcmV0dXJuIFByb21pc2UucmVzb2x2ZShuZXh0LnZhbHVlLnByb21pc2UpLnRoZW4oKHZhbHVlKSA9PiB7CiAgICAvLyBDYWNoZSB0aGUgbGFzdCBwcm9taXNlIHZhbHVlIHRvIG1ha2UgaXQgYXZhaWxhYmxlIHRvIHRoZSBuZXh0CiAgICAvLyBzdGVwIG9mIHRoZSBnZW5lcmF0b3IuCiAgICBvdXRwdXRFbGVtZW50Lmxhc3RQcm9taXNlVmFsdWUgPSB2YWx1ZTsKICAgIHJldHVybiBuZXh0LnZhbHVlLnJlc3BvbnNlOwogIH0pOwp9CgovKioKICogR2VuZXJhdG9yIGZ1bmN0aW9uIHdoaWNoIGlzIGNhbGxlZCBiZXR3ZWVuIGVhY2ggYXN5bmMgc3RlcCBvZiB0aGUgdXBsb2FkCiAqIHByb2Nlc3MuCiAqIEBwYXJhbSB7c3RyaW5nfSBpbnB1dElkIEVsZW1lbnQgSUQgb2YgdGhlIGlucHV0IGZpbGUgcGlja2VyIGVsZW1lbnQuCiAqIEBwYXJhbSB7c3RyaW5nfSBvdXRwdXRJZCBFbGVtZW50IElEIG9mIHRoZSBvdXRwdXQgZGlzcGxheS4KICogQHJldHVybiB7IUl0ZXJhYmxlPCFPYmplY3Q+fSBJdGVyYWJsZSBvZiBuZXh0IHN0ZXBzLgogKi8KZnVuY3Rpb24qIHVwbG9hZEZpbGVzU3RlcChpbnB1dElkLCBvdXRwdXRJZCkgewogIGNvbnN0IGlucHV0RWxlbWVudCA9IGRvY3VtZW50LmdldEVsZW1lbnRCeUlkKGlucHV0SWQpOwogIGlucHV0RWxlbWVudC5kaXNhYmxlZCA9IGZhbHNlOwoKICBjb25zdCBvdXRwdXRFbGVtZW50ID0gZG9jdW1lbnQuZ2V0RWxlbWVudEJ5SWQob3V0cHV0SWQpOwogIG91dHB1dEVsZW1lbnQuaW5uZXJIVE1MID0gJyc7CgogIGNvbnN0IHBpY2tlZFByb21pc2UgPSBuZXcgUHJvbWlzZSgocmVzb2x2ZSkgPT4gewogICAgaW5wdXRFbGVtZW50LmFkZEV2ZW50TGlzdGVuZXIoJ2NoYW5nZScsIChlKSA9PiB7CiAgICAgIHJlc29sdmUoZS50YXJnZXQuZmlsZXMpOwogICAgfSk7CiAgfSk7CgogIGNvbnN0IGNhbmNlbCA9IGRvY3VtZW50LmNyZWF0ZUVsZW1lbnQoJ2J1dHRvbicpOwogIGlucHV0RWxlbWVudC5wYXJlbnRFbGVtZW50LmFwcGVuZENoaWxkKGNhbmNlbCk7CiAgY2FuY2VsLnRleHRDb250ZW50ID0gJ0NhbmNlbCB1cGxvYWQnOwogIGNvbnN0IGNhbmNlbFByb21pc2UgPSBuZXcgUHJvbWlzZSgocmVzb2x2ZSkgPT4gewogICAgY2FuY2VsLm9uY2xpY2sgPSAoKSA9PiB7CiAgICAgIHJlc29sdmUobnVsbCk7CiAgICB9OwogIH0pOwoKICAvLyBXYWl0IGZvciB0aGUgdXNlciB0byBwaWNrIHRoZSBmaWxlcy4KICBjb25zdCBmaWxlcyA9IHlpZWxkIHsKICAgIHByb21pc2U6IFByb21pc2UucmFjZShbcGlja2VkUHJvbWlzZSwgY2FuY2VsUHJvbWlzZV0pLAogICAgcmVzcG9uc2U6IHsKICAgICAgYWN0aW9uOiAnc3RhcnRpbmcnLAogICAgfQogIH07CgogIGNhbmNlbC5yZW1vdmUoKTsKCiAgLy8gRGlzYWJsZSB0aGUgaW5wdXQgZWxlbWVudCBzaW5jZSBmdXJ0aGVyIHBpY2tzIGFyZSBub3QgYWxsb3dlZC4KICBpbnB1dEVsZW1lbnQuZGlzYWJsZWQgPSB0cnVlOwoKICBpZiAoIWZpbGVzKSB7CiAgICByZXR1cm4gewogICAgICByZXNwb25zZTogewogICAgICAgIGFjdGlvbjogJ2NvbXBsZXRlJywKICAgICAgfQogICAgfTsKICB9CgogIGZvciAoY29uc3QgZmlsZSBvZiBmaWxlcykgewogICAgY29uc3QgbGkgPSBkb2N1bWVudC5jcmVhdGVFbGVtZW50KCdsaScpOwogICAgbGkuYXBwZW5kKHNwYW4oZmlsZS5uYW1lLCB7Zm9udFdlaWdodDogJ2JvbGQnfSkpOwogICAgbGkuYXBwZW5kKHNwYW4oCiAgICAgICAgYCgke2ZpbGUudHlwZSB8fCAnbi9hJ30pIC0gJHtmaWxlLnNpemV9IGJ5dGVzLCBgICsKICAgICAgICBgbGFzdCBtb2RpZmllZDogJHsKICAgICAgICAgICAgZmlsZS5sYXN0TW9kaWZpZWREYXRlID8gZmlsZS5sYXN0TW9kaWZpZWREYXRlLnRvTG9jYWxlRGF0ZVN0cmluZygpIDoKICAgICAgICAgICAgICAgICAgICAgICAgICAgICAgICAgICAgJ24vYSd9IC0gYCkpOwogICAgY29uc3QgcGVyY2VudCA9IHNwYW4oJzAlIGRvbmUnKTsKICAgIGxpLmFwcGVuZENoaWxkKHBlcmNlbnQpOwoKICAgIG91dHB1dEVsZW1lbnQuYXBwZW5kQ2hpbGQobGkpOwoKICAgIGNvbnN0IGZpbGVEYXRhUHJvbWlzZSA9IG5ldyBQcm9taXNlKChyZXNvbHZlKSA9PiB7CiAgICAgIGNvbnN0IHJlYWRlciA9IG5ldyBGaWxlUmVhZGVyKCk7CiAgICAgIHJlYWRlci5vbmxvYWQgPSAoZSkgPT4gewogICAgICAgIHJlc29sdmUoZS50YXJnZXQucmVzdWx0KTsKICAgICAgfTsKICAgICAgcmVhZGVyLnJlYWRBc0FycmF5QnVmZmVyKGZpbGUpOwogICAgfSk7CiAgICAvLyBXYWl0IGZvciB0aGUgZGF0YSB0byBiZSByZWFkeS4KICAgIGxldCBmaWxlRGF0YSA9IHlpZWxkIHsKICAgICAgcHJvbWlzZTogZmlsZURhdGFQcm9taXNlLAogICAgICByZXNwb25zZTogewogICAgICAgIGFjdGlvbjogJ2NvbnRpbnVlJywKICAgICAgfQogICAgfTsKCiAgICAvLyBVc2UgYSBjaHVua2VkIHNlbmRpbmcgdG8gYXZvaWQgbWVzc2FnZSBzaXplIGxpbWl0cy4gU2VlIGIvNjIxMTU2NjAuCiAgICBsZXQgcG9zaXRpb24gPSAwOwogICAgd2hpbGUgKHBvc2l0aW9uIDwgZmlsZURhdGEuYnl0ZUxlbmd0aCkgewogICAgICBjb25zdCBsZW5ndGggPSBNYXRoLm1pbihmaWxlRGF0YS5ieXRlTGVuZ3RoIC0gcG9zaXRpb24sIE1BWF9QQVlMT0FEX1NJWkUpOwogICAgICBjb25zdCBjaHVuayA9IG5ldyBVaW50OEFycmF5KGZpbGVEYXRhLCBwb3NpdGlvbiwgbGVuZ3RoKTsKICAgICAgcG9zaXRpb24gKz0gbGVuZ3RoOwoKICAgICAgY29uc3QgYmFzZTY0ID0gYnRvYShTdHJpbmcuZnJvbUNoYXJDb2RlLmFwcGx5KG51bGwsIGNodW5rKSk7CiAgICAgIHlpZWxkIHsKICAgICAgICByZXNwb25zZTogewogICAgICAgICAgYWN0aW9uOiAnYXBwZW5kJywKICAgICAgICAgIGZpbGU6IGZpbGUubmFtZSwKICAgICAgICAgIGRhdGE6IGJhc2U2NCwKICAgICAgICB9LAogICAgICB9OwogICAgICBwZXJjZW50LnRleHRDb250ZW50ID0KICAgICAgICAgIGAke01hdGgucm91bmQoKHBvc2l0aW9uIC8gZmlsZURhdGEuYnl0ZUxlbmd0aCkgKiAxMDApfSUgZG9uZWA7CiAgICB9CiAgfQoKICAvLyBBbGwgZG9uZS4KICB5aWVsZCB7CiAgICByZXNwb25zZTogewogICAgICBhY3Rpb246ICdjb21wbGV0ZScsCiAgICB9CiAgfTsKfQoKc2NvcGUuZ29vZ2xlID0gc2NvcGUuZ29vZ2xlIHx8IHt9OwpzY29wZS5nb29nbGUuY29sYWIgPSBzY29wZS5nb29nbGUuY29sYWIgfHwge307CnNjb3BlLmdvb2dsZS5jb2xhYi5fZmlsZXMgPSB7CiAgX3VwbG9hZEZpbGVzLAogIF91cGxvYWRGaWxlc0NvbnRpbnVlLAp9Owp9KShzZWxmKTsK",
              "ok": true,
              "headers": [
                [
                  "content-type",
                  "application/javascript"
                ]
              ],
              "status": 200,
              "status_text": ""
            }
          },
          "base_uri": "https://localhost:8080/",
          "height": 72
        },
        "id": "Z1kNKjQKFvxY",
        "outputId": "eb6280a2-00cb-4578-d7ac-aa5b79c2d67d"
      },
      "source": [
        "# Import data from 2019 into Workspace\r\n",
        "uploaded2019 = files.upload()"
      ],
      "execution_count": 12,
      "outputs": [
        {
          "output_type": "display_data",
          "data": {
            "text/html": [
              "\n",
              "     <input type=\"file\" id=\"files-2fc5daf4-19a3-4a76-9da7-e2d257bbe47b\" name=\"files[]\" multiple disabled\n",
              "        style=\"border:none\" />\n",
              "     <output id=\"result-2fc5daf4-19a3-4a76-9da7-e2d257bbe47b\">\n",
              "      Upload widget is only available when the cell has been executed in the\n",
              "      current browser session. Please rerun this cell to enable.\n",
              "      </output>\n",
              "      <script src=\"/nbextensions/google.colab/files.js\"></script> "
            ],
            "text/plain": [
              "<IPython.core.display.HTML object>"
            ]
          },
          "metadata": {
            "tags": []
          }
        },
        {
          "output_type": "stream",
          "text": [
            "Saving YNP_SummaryData.xlsx to YNP_SummaryData (1).xlsx\n"
          ],
          "name": "stdout"
        }
      ]
    },
    {
      "cell_type": "code",
      "metadata": {
        "colab": {
          "base_uri": "https://localhost:8080/",
          "height": 479
        },
        "id": "PYzpMaV9c57o",
        "outputId": "ca08ecde-f0d3-43bc-b0b0-0662f77ffca8"
      },
      "source": [
        "# Import file into workspace\r\n",
        "df_2019_YC = pd.read_excel(io.BytesIO(uploaded2019['YNP_SummaryData.xlsx']), \r\n",
        "                           sheet_name=\"2019\",\r\n",
        "                           header=0)\r\n",
        "# Delete first row that contains secondary data information\r\n",
        "df_2019_YC.drop([0], inplace=True)\r\n",
        "\r\n",
        "# Reset index\r\n",
        "df_2019_YC.reset_index(drop=True, inplace=True)\r\n",
        "\r\n",
        "# Preview data\r\n",
        "df_2019_YC.head()"
      ],
      "execution_count": 13,
      "outputs": [
        {
          "output_type": "execute_result",
          "data": {
            "text/html": [
              "<div>\n",
              "<style scoped>\n",
              "    .dataframe tbody tr th:only-of-type {\n",
              "        vertical-align: middle;\n",
              "    }\n",
              "\n",
              "    .dataframe tbody tr th {\n",
              "        vertical-align: top;\n",
              "    }\n",
              "\n",
              "    .dataframe thead th {\n",
              "        text-align: right;\n",
              "    }\n",
              "</style>\n",
              "<table border=\"1\" class=\"dataframe\">\n",
              "  <thead>\n",
              "    <tr style=\"text-align: right;\">\n",
              "      <th></th>\n",
              "      <th>Site_Name</th>\n",
              "      <th>Group</th>\n",
              "      <th>Location</th>\n",
              "      <th>Soil_Classification</th>\n",
              "      <th>Latitude</th>\n",
              "      <th>Longitude</th>\n",
              "      <th>Date_of_Measurement</th>\n",
              "      <th>Start_Time_of_Chamber_Enclosure</th>\n",
              "      <th>End_Time_of_Chamber_Enclosure</th>\n",
              "      <th>Duration_of_Chamber_Enclosure</th>\n",
              "      <th>CH4_Flux</th>\n",
              "      <th>Long_Term_CH4_Flux</th>\n",
              "      <th>d13CH4_source</th>\n",
              "      <th>LowerBound_d13CH4_source</th>\n",
              "      <th>UpperBound_d13CH4_source</th>\n",
              "      <th>CO2_Flux</th>\n",
              "      <th>Long_Term_CO2_Flux</th>\n",
              "      <th>d13CO2_source</th>\n",
              "      <th>LowerBound_d13CO2_source</th>\n",
              "      <th>UpperBound_d13CO2_source</th>\n",
              "      <th>Horita_Geothermometer_Temperature_at_Formation</th>\n",
              "      <th>Ambient_Temperature</th>\n",
              "      <th>Barometric_Pressure</th>\n",
              "      <th>Soil_Moisture</th>\n",
              "      <th>Soil_Conductivity</th>\n",
              "      <th>Soil_Tempeature_at_Surface</th>\n",
              "      <th>Soil_Tempeature_at_6_in_depth</th>\n",
              "    </tr>\n",
              "  </thead>\n",
              "  <tbody>\n",
              "    <tr>\n",
              "      <th>0</th>\n",
              "      <td>Gas Vents</td>\n",
              "      <td>Gas Vents (Solfatara Springs)</td>\n",
              "      <td>GVNT_06Jun2019_3.1</td>\n",
              "      <td>Acid-Sulphate</td>\n",
              "      <td>44.7095</td>\n",
              "      <td>-110.554</td>\n",
              "      <td>2019-06-06 00:00:00</td>\n",
              "      <td>2019-06-06 11:15:48</td>\n",
              "      <td>2019-06-06 11:33:27</td>\n",
              "      <td>17.65</td>\n",
              "      <td>-0.0142029</td>\n",
              "      <td>-0.124503</td>\n",
              "      <td>-60.1871</td>\n",
              "      <td>-94.4202</td>\n",
              "      <td>-25.954</td>\n",
              "      <td>61.6027</td>\n",
              "      <td>0.540009</td>\n",
              "      <td>-0.994721</td>\n",
              "      <td>-0.994721</td>\n",
              "      <td>4.3392</td>\n",
              "      <td>NaN</td>\n",
              "      <td>NaN</td>\n",
              "      <td>NaN</td>\n",
              "      <td>NaN</td>\n",
              "      <td>NaN</td>\n",
              "      <td>10.8</td>\n",
              "      <td>NaN</td>\n",
              "    </tr>\n",
              "    <tr>\n",
              "      <th>1</th>\n",
              "      <td>Gas Vents</td>\n",
              "      <td>Gas Vents (Solfatara Springs)</td>\n",
              "      <td>GVNT_06Jun2019_3.2</td>\n",
              "      <td>Acid-Sulphate</td>\n",
              "      <td>44.7097</td>\n",
              "      <td>-110.554</td>\n",
              "      <td>2019-06-06 00:00:00</td>\n",
              "      <td>2019-06-06 11:49:57</td>\n",
              "      <td>2019-06-06 12:04:49</td>\n",
              "      <td>14.8667</td>\n",
              "      <td>0.245512</td>\n",
              "      <td>2.15215</td>\n",
              "      <td>-11.7023</td>\n",
              "      <td>-14.3093</td>\n",
              "      <td>-9.09528</td>\n",
              "      <td>1998.61</td>\n",
              "      <td>17.5198</td>\n",
              "      <td>-4.19908</td>\n",
              "      <td>-4.19908</td>\n",
              "      <td>-4.04135</td>\n",
              "      <td>NaN</td>\n",
              "      <td>NaN</td>\n",
              "      <td>NaN</td>\n",
              "      <td>NaN</td>\n",
              "      <td>NaN</td>\n",
              "      <td>19</td>\n",
              "      <td>NaN</td>\n",
              "    </tr>\n",
              "    <tr>\n",
              "      <th>2</th>\n",
              "      <td>Gas Vents</td>\n",
              "      <td>Gas Vents (Solfatara Springs)</td>\n",
              "      <td>GVNT_06Jun2019_3.3</td>\n",
              "      <td>Acid-Sulphate</td>\n",
              "      <td>44.7098</td>\n",
              "      <td>-110.554</td>\n",
              "      <td>2019-06-06 00:00:00</td>\n",
              "      <td>2019-06-06 12:26:56</td>\n",
              "      <td>2019-06-06 12:35:29</td>\n",
              "      <td>8.55</td>\n",
              "      <td>1.92642</td>\n",
              "      <td>16.887</td>\n",
              "      <td>-30.8819</td>\n",
              "      <td>-31.8585</td>\n",
              "      <td>-29.9052</td>\n",
              "      <td>3759.53</td>\n",
              "      <td>32.956</td>\n",
              "      <td>-6.3691</td>\n",
              "      <td>-6.3691</td>\n",
              "      <td>-6.1339</td>\n",
              "      <td>NaN</td>\n",
              "      <td>NaN</td>\n",
              "      <td>NaN</td>\n",
              "      <td>NaN</td>\n",
              "      <td>NaN</td>\n",
              "      <td>20.7</td>\n",
              "      <td>NaN</td>\n",
              "    </tr>\n",
              "    <tr>\n",
              "      <th>3</th>\n",
              "      <td>Gas Vents</td>\n",
              "      <td>Gas Vents (Solfatara Springs)</td>\n",
              "      <td>GVNT_06Jun2019_4.1</td>\n",
              "      <td>Acid-Sulphate</td>\n",
              "      <td>44.7112</td>\n",
              "      <td>-110.554</td>\n",
              "      <td>2019-06-06 00:00:00</td>\n",
              "      <td>2019-06-06 13:59:30</td>\n",
              "      <td>2019-06-06 14:01:43</td>\n",
              "      <td>2.21667</td>\n",
              "      <td>9.77365</td>\n",
              "      <td>85.6758</td>\n",
              "      <td>-26.7443</td>\n",
              "      <td>-28.5211</td>\n",
              "      <td>-24.9675</td>\n",
              "      <td>15562.5</td>\n",
              "      <td>136.421</td>\n",
              "      <td>-9.25684</td>\n",
              "      <td>-9.25684</td>\n",
              "      <td>-3.47258</td>\n",
              "      <td>NaN</td>\n",
              "      <td>NaN</td>\n",
              "      <td>NaN</td>\n",
              "      <td>NaN</td>\n",
              "      <td>NaN</td>\n",
              "      <td>43.3</td>\n",
              "      <td>NaN</td>\n",
              "    </tr>\n",
              "    <tr>\n",
              "      <th>4</th>\n",
              "      <td>Gas Vents</td>\n",
              "      <td>Gas Vents (Solfatara Springs)</td>\n",
              "      <td>GVNT_06Jun2019_4.2</td>\n",
              "      <td>Acid-Sulphate</td>\n",
              "      <td>44.7113</td>\n",
              "      <td>-110.554</td>\n",
              "      <td>2019-06-06 00:00:00</td>\n",
              "      <td>2019-06-06 14:27:20</td>\n",
              "      <td>2019-06-06 14:33:03</td>\n",
              "      <td>5.71667</td>\n",
              "      <td>4.06264</td>\n",
              "      <td>35.6131</td>\n",
              "      <td>-30.2581</td>\n",
              "      <td>-30.9619</td>\n",
              "      <td>-29.5543</td>\n",
              "      <td>5666.13</td>\n",
              "      <td>49.6693</td>\n",
              "      <td>4.18146</td>\n",
              "      <td>4.18146</td>\n",
              "      <td>7.97036</td>\n",
              "      <td>NaN</td>\n",
              "      <td>NaN</td>\n",
              "      <td>NaN</td>\n",
              "      <td>NaN</td>\n",
              "      <td>NaN</td>\n",
              "      <td>46.5</td>\n",
              "      <td>NaN</td>\n",
              "    </tr>\n",
              "  </tbody>\n",
              "</table>\n",
              "</div>"
            ],
            "text/plain": [
              "   Site_Name  ... Soil_Tempeature_at_6_in_depth\n",
              "0  Gas Vents  ...                           NaN\n",
              "1  Gas Vents  ...                           NaN\n",
              "2  Gas Vents  ...                           NaN\n",
              "3  Gas Vents  ...                           NaN\n",
              "4  Gas Vents  ...                           NaN\n",
              "\n",
              "[5 rows x 27 columns]"
            ]
          },
          "metadata": {
            "tags": []
          },
          "execution_count": 13
        }
      ]
    },
    {
      "cell_type": "markdown",
      "metadata": {
        "id": "JY6p6jbIcea0"
      },
      "source": [
        "## Preprocessing and cleaning\r\n",
        "For the initial deployment of this exercise, we will only examine data collected at Gas Vents (GVNT). Therefore, several cleaning steps are requireed to ensure correct data types, addressing missing data, and other cleaning activities."
      ]
    },
    {
      "cell_type": "code",
      "metadata": {
        "colab": {
          "base_uri": "https://localhost:8080/"
        },
        "id": "nd-IwUW5c2WH",
        "outputId": "a2769d08-760c-4291-bc4c-80b17e15f31d"
      },
      "source": [
        "# Assess the data types for the dataframe\r\n",
        "df_2018_YC.dtypes"
      ],
      "execution_count": 14,
      "outputs": [
        {
          "output_type": "execute_result",
          "data": {
            "text/plain": [
              "Site_Name                                         object\n",
              "Group                                             object\n",
              "Location                                          object\n",
              "Soil_Classification                               object\n",
              "Latitude                                          object\n",
              "Longitude                                         object\n",
              "Date_of_Measurement                               object\n",
              "Start_Time_of_Chamber_Enclosure                   object\n",
              "End_Time_of_Chamber_Enclosure                     object\n",
              "Duration_of_Chamber_Enclosure                     object\n",
              "CH4_Flux                                          object\n",
              "Long_Term CH4_Flux                                object\n",
              "d13CH4_source                                     object\n",
              "LowerBound_d13CH4_source                          object\n",
              "UpperBound_d13CH4_source                          object\n",
              "CO2_Flux                                          object\n",
              "Long_Term_CO2_Flux                                object\n",
              "d13CO2_source                                     object\n",
              "LowerBound_d13CO2_source                          object\n",
              "UpperBound_d13CO2_source                          object\n",
              "Horita_Geothermometer_Temperature_at_Formation    object\n",
              "Ambient_Temperature                               object\n",
              "Barometric_Pressure                               object\n",
              "Soil_Moisture                                     object\n",
              "Soil_Conductivity                                 object\n",
              "Soil_Tempeature_at_Surface                        object\n",
              "Soil_Tempeature_at_6_in_depth                     object\n",
              "dtype: object"
            ]
          },
          "metadata": {
            "tags": []
          },
          "execution_count": 14
        }
      ]
    },
    {
      "cell_type": "markdown",
      "metadata": {
        "id": "Z44oGxcVI8OH"
      },
      "source": [
        "From visual inspection of the data types, it appears that all columns have been set to `object`. Therefore, it will require a dictionary where, I have mannually set up."
      ]
    },
    {
      "cell_type": "code",
      "metadata": {
        "colab": {
          "base_uri": "https://localhost:8080/"
        },
        "id": "o7Yxin88IVUj",
        "outputId": "eee0eccf-0906-44b8-e71c-02ae30146519"
      },
      "source": [
        "# Set dictionary for correct data types\r\n",
        "data_types = {\"Group\":\"category\", \r\n",
        "              \"Location\":\"object\",\r\n",
        "              \"Soil_Classification\":\"category\", \r\n",
        "              \"Latitude\":\"float64\",\"Longitude\":\"float64\", \r\n",
        "              \"Date_of_Measurement\":\"datetime64\",\r\n",
        "              \"Start_Time_of_Chamber_Enclosure\":\"datetime64\", \r\n",
        "              \"End_Time_of_Chamber_Enclosure\":\"datetime64\",\r\n",
        "              \"Duration_of_Chamber_Enclosure\":\"float64\",\r\n",
        "              \"CH4_Flux\":\"float64\",\r\n",
        "              \"d13CH4_source\":\"float64\", \r\n",
        "              \"LowerBound_d13CH4_source\":\"float64\",\r\n",
        "              \"UpperBound_d13CH4_source\":\"float64\",\r\n",
        "              \"CO2_Flux\":\"float64\",\r\n",
        "              \"LowerBound_d13CO2_source\":\"float64\",\r\n",
        "              \"UpperBound_d13CO2_source\":\"float64\"}\r\n",
        "\r\n",
        "# Set data types accordingly\r\n",
        "df_2018_YC = df_2018_YC.astype(data_types)\r\n",
        "df_2019_YC = df_2019_YC.astype(data_types)\r\n",
        "\r\n",
        "# Confirm correct data types\r\n",
        "df_2018_YC.dtypes"
      ],
      "execution_count": 15,
      "outputs": [
        {
          "output_type": "execute_result",
          "data": {
            "text/plain": [
              "Site_Name                                                 object\n",
              "Group                                                   category\n",
              "Location                                                  object\n",
              "Soil_Classification                                     category\n",
              "Latitude                                                 float64\n",
              "Longitude                                                float64\n",
              "Date_of_Measurement                               datetime64[ns]\n",
              "Start_Time_of_Chamber_Enclosure                   datetime64[ns]\n",
              "End_Time_of_Chamber_Enclosure                     datetime64[ns]\n",
              "Duration_of_Chamber_Enclosure                            float64\n",
              "CH4_Flux                                                 float64\n",
              "Long_Term CH4_Flux                                        object\n",
              "d13CH4_source                                            float64\n",
              "LowerBound_d13CH4_source                                 float64\n",
              "UpperBound_d13CH4_source                                 float64\n",
              "CO2_Flux                                                 float64\n",
              "Long_Term_CO2_Flux                                        object\n",
              "d13CO2_source                                             object\n",
              "LowerBound_d13CO2_source                                 float64\n",
              "UpperBound_d13CO2_source                                 float64\n",
              "Horita_Geothermometer_Temperature_at_Formation            object\n",
              "Ambient_Temperature                                       object\n",
              "Barometric_Pressure                                       object\n",
              "Soil_Moisture                                             object\n",
              "Soil_Conductivity                                         object\n",
              "Soil_Tempeature_at_Surface                                object\n",
              "Soil_Tempeature_at_6_in_depth                             object\n",
              "dtype: object"
            ]
          },
          "metadata": {
            "tags": []
          },
          "execution_count": 15
        }
      ]
    },
    {
      "cell_type": "code",
      "metadata": {
        "colab": {
          "base_uri": "https://localhost:8080/"
        },
        "id": "AT2qA1f2rDZc",
        "outputId": "3f715c14-9e12-4aa8-9fd2-d5db5e0aa1e0"
      },
      "source": [
        "# Drop unnecessary columns\r\n",
        "df_2018_YC.drop(df_2018_YC.columns[20:27],\r\n",
        "                axis=1, inplace=True)\r\n",
        "df_2019_YC.drop(df_2019_YC.columns[20:27],\r\n",
        "                axis=1, inplace=True)\r\n",
        "# Show columns to confirm drop\r\n",
        "df_2018_YC.columns"
      ],
      "execution_count": 16,
      "outputs": [
        {
          "output_type": "execute_result",
          "data": {
            "text/plain": [
              "Index(['Site_Name', 'Group', 'Location', 'Soil_Classification', 'Latitude',\n",
              "       'Longitude', 'Date_of_Measurement', 'Start_Time_of_Chamber_Enclosure',\n",
              "       'End_Time_of_Chamber_Enclosure', 'Duration_of_Chamber_Enclosure',\n",
              "       'CH4_Flux', 'Long_Term CH4_Flux', 'd13CH4_source',\n",
              "       'LowerBound_d13CH4_source', 'UpperBound_d13CH4_source', 'CO2_Flux',\n",
              "       'Long_Term_CO2_Flux', 'd13CO2_source', 'LowerBound_d13CO2_source',\n",
              "       'UpperBound_d13CO2_source'],\n",
              "      dtype='object')"
            ]
          },
          "metadata": {
            "tags": []
          },
          "execution_count": 16
        }
      ]
    },
    {
      "cell_type": "code",
      "metadata": {
        "colab": {
          "base_uri": "https://localhost:8080/",
          "height": 496
        },
        "id": "pwa-w0jU4SMU",
        "outputId": "58ed1597-4afd-4344-91ee-ac7059d8c9d0"
      },
      "source": [
        "# Preview 2018 DataFrame\r\n",
        "df_2018_YC.head()"
      ],
      "execution_count": 17,
      "outputs": [
        {
          "output_type": "execute_result",
          "data": {
            "text/html": [
              "<div>\n",
              "<style scoped>\n",
              "    .dataframe tbody tr th:only-of-type {\n",
              "        vertical-align: middle;\n",
              "    }\n",
              "\n",
              "    .dataframe tbody tr th {\n",
              "        vertical-align: top;\n",
              "    }\n",
              "\n",
              "    .dataframe thead th {\n",
              "        text-align: right;\n",
              "    }\n",
              "</style>\n",
              "<table border=\"1\" class=\"dataframe\">\n",
              "  <thead>\n",
              "    <tr style=\"text-align: right;\">\n",
              "      <th></th>\n",
              "      <th>Site_Name</th>\n",
              "      <th>Group</th>\n",
              "      <th>Location</th>\n",
              "      <th>Soil_Classification</th>\n",
              "      <th>Latitude</th>\n",
              "      <th>Longitude</th>\n",
              "      <th>Date_of_Measurement</th>\n",
              "      <th>Start_Time_of_Chamber_Enclosure</th>\n",
              "      <th>End_Time_of_Chamber_Enclosure</th>\n",
              "      <th>Duration_of_Chamber_Enclosure</th>\n",
              "      <th>CH4_Flux</th>\n",
              "      <th>Long_Term CH4_Flux</th>\n",
              "      <th>d13CH4_source</th>\n",
              "      <th>LowerBound_d13CH4_source</th>\n",
              "      <th>UpperBound_d13CH4_source</th>\n",
              "      <th>CO2_Flux</th>\n",
              "      <th>Long_Term_CO2_Flux</th>\n",
              "      <th>d13CO2_source</th>\n",
              "      <th>LowerBound_d13CO2_source</th>\n",
              "      <th>UpperBound_d13CO2_source</th>\n",
              "    </tr>\n",
              "  </thead>\n",
              "  <tbody>\n",
              "    <tr>\n",
              "      <th>0</th>\n",
              "      <td>Porcelain Basin</td>\n",
              "      <td>North of Norris GB</td>\n",
              "      <td>PRCN_20Jun2018_1.1</td>\n",
              "      <td>Acid-Sulphate</td>\n",
              "      <td>44.744714</td>\n",
              "      <td>-110.712883</td>\n",
              "      <td>2018-06-20</td>\n",
              "      <td>2018-06-20 11:48:30</td>\n",
              "      <td>2018-06-20 12:08:00</td>\n",
              "      <td>19.500000</td>\n",
              "      <td>0.000174</td>\n",
              "      <td>0.00152353</td>\n",
              "      <td>7.140927</td>\n",
              "      <td>-142.064286</td>\n",
              "      <td>156.346140</td>\n",
              "      <td>214.948480</td>\n",
              "      <td>1.88424</td>\n",
              "      <td>-5.56615</td>\n",
              "      <td>-5.874057</td>\n",
              "      <td>-5.258235</td>\n",
              "    </tr>\n",
              "    <tr>\n",
              "      <th>1</th>\n",
              "      <td>Porcelain Basin</td>\n",
              "      <td>North of Norris GB</td>\n",
              "      <td>PRCN_20Jun2018_1.2</td>\n",
              "      <td>Acid-Sulphate</td>\n",
              "      <td>44.744758</td>\n",
              "      <td>-110.712736</td>\n",
              "      <td>2018-06-20</td>\n",
              "      <td>2018-06-20 12:22:30</td>\n",
              "      <td>2018-06-20 12:42:00</td>\n",
              "      <td>19.500000</td>\n",
              "      <td>-0.000784</td>\n",
              "      <td>-0.00687615</td>\n",
              "      <td>-116.362966</td>\n",
              "      <td>-386.473305</td>\n",
              "      <td>153.747374</td>\n",
              "      <td>437.632807</td>\n",
              "      <td>3.83629</td>\n",
              "      <td>-19.2932</td>\n",
              "      <td>-19.455798</td>\n",
              "      <td>-19.130683</td>\n",
              "    </tr>\n",
              "    <tr>\n",
              "      <th>2</th>\n",
              "      <td>Porcelain Basin</td>\n",
              "      <td>North of Norris GB</td>\n",
              "      <td>PRCN_20Jun2018_1.3</td>\n",
              "      <td>Acid-Sulphate</td>\n",
              "      <td>44.744814</td>\n",
              "      <td>-110.712583</td>\n",
              "      <td>2018-06-20</td>\n",
              "      <td>2018-06-20 12:56:30</td>\n",
              "      <td>2018-06-20 13:15:59</td>\n",
              "      <td>19.483333</td>\n",
              "      <td>-0.002367</td>\n",
              "      <td>-0.0207461</td>\n",
              "      <td>36.940010</td>\n",
              "      <td>-59.393456</td>\n",
              "      <td>133.273475</td>\n",
              "      <td>215.394469</td>\n",
              "      <td>1.88815</td>\n",
              "      <td>-23.4323</td>\n",
              "      <td>-23.717714</td>\n",
              "      <td>-23.146891</td>\n",
              "    </tr>\n",
              "    <tr>\n",
              "      <th>3</th>\n",
              "      <td>Porcelain Basin</td>\n",
              "      <td>North of Norris GB</td>\n",
              "      <td>PRCN_20Jun2018_2.1</td>\n",
              "      <td>Acid-Sulphate</td>\n",
              "      <td>44.744978</td>\n",
              "      <td>-110.712708</td>\n",
              "      <td>2018-06-20</td>\n",
              "      <td>2018-06-20 13:32:33</td>\n",
              "      <td>2018-06-20 13:51:57</td>\n",
              "      <td>19.400000</td>\n",
              "      <td>-0.001260</td>\n",
              "      <td>-0.011042</td>\n",
              "      <td>31.010437</td>\n",
              "      <td>-84.155527</td>\n",
              "      <td>146.176401</td>\n",
              "      <td>347.506806</td>\n",
              "      <td>3.04624</td>\n",
              "      <td>-22.9485</td>\n",
              "      <td>-23.139932</td>\n",
              "      <td>-22.756976</td>\n",
              "    </tr>\n",
              "    <tr>\n",
              "      <th>4</th>\n",
              "      <td>Porcelain Basin</td>\n",
              "      <td>North of Norris GB</td>\n",
              "      <td>PRCN_20Jun2018_2.2</td>\n",
              "      <td>Acid-Sulphate</td>\n",
              "      <td>44.745047</td>\n",
              "      <td>-110.712861</td>\n",
              "      <td>2018-06-20</td>\n",
              "      <td>2018-06-20 14:07:30</td>\n",
              "      <td>2018-06-20 14:27:00</td>\n",
              "      <td>19.500000</td>\n",
              "      <td>-0.000472</td>\n",
              "      <td>-0.00413946</td>\n",
              "      <td>317.581459</td>\n",
              "      <td>-88.692665</td>\n",
              "      <td>723.855582</td>\n",
              "      <td>350.528532</td>\n",
              "      <td>3.07273</td>\n",
              "      <td>-19.3013</td>\n",
              "      <td>-19.502787</td>\n",
              "      <td>-19.099911</td>\n",
              "    </tr>\n",
              "  </tbody>\n",
              "</table>\n",
              "</div>"
            ],
            "text/plain": [
              "         Site_Name  ... UpperBound_d13CO2_source\n",
              "0  Porcelain Basin  ...                -5.258235\n",
              "1  Porcelain Basin  ...               -19.130683\n",
              "2  Porcelain Basin  ...               -23.146891\n",
              "3  Porcelain Basin  ...               -22.756976\n",
              "4  Porcelain Basin  ...               -19.099911\n",
              "\n",
              "[5 rows x 20 columns]"
            ]
          },
          "metadata": {
            "tags": []
          },
          "execution_count": 17
        }
      ]
    },
    {
      "cell_type": "markdown",
      "metadata": {
        "id": "HWhy_TLT4P4j"
      },
      "source": [
        ""
      ]
    },
    {
      "cell_type": "code",
      "metadata": {
        "id": "Gt4i07-H4NkU",
        "colab": {
          "base_uri": "https://localhost:8080/",
          "height": 479
        },
        "outputId": "e2cbe409-19d4-4303-91e2-f7505334a1e9"
      },
      "source": [
        "# Preview 2019 DataFrame\r\n",
        "df_2019_YC.head()"
      ],
      "execution_count": 18,
      "outputs": [
        {
          "output_type": "execute_result",
          "data": {
            "text/html": [
              "<div>\n",
              "<style scoped>\n",
              "    .dataframe tbody tr th:only-of-type {\n",
              "        vertical-align: middle;\n",
              "    }\n",
              "\n",
              "    .dataframe tbody tr th {\n",
              "        vertical-align: top;\n",
              "    }\n",
              "\n",
              "    .dataframe thead th {\n",
              "        text-align: right;\n",
              "    }\n",
              "</style>\n",
              "<table border=\"1\" class=\"dataframe\">\n",
              "  <thead>\n",
              "    <tr style=\"text-align: right;\">\n",
              "      <th></th>\n",
              "      <th>Site_Name</th>\n",
              "      <th>Group</th>\n",
              "      <th>Location</th>\n",
              "      <th>Soil_Classification</th>\n",
              "      <th>Latitude</th>\n",
              "      <th>Longitude</th>\n",
              "      <th>Date_of_Measurement</th>\n",
              "      <th>Start_Time_of_Chamber_Enclosure</th>\n",
              "      <th>End_Time_of_Chamber_Enclosure</th>\n",
              "      <th>Duration_of_Chamber_Enclosure</th>\n",
              "      <th>CH4_Flux</th>\n",
              "      <th>Long_Term_CH4_Flux</th>\n",
              "      <th>d13CH4_source</th>\n",
              "      <th>LowerBound_d13CH4_source</th>\n",
              "      <th>UpperBound_d13CH4_source</th>\n",
              "      <th>CO2_Flux</th>\n",
              "      <th>Long_Term_CO2_Flux</th>\n",
              "      <th>d13CO2_source</th>\n",
              "      <th>LowerBound_d13CO2_source</th>\n",
              "      <th>UpperBound_d13CO2_source</th>\n",
              "    </tr>\n",
              "  </thead>\n",
              "  <tbody>\n",
              "    <tr>\n",
              "      <th>0</th>\n",
              "      <td>Gas Vents</td>\n",
              "      <td>Gas Vents (Solfatara Springs)</td>\n",
              "      <td>GVNT_06Jun2019_3.1</td>\n",
              "      <td>Acid-Sulphate</td>\n",
              "      <td>44.709504</td>\n",
              "      <td>-110.553566</td>\n",
              "      <td>2019-06-06</td>\n",
              "      <td>2019-06-06 11:15:48</td>\n",
              "      <td>2019-06-06 11:33:27</td>\n",
              "      <td>17.650000</td>\n",
              "      <td>-0.014203</td>\n",
              "      <td>-0.124503</td>\n",
              "      <td>-60.187106</td>\n",
              "      <td>-94.420223</td>\n",
              "      <td>-25.953990</td>\n",
              "      <td>61.602677</td>\n",
              "      <td>0.540009</td>\n",
              "      <td>-0.994721</td>\n",
              "      <td>-0.994721</td>\n",
              "      <td>4.339204</td>\n",
              "    </tr>\n",
              "    <tr>\n",
              "      <th>1</th>\n",
              "      <td>Gas Vents</td>\n",
              "      <td>Gas Vents (Solfatara Springs)</td>\n",
              "      <td>GVNT_06Jun2019_3.2</td>\n",
              "      <td>Acid-Sulphate</td>\n",
              "      <td>44.709732</td>\n",
              "      <td>-110.553658</td>\n",
              "      <td>2019-06-06</td>\n",
              "      <td>2019-06-06 11:49:57</td>\n",
              "      <td>2019-06-06 12:04:49</td>\n",
              "      <td>14.866667</td>\n",
              "      <td>0.245512</td>\n",
              "      <td>2.15215</td>\n",
              "      <td>-11.702293</td>\n",
              "      <td>-14.309306</td>\n",
              "      <td>-9.095280</td>\n",
              "      <td>1998.611542</td>\n",
              "      <td>17.5198</td>\n",
              "      <td>-4.19908</td>\n",
              "      <td>-4.199076</td>\n",
              "      <td>-4.041347</td>\n",
              "    </tr>\n",
              "    <tr>\n",
              "      <th>2</th>\n",
              "      <td>Gas Vents</td>\n",
              "      <td>Gas Vents (Solfatara Springs)</td>\n",
              "      <td>GVNT_06Jun2019_3.3</td>\n",
              "      <td>Acid-Sulphate</td>\n",
              "      <td>44.709816</td>\n",
              "      <td>-110.553599</td>\n",
              "      <td>2019-06-06</td>\n",
              "      <td>2019-06-06 12:26:56</td>\n",
              "      <td>2019-06-06 12:35:29</td>\n",
              "      <td>8.550000</td>\n",
              "      <td>1.926425</td>\n",
              "      <td>16.887</td>\n",
              "      <td>-30.881871</td>\n",
              "      <td>-31.858541</td>\n",
              "      <td>-29.905202</td>\n",
              "      <td>3759.525151</td>\n",
              "      <td>32.956</td>\n",
              "      <td>-6.3691</td>\n",
              "      <td>-6.369096</td>\n",
              "      <td>-6.133900</td>\n",
              "    </tr>\n",
              "    <tr>\n",
              "      <th>3</th>\n",
              "      <td>Gas Vents</td>\n",
              "      <td>Gas Vents (Solfatara Springs)</td>\n",
              "      <td>GVNT_06Jun2019_4.1</td>\n",
              "      <td>Acid-Sulphate</td>\n",
              "      <td>44.711171</td>\n",
              "      <td>-110.553609</td>\n",
              "      <td>2019-06-06</td>\n",
              "      <td>2019-06-06 13:59:30</td>\n",
              "      <td>2019-06-06 14:01:43</td>\n",
              "      <td>2.216667</td>\n",
              "      <td>9.773651</td>\n",
              "      <td>85.6758</td>\n",
              "      <td>-26.744295</td>\n",
              "      <td>-28.521085</td>\n",
              "      <td>-24.967505</td>\n",
              "      <td>15562.486763</td>\n",
              "      <td>136.421</td>\n",
              "      <td>-9.25684</td>\n",
              "      <td>-9.256836</td>\n",
              "      <td>-3.472577</td>\n",
              "    </tr>\n",
              "    <tr>\n",
              "      <th>4</th>\n",
              "      <td>Gas Vents</td>\n",
              "      <td>Gas Vents (Solfatara Springs)</td>\n",
              "      <td>GVNT_06Jun2019_4.2</td>\n",
              "      <td>Acid-Sulphate</td>\n",
              "      <td>44.711273</td>\n",
              "      <td>-110.553768</td>\n",
              "      <td>2019-06-06</td>\n",
              "      <td>2019-06-06 14:27:20</td>\n",
              "      <td>2019-06-06 14:33:03</td>\n",
              "      <td>5.716667</td>\n",
              "      <td>4.062640</td>\n",
              "      <td>35.6131</td>\n",
              "      <td>-30.258069</td>\n",
              "      <td>-30.961868</td>\n",
              "      <td>-29.554269</td>\n",
              "      <td>5666.133748</td>\n",
              "      <td>49.6693</td>\n",
              "      <td>4.18146</td>\n",
              "      <td>4.181460</td>\n",
              "      <td>7.970357</td>\n",
              "    </tr>\n",
              "  </tbody>\n",
              "</table>\n",
              "</div>"
            ],
            "text/plain": [
              "   Site_Name  ... UpperBound_d13CO2_source\n",
              "0  Gas Vents  ...                 4.339204\n",
              "1  Gas Vents  ...                -4.041347\n",
              "2  Gas Vents  ...                -6.133900\n",
              "3  Gas Vents  ...                -3.472577\n",
              "4  Gas Vents  ...                 7.970357\n",
              "\n",
              "[5 rows x 20 columns]"
            ]
          },
          "metadata": {
            "tags": []
          },
          "execution_count": 18
        }
      ]
    },
    {
      "cell_type": "markdown",
      "metadata": {
        "id": "5E0-NwOtgbnS"
      },
      "source": [
        ""
      ]
    },
    {
      "cell_type": "code",
      "metadata": {
        "colab": {
          "base_uri": "https://localhost:8080/"
        },
        "id": "4r_lWruKd2vK",
        "outputId": "02c0ff6c-f9bc-4a78-a97b-16d736890925"
      },
      "source": [
        "# Concatenate 2018 & 2019 dataframes\r\n",
        "df_YC_all = pd.concat([df_2018_YC, df_2019_YC], ignore_index=True)\r\n",
        "\r\n",
        "# Preview dataframe dimensions\r\n",
        "df_YC_all.shape"
      ],
      "execution_count": 19,
      "outputs": [
        {
          "output_type": "execute_result",
          "data": {
            "text/plain": [
              "(154, 21)"
            ]
          },
          "metadata": {
            "tags": []
          },
          "execution_count": 19
        }
      ]
    },
    {
      "cell_type": "code",
      "metadata": {
        "id": "KZPhJhvQAQIM"
      },
      "source": [
        "# Convert Fluxes to mass m-2 per day\r\n",
        "df_YC_all[\"CH4_Flux\"] = df_YC_all.CH4_Flux * 24\r\n",
        "df_YC_all[\"CO2_Flux\"] = df_YC_all.CO2_Flux * 24"
      ],
      "execution_count": 20,
      "outputs": []
    },
    {
      "cell_type": "markdown",
      "metadata": {
        "id": "_bfmGvhKnhkT"
      },
      "source": [
        "## Visualize flux and isotope compositions\r\n",
        "To begin the exploratory data analysis process, we will visualize the two variables of interest, fluxes and carbon isotope (δ<sup>13</sup>C) compositions. The analysis will begin with site-by-site analysis and then examine geochemical groups."
      ]
    },
    {
      "cell_type": "code",
      "metadata": {
        "colab": {
          "base_uri": "https://localhost:8080/"
        },
        "id": "v55owDKUOCBk",
        "outputId": "f752ec69-7adf-44f3-9bdd-ba0b5abbae8a"
      },
      "source": [
        "# Connect to Google Drive\r\n",
        "from google.colab import drive\r\n",
        "drive.mount('/content/gdrive')"
      ],
      "execution_count": 21,
      "outputs": [
        {
          "output_type": "stream",
          "text": [
            "Mounted at /content/gdrive\n"
          ],
          "name": "stdout"
        }
      ]
    },
    {
      "cell_type": "code",
      "metadata": {
        "colab": {
          "base_uri": "https://localhost:8080/"
        },
        "id": "caPYwykEMri3",
        "outputId": "7aac6825-7013-4f56-c7ee-536fe5367f9e"
      },
      "source": [
        "# Point directory to correct place\r\n",
        "%cd /content/gdrive/My Drive/Colab Notebooks/caldera-gases"
      ],
      "execution_count": 22,
      "outputs": [
        {
          "output_type": "stream",
          "text": [
            "/content/gdrive/My Drive/Colab Notebooks/caldera-gases\n"
          ],
          "name": "stdout"
        }
      ]
    },
    {
      "cell_type": "markdown",
      "metadata": {
        "id": "ezS0uQ8me5t8"
      },
      "source": [
        "### Descriptive Statistics"
      ]
    },
    {
      "cell_type": "code",
      "metadata": {
        "colab": {
          "base_uri": "https://localhost:8080/",
          "height": 317
        },
        "id": "YGNTsxQSTGgL",
        "outputId": "a4b42522-f7a8-4094-8c20-cb09b090ee88"
      },
      "source": [
        "# Descriptive statistics for numeric data\r\n",
        "df_YC_descrip = df_YC_all.describe(include=[np.number])\r\n",
        "df_YC_descrip"
      ],
      "execution_count": 23,
      "outputs": [
        {
          "output_type": "execute_result",
          "data": {
            "text/html": [
              "<div>\n",
              "<style scoped>\n",
              "    .dataframe tbody tr th:only-of-type {\n",
              "        vertical-align: middle;\n",
              "    }\n",
              "\n",
              "    .dataframe tbody tr th {\n",
              "        vertical-align: top;\n",
              "    }\n",
              "\n",
              "    .dataframe thead th {\n",
              "        text-align: right;\n",
              "    }\n",
              "</style>\n",
              "<table border=\"1\" class=\"dataframe\">\n",
              "  <thead>\n",
              "    <tr style=\"text-align: right;\">\n",
              "      <th></th>\n",
              "      <th>Latitude</th>\n",
              "      <th>Longitude</th>\n",
              "      <th>Duration_of_Chamber_Enclosure</th>\n",
              "      <th>CH4_Flux</th>\n",
              "      <th>d13CH4_source</th>\n",
              "      <th>LowerBound_d13CH4_source</th>\n",
              "      <th>UpperBound_d13CH4_source</th>\n",
              "      <th>CO2_Flux</th>\n",
              "      <th>LowerBound_d13CO2_source</th>\n",
              "      <th>UpperBound_d13CO2_source</th>\n",
              "    </tr>\n",
              "  </thead>\n",
              "  <tbody>\n",
              "    <tr>\n",
              "      <th>count</th>\n",
              "      <td>146.000000</td>\n",
              "      <td>146.000000</td>\n",
              "      <td>147.000000</td>\n",
              "      <td>147.000000</td>\n",
              "      <td>147.000000</td>\n",
              "      <td>147.000000</td>\n",
              "      <td>147.000000</td>\n",
              "      <td>147.000000</td>\n",
              "      <td>147.000000</td>\n",
              "      <td>147.000000</td>\n",
              "    </tr>\n",
              "    <tr>\n",
              "      <th>mean</th>\n",
              "      <td>44.638405</td>\n",
              "      <td>-110.623380</td>\n",
              "      <td>13.666327</td>\n",
              "      <td>19.241308</td>\n",
              "      <td>-34.102750</td>\n",
              "      <td>-89.900414</td>\n",
              "      <td>21.922635</td>\n",
              "      <td>51126.039486</td>\n",
              "      <td>-9.605762</td>\n",
              "      <td>-5.793381</td>\n",
              "    </tr>\n",
              "    <tr>\n",
              "      <th>std</th>\n",
              "      <td>0.159328</td>\n",
              "      <td>0.192855</td>\n",
              "      <td>6.760053</td>\n",
              "      <td>48.397572</td>\n",
              "      <td>49.404711</td>\n",
              "      <td>87.000758</td>\n",
              "      <td>93.665903</td>\n",
              "      <td>79853.558222</td>\n",
              "      <td>21.651186</td>\n",
              "      <td>22.424012</td>\n",
              "    </tr>\n",
              "    <tr>\n",
              "      <th>min</th>\n",
              "      <td>44.415900</td>\n",
              "      <td>-110.846600</td>\n",
              "      <td>1.850000</td>\n",
              "      <td>-0.843960</td>\n",
              "      <td>-178.100408</td>\n",
              "      <td>-492.474963</td>\n",
              "      <td>-70.815084</td>\n",
              "      <td>-598.603106</td>\n",
              "      <td>-173.795614</td>\n",
              "      <td>-167.145707</td>\n",
              "    </tr>\n",
              "    <tr>\n",
              "      <th>25%</th>\n",
              "      <td>44.470500</td>\n",
              "      <td>-110.806275</td>\n",
              "      <td>7.900000</td>\n",
              "      <td>-0.170222</td>\n",
              "      <td>-57.562841</td>\n",
              "      <td>-113.723317</td>\n",
              "      <td>-22.505913</td>\n",
              "      <td>1113.243711</td>\n",
              "      <td>-14.538849</td>\n",
              "      <td>-10.342205</td>\n",
              "    </tr>\n",
              "    <tr>\n",
              "      <th>50%</th>\n",
              "      <td>44.647300</td>\n",
              "      <td>-110.703405</td>\n",
              "      <td>14.866667</td>\n",
              "      <td>0.055147</td>\n",
              "      <td>-28.278966</td>\n",
              "      <td>-73.433362</td>\n",
              "      <td>-6.683255</td>\n",
              "      <td>9911.238192</td>\n",
              "      <td>-5.563228</td>\n",
              "      <td>-3.548296</td>\n",
              "    </tr>\n",
              "    <tr>\n",
              "      <th>75%</th>\n",
              "      <td>44.723408</td>\n",
              "      <td>-110.552514</td>\n",
              "      <td>19.750000</td>\n",
              "      <td>17.819436</td>\n",
              "      <td>-16.712272</td>\n",
              "      <td>-25.768953</td>\n",
              "      <td>42.239005</td>\n",
              "      <td>57516.476436</td>\n",
              "      <td>-1.916186</td>\n",
              "      <td>0.205694</td>\n",
              "    </tr>\n",
              "    <tr>\n",
              "      <th>max</th>\n",
              "      <td>44.972700</td>\n",
              "      <td>-110.219897</td>\n",
              "      <td>30.300000</td>\n",
              "      <td>337.107570</td>\n",
              "      <td>317.581459</td>\n",
              "      <td>22.629418</td>\n",
              "      <td>723.855582</td>\n",
              "      <td>422852.024070</td>\n",
              "      <td>50.591769</td>\n",
              "      <td>73.909350</td>\n",
              "    </tr>\n",
              "  </tbody>\n",
              "</table>\n",
              "</div>"
            ],
            "text/plain": [
              "         Latitude  ...  UpperBound_d13CO2_source\n",
              "count  146.000000  ...                147.000000\n",
              "mean    44.638405  ...                 -5.793381\n",
              "std      0.159328  ...                 22.424012\n",
              "min     44.415900  ...               -167.145707\n",
              "25%     44.470500  ...                -10.342205\n",
              "50%     44.647300  ...                 -3.548296\n",
              "75%     44.723408  ...                  0.205694\n",
              "max     44.972700  ...                 73.909350\n",
              "\n",
              "[8 rows x 10 columns]"
            ]
          },
          "metadata": {
            "tags": []
          },
          "execution_count": 23
        }
      ]
    },
    {
      "cell_type": "code",
      "metadata": {
        "colab": {
          "base_uri": "https://localhost:8080/",
          "height": 591
        },
        "id": "8bZYWHCnUJpu",
        "outputId": "0dfddbd4-bcf7-426f-e5c8-77bea9868017"
      },
      "source": [
        "# Descriptive Stats by Group\r\n",
        "df_YC_descrip_grp = df_YC_all.groupby(by=[\"Group\", \"Soil_Classification\"])[[\"CH4_Flux\", \"CO2_Flux\"]].describe()\r\n",
        "df_YC_descrip_grp"
      ],
      "execution_count": 25,
      "outputs": [
        {
          "output_type": "execute_result",
          "data": {
            "text/html": [
              "<div>\n",
              "<style scoped>\n",
              "    .dataframe tbody tr th:only-of-type {\n",
              "        vertical-align: middle;\n",
              "    }\n",
              "\n",
              "    .dataframe tbody tr th {\n",
              "        vertical-align: top;\n",
              "    }\n",
              "\n",
              "    .dataframe thead tr th {\n",
              "        text-align: left;\n",
              "    }\n",
              "\n",
              "    .dataframe thead tr:last-of-type th {\n",
              "        text-align: right;\n",
              "    }\n",
              "</style>\n",
              "<table border=\"1\" class=\"dataframe\">\n",
              "  <thead>\n",
              "    <tr>\n",
              "      <th></th>\n",
              "      <th></th>\n",
              "      <th colspan=\"8\" halign=\"left\">CH4_Flux</th>\n",
              "      <th colspan=\"8\" halign=\"left\">CO2_Flux</th>\n",
              "    </tr>\n",
              "    <tr>\n",
              "      <th></th>\n",
              "      <th></th>\n",
              "      <th>count</th>\n",
              "      <th>mean</th>\n",
              "      <th>std</th>\n",
              "      <th>min</th>\n",
              "      <th>25%</th>\n",
              "      <th>50%</th>\n",
              "      <th>75%</th>\n",
              "      <th>max</th>\n",
              "      <th>count</th>\n",
              "      <th>mean</th>\n",
              "      <th>std</th>\n",
              "      <th>min</th>\n",
              "      <th>25%</th>\n",
              "      <th>50%</th>\n",
              "      <th>75%</th>\n",
              "      <th>max</th>\n",
              "    </tr>\n",
              "    <tr>\n",
              "      <th>Group</th>\n",
              "      <th>Soil_Classification</th>\n",
              "      <th></th>\n",
              "      <th></th>\n",
              "      <th></th>\n",
              "      <th></th>\n",
              "      <th></th>\n",
              "      <th></th>\n",
              "      <th></th>\n",
              "      <th></th>\n",
              "      <th></th>\n",
              "      <th></th>\n",
              "      <th></th>\n",
              "      <th></th>\n",
              "      <th></th>\n",
              "      <th></th>\n",
              "      <th></th>\n",
              "      <th></th>\n",
              "    </tr>\n",
              "  </thead>\n",
              "  <tbody>\n",
              "    <tr>\n",
              "      <th rowspan=\"2\" valign=\"top\">Eastern Yellowstone</th>\n",
              "      <th>Acid-Sulphate</th>\n",
              "      <td>15.0</td>\n",
              "      <td>54.173216</td>\n",
              "      <td>114.309175</td>\n",
              "      <td>-0.420069</td>\n",
              "      <td>1.143577</td>\n",
              "      <td>13.883326</td>\n",
              "      <td>27.845346</td>\n",
              "      <td>337.107570</td>\n",
              "      <td>15.0</td>\n",
              "      <td>71893.974661</td>\n",
              "      <td>80664.818772</td>\n",
              "      <td>-329.077088</td>\n",
              "      <td>-94.830514</td>\n",
              "      <td>72628.608251</td>\n",
              "      <td>109888.703637</td>\n",
              "      <td>287760.462839</td>\n",
              "    </tr>\n",
              "    <tr>\n",
              "      <th>Unclassified</th>\n",
              "      <td>8.0</td>\n",
              "      <td>-0.211805</td>\n",
              "      <td>0.380172</td>\n",
              "      <td>-0.798543</td>\n",
              "      <td>-0.369666</td>\n",
              "      <td>-0.209717</td>\n",
              "      <td>-0.139299</td>\n",
              "      <td>0.534097</td>\n",
              "      <td>8.0</td>\n",
              "      <td>13133.541052</td>\n",
              "      <td>10351.135999</td>\n",
              "      <td>-49.267884</td>\n",
              "      <td>4575.986070</td>\n",
              "      <td>12854.305107</td>\n",
              "      <td>19455.952759</td>\n",
              "      <td>27368.656860</td>\n",
              "    </tr>\n",
              "    <tr>\n",
              "      <th>Gas Vents (Solfatara Springs)</th>\n",
              "      <th>Acid-Sulphate</th>\n",
              "      <td>23.0</td>\n",
              "      <td>49.449179</td>\n",
              "      <td>60.493201</td>\n",
              "      <td>-0.340870</td>\n",
              "      <td>3.262782</td>\n",
              "      <td>12.063484</td>\n",
              "      <td>88.747851</td>\n",
              "      <td>234.567631</td>\n",
              "      <td>23.0</td>\n",
              "      <td>147712.252514</td>\n",
              "      <td>119299.275049</td>\n",
              "      <td>1478.464239</td>\n",
              "      <td>69097.640316</td>\n",
              "      <td>127608.893560</td>\n",
              "      <td>200040.810370</td>\n",
              "      <td>422852.024070</td>\n",
              "    </tr>\n",
              "    <tr>\n",
              "      <th>Lower GB</th>\n",
              "      <th>Neutral-Chloride</th>\n",
              "      <td>8.0</td>\n",
              "      <td>-0.207874</td>\n",
              "      <td>0.170713</td>\n",
              "      <td>-0.380380</td>\n",
              "      <td>-0.308486</td>\n",
              "      <td>-0.289654</td>\n",
              "      <td>-0.116851</td>\n",
              "      <td>0.118733</td>\n",
              "      <td>8.0</td>\n",
              "      <td>2214.727445</td>\n",
              "      <td>1408.994853</td>\n",
              "      <td>559.887394</td>\n",
              "      <td>1236.283391</td>\n",
              "      <td>1927.992578</td>\n",
              "      <td>2932.467663</td>\n",
              "      <td>4899.157829</td>\n",
              "    </tr>\n",
              "    <tr>\n",
              "      <th>Mammoth HS</th>\n",
              "      <th>Travertine</th>\n",
              "      <td>10.0</td>\n",
              "      <td>-0.371400</td>\n",
              "      <td>0.256857</td>\n",
              "      <td>-0.843960</td>\n",
              "      <td>-0.505444</td>\n",
              "      <td>-0.352007</td>\n",
              "      <td>-0.186693</td>\n",
              "      <td>-0.050672</td>\n",
              "      <td>10.0</td>\n",
              "      <td>71599.248338</td>\n",
              "      <td>84893.247358</td>\n",
              "      <td>563.548365</td>\n",
              "      <td>6825.983204</td>\n",
              "      <td>32171.036819</td>\n",
              "      <td>121029.172155</td>\n",
              "      <td>233429.837175</td>\n",
              "    </tr>\n",
              "    <tr>\n",
              "      <th>Mud Volcano</th>\n",
              "      <th>Acid-Sulphate</th>\n",
              "      <td>10.0</td>\n",
              "      <td>2.432698</td>\n",
              "      <td>4.509947</td>\n",
              "      <td>-0.546462</td>\n",
              "      <td>-0.207714</td>\n",
              "      <td>0.083199</td>\n",
              "      <td>3.124459</td>\n",
              "      <td>13.104497</td>\n",
              "      <td>10.0</td>\n",
              "      <td>95198.712642</td>\n",
              "      <td>67875.159973</td>\n",
              "      <td>1334.416899</td>\n",
              "      <td>44742.722111</td>\n",
              "      <td>78384.768638</td>\n",
              "      <td>161126.898062</td>\n",
              "      <td>188859.551626</td>\n",
              "    </tr>\n",
              "    <tr>\n",
              "      <th>Norris GB</th>\n",
              "      <th>Neutral-Chloride</th>\n",
              "      <td>21.0</td>\n",
              "      <td>33.290316</td>\n",
              "      <td>17.129644</td>\n",
              "      <td>-0.385322</td>\n",
              "      <td>39.702120</td>\n",
              "      <td>41.396279</td>\n",
              "      <td>43.201821</td>\n",
              "      <td>44.509155</td>\n",
              "      <td>21.0</td>\n",
              "      <td>40956.136404</td>\n",
              "      <td>20109.509967</td>\n",
              "      <td>489.595421</td>\n",
              "      <td>47825.143628</td>\n",
              "      <td>50111.788096</td>\n",
              "      <td>52443.398422</td>\n",
              "      <td>54755.474303</td>\n",
              "    </tr>\n",
              "    <tr>\n",
              "      <th>North of Norris GB</th>\n",
              "      <th>Acid-Sulphate</th>\n",
              "      <td>8.0</td>\n",
              "      <td>-0.039087</td>\n",
              "      <td>0.125033</td>\n",
              "      <td>-0.325954</td>\n",
              "      <td>-0.036873</td>\n",
              "      <td>-0.015080</td>\n",
              "      <td>0.009563</td>\n",
              "      <td>0.100536</td>\n",
              "      <td>8.0</td>\n",
              "      <td>31824.017263</td>\n",
              "      <td>63842.042904</td>\n",
              "      <td>5158.763526</td>\n",
              "      <td>7547.489323</td>\n",
              "      <td>8690.340207</td>\n",
              "      <td>12516.452319</td>\n",
              "      <td>189483.629032</td>\n",
              "    </tr>\n",
              "    <tr>\n",
              "      <th>Terrace Springs</th>\n",
              "      <th>Travertine</th>\n",
              "      <td>6.0</td>\n",
              "      <td>-0.047813</td>\n",
              "      <td>0.023763</td>\n",
              "      <td>-0.071337</td>\n",
              "      <td>-0.066860</td>\n",
              "      <td>-0.050531</td>\n",
              "      <td>-0.034969</td>\n",
              "      <td>-0.012393</td>\n",
              "      <td>6.0</td>\n",
              "      <td>870.071119</td>\n",
              "      <td>644.865713</td>\n",
              "      <td>247.959333</td>\n",
              "      <td>552.029249</td>\n",
              "      <td>657.997169</td>\n",
              "      <td>963.491157</td>\n",
              "      <td>2074.443951</td>\n",
              "    </tr>\n",
              "    <tr>\n",
              "      <th>Upper GB</th>\n",
              "      <th>Neutral-Chloride</th>\n",
              "      <td>27.0</td>\n",
              "      <td>5.050003</td>\n",
              "      <td>8.609298</td>\n",
              "      <td>-0.447252</td>\n",
              "      <td>-0.177887</td>\n",
              "      <td>-0.081124</td>\n",
              "      <td>9.751083</td>\n",
              "      <td>28.122441</td>\n",
              "      <td>27.0</td>\n",
              "      <td>3652.161675</td>\n",
              "      <td>5425.231962</td>\n",
              "      <td>-129.272451</td>\n",
              "      <td>111.222949</td>\n",
              "      <td>564.750828</td>\n",
              "      <td>6171.680251</td>\n",
              "      <td>18430.704840</td>\n",
              "    </tr>\n",
              "    <tr>\n",
              "      <th>West Thumb GB</th>\n",
              "      <th>Neutral-Chloride</th>\n",
              "      <td>11.0</td>\n",
              "      <td>2.403653</td>\n",
              "      <td>7.968793</td>\n",
              "      <td>-0.200572</td>\n",
              "      <td>-0.131901</td>\n",
              "      <td>-0.082189</td>\n",
              "      <td>0.108850</td>\n",
              "      <td>26.418348</td>\n",
              "      <td>11.0</td>\n",
              "      <td>2770.074942</td>\n",
              "      <td>2928.592689</td>\n",
              "      <td>-598.603106</td>\n",
              "      <td>705.244601</td>\n",
              "      <td>2577.566579</td>\n",
              "      <td>2577.566579</td>\n",
              "      <td>8383.322477</td>\n",
              "    </tr>\n",
              "  </tbody>\n",
              "</table>\n",
              "</div>"
            ],
            "text/plain": [
              "                                                  CH4_Flux  ...       CO2_Flux\n",
              "                                                     count  ...            max\n",
              "Group                         Soil_Classification           ...               \n",
              "Eastern Yellowstone           Acid-Sulphate           15.0  ...  287760.462839\n",
              "                              Unclassified             8.0  ...   27368.656860\n",
              "Gas Vents (Solfatara Springs) Acid-Sulphate           23.0  ...  422852.024070\n",
              "Lower GB                      Neutral-Chloride         8.0  ...    4899.157829\n",
              "Mammoth HS                    Travertine              10.0  ...  233429.837175\n",
              "Mud Volcano                   Acid-Sulphate           10.0  ...  188859.551626\n",
              "Norris GB                     Neutral-Chloride        21.0  ...   54755.474303\n",
              "North of Norris GB            Acid-Sulphate            8.0  ...  189483.629032\n",
              "Terrace Springs               Travertine               6.0  ...    2074.443951\n",
              "Upper GB                      Neutral-Chloride        27.0  ...   18430.704840\n",
              "West Thumb GB                 Neutral-Chloride        11.0  ...    8383.322477\n",
              "\n",
              "[11 rows x 16 columns]"
            ]
          },
          "metadata": {
            "tags": []
          },
          "execution_count": 25
        }
      ]
    },
    {
      "cell_type": "markdown",
      "metadata": {
        "id": "lWIuSjcTe_Zj"
      },
      "source": [
        "### Flux and δ<sup>13</sup>C Summary"
      ]
    },
    {
      "cell_type": "code",
      "metadata": {
        "colab": {
          "base_uri": "https://localhost:8080/",
          "height": 1000
        },
        "id": "Kuwu1NOKnJ1y",
        "outputId": "0e27767f-1999-48a5-c0d1-8696cb3e3b3a"
      },
      "source": [
        "# Import axis formatting package\r\n",
        "import matplotlib.ticker as ticker\r\n",
        "\r\n",
        "# Set theme (e.g., visual style, color pallette, etc.)\r\n",
        "sns.set_theme(context=\"paper\", style=\"darkgrid\", palette=\"dark\")\r\n",
        "\r\n",
        "# Boxplot fluxes by group (i.e. site)\r\n",
        "## CH4\r\n",
        "p_CH4_flx = sns.catplot(x=\"CH4_Flux\", y=\"Group\", data=df_YC_all,\r\n",
        "            kind=\"strip\",hue=\"Soil_Classification\",\r\n",
        "            orient=\"h\", height=8, aspect=0.8)\r\n",
        "p_CH4_flx.set_axis_labels(\"CH$_4$ mg m$^{-2}$ day$^{-1}$\", \"\")\r\n",
        "#p_CH4_flx.set(xscale=\"log\")\r\n",
        "# Save plot to Google Drive Directory\r\n",
        "plt.savefig(\"figures/CH4_flx_swarm.png\", dpi=300)\r\n",
        "\r\n",
        "## CO2\r\n",
        "p_CO2_flx = sns.catplot(x=\"CO2_Flux\", y=\"Group\", data=df_YC_all,\r\n",
        "            kind=\"strip\",hue=\"Soil_Classification\",\r\n",
        "            orient=\"h\", height=8, aspect=0.8)\r\n",
        "p_CO2_flx.set_axis_labels(\"CO$_2$ mg m$^{-2}$ day$^{-1}$\", \"\")\r\n",
        "for ax in p_CO2_flx.axes.flat:\r\n",
        "    ax.xaxis.set_major_formatter(ticker.FuncFormatter(lambda y, p: f'{y:2.0e}'))\r\n",
        "plt.savefig(\"figures/CO2_flx_swarm.png\", dpi=300)"
      ],
      "execution_count": 26,
      "outputs": [
        {
          "output_type": "display_data",
          "data": {
            "image/png": "[encoded data removed]",
            "text/plain": [
              "<Figure size 564.48x576 with 1 Axes>"
            ]
          },
          "metadata": {
            "tags": []
          }
        },
        {
          "output_type": "display_data",
          "data": {
            "image/png": "[encoded data removed]",
            "text/plain": [
              "<Figure size 564.48x576 with 1 Axes>"
            ]
          },
          "metadata": {
            "tags": []
          }
        }
      ]
    },
    {
      "cell_type": "markdown",
      "metadata": {
        "id": "1peuV1mDOszs"
      },
      "source": [
        "\r\n",
        "Flux Figure: Strip plots of fluxes collected across Yellowstone and sorted by groups as they are presented in Bergfeld et al. (2011) and Chiodini et al. (2012). The data are sorted by their geothermal classification. \r\n",
        "\r\n",
        "The strip plots of CH4 and CO2 fluxes (Figure ##) highlight the extent to which fluxes can vary at each site. There was a wide range of CH4 flux observations (19.24 ± 48.40 mg m<sup>-2</sup> day<sup>-1</sup>) with the maximum value (337 mg m<sup>-2</sup> day<sup>-1</sup>) occuring in the eastern portion of the park (coordinates?). These exceptionally high fluxes occurred in regions supported by previous reports (Werner). In particular, acid-sulphate patches along the East Entrance Road oustide of the caldera boundary, CH4 fluxes were very high (54.17 ± 114.31 mg m<sup>-2</sup> day<sup>-1</sup> ). Similary within Gas Vents (also known as Solfatara Springs), fluxes of CH4 varied greately but were also great in magnitude as well (49.45 ± 69.49 <sup>-2</sup> day<sup>-1</sup>). Apart from the high fluxes that occured in the eastern portion of YNP, most CH4 fluxes were relatively low (≤ 6 mg <sup>-2</sup> day<sup>-1</sup>) across YNP.\r\n",
        "\r\n",
        "These CO2 flux data align with previous work conducted by Wener and Brantley (2003), where the neutral-chloride sections were low in CO2 fluxes and the acid-sulphate regions distinguished themselves with higher fluxes (Figure ##). Results from this study at Mud Volacano (95.20 ± 67.88 g <sup>-2</sup> day<sup>-1</sup>) are within the same order of magnitude presented in Werner and Brantley (2003). However, measurements in the acid-sulphate region at Gas Vents (147.71 ± 119.30 g <sup>-2</sup> day<sup>-1</sup>) eclipse the Mud Volcano."
      ]
    },
    {
      "cell_type": "markdown",
      "metadata": {
        "id": "kyRBVSX0e1r3"
      },
      "source": [
        "Now, let's visualize the carbon isotopes. We will do this within the landscape of associated fluxes through a scatter plot."
      ]
    },
    {
      "cell_type": "code",
      "metadata": {
        "colab": {
          "base_uri": "https://localhost:8080/",
          "height": 411
        },
        "id": "W5oVTmtNfaHB",
        "outputId": "8eeb5bf0-d066-4a8a-ea85-cfc8e7708f37"
      },
      "source": [
        "# Scatter plot for d13C vs Fluxes\r\n",
        "## CH4\r\n",
        "plt.figure(figsize=(8,6))\r\n",
        "ax = sns.scatterplot(x=\"CH4_Flux\", y=\"d13CH4_source\", data=df_YC_all,\r\n",
        "                                 hue=\"Soil_Classification\")\r\n",
        "ax.set(xlabel=\"CH$_4$ Flux (mg m$^{-2}$ day$^{-1}$)\",\r\n",
        "       ylabel=\"$\\delta^{13}$C-CH$_4$ (‰)\")\r\n",
        "plt.show()\r\n",
        "plt.savefig(\"figures/CH4_d13_flx_all.png\", dpi=300)"
      ],
      "execution_count": 27,
      "outputs": [
        {
          "output_type": "display_data",
          "data": {
            "image/png": "[encoded data removed]",
            "text/plain": [
              "<Figure size 576x432 with 1 Axes>"
            ]
          },
          "metadata": {
            "tags": []
          }
        },
        {
          "output_type": "display_data",
          "data": {
            "text/plain": [
              "<Figure size 432x288 with 0 Axes>"
            ]
          },
          "metadata": {
            "tags": []
          }
        }
      ]
    },
    {
      "cell_type": "code",
      "metadata": {
        "colab": {
          "base_uri": "https://localhost:8080/",
          "height": 581
        },
        "id": "PhNlkeRWIH67",
        "outputId": "fab462c2-1f62-4df4-b995-c65d47f3d70e"
      },
      "source": [
        "# Create trimmed dataframe (use isotopes to trim)\r\n",
        "df_YC_iso_trim = df_YC_all[(df_YC_all[\"d13CH4_source\"] <= 0) &\r\n",
        "                            (df_YC_all[\"d13CH4_source\"] >= -100) &\r\n",
        "                            (df_YC_all[\"d13CO2_source\"] <= 0) &\r\n",
        "                            (df_YC_all[\"d13CO2_source\"] >= -100)]\r\n",
        "# Quantify the error for the isotopes                            \r\n",
        "df_YC_iso_trim[\"d13CH4_err\"] = df_YC_iso_trim.UpperBound_d13CH4_source - df_YC_iso_trim.LowerBound_d13CH4_source\r\n",
        "df_YC_iso_trim[\"d13CO2_err\"] = df_YC_iso_trim.UpperBound_d13CO2_source - df_YC_iso_trim.LowerBound_d13CO2_source                               \r\n",
        "df_YC_iso_trim.head()"
      ],
      "execution_count": 28,
      "outputs": [
        {
          "output_type": "stream",
          "text": [
            "/usr/local/lib/python3.6/dist-packages/ipykernel_launcher.py:7: SettingWithCopyWarning: \n",
            "A value is trying to be set on a copy of a slice from a DataFrame.\n",
            "Try using .loc[row_indexer,col_indexer] = value instead\n",
            "\n",
            "See the caveats in the documentation: https://pandas.pydata.org/pandas-docs/stable/user_guide/indexing.html#returning-a-view-versus-a-copy\n",
            "  import sys\n",
            "/usr/local/lib/python3.6/dist-packages/ipykernel_launcher.py:8: SettingWithCopyWarning: \n",
            "A value is trying to be set on a copy of a slice from a DataFrame.\n",
            "Try using .loc[row_indexer,col_indexer] = value instead\n",
            "\n",
            "See the caveats in the documentation: https://pandas.pydata.org/pandas-docs/stable/user_guide/indexing.html#returning-a-view-versus-a-copy\n",
            "  \n"
          ],
          "name": "stderr"
        },
        {
          "output_type": "execute_result",
          "data": {
            "text/html": [
              "<div>\n",
              "<style scoped>\n",
              "    .dataframe tbody tr th:only-of-type {\n",
              "        vertical-align: middle;\n",
              "    }\n",
              "\n",
              "    .dataframe tbody tr th {\n",
              "        vertical-align: top;\n",
              "    }\n",
              "\n",
              "    .dataframe thead th {\n",
              "        text-align: right;\n",
              "    }\n",
              "</style>\n",
              "<table border=\"1\" class=\"dataframe\">\n",
              "  <thead>\n",
              "    <tr style=\"text-align: right;\">\n",
              "      <th></th>\n",
              "      <th>Site_Name</th>\n",
              "      <th>Group</th>\n",
              "      <th>Location</th>\n",
              "      <th>Soil_Classification</th>\n",
              "      <th>Latitude</th>\n",
              "      <th>Longitude</th>\n",
              "      <th>Date_of_Measurement</th>\n",
              "      <th>Start_Time_of_Chamber_Enclosure</th>\n",
              "      <th>End_Time_of_Chamber_Enclosure</th>\n",
              "      <th>Duration_of_Chamber_Enclosure</th>\n",
              "      <th>CH4_Flux</th>\n",
              "      <th>Long_Term CH4_Flux</th>\n",
              "      <th>d13CH4_source</th>\n",
              "      <th>LowerBound_d13CH4_source</th>\n",
              "      <th>UpperBound_d13CH4_source</th>\n",
              "      <th>CO2_Flux</th>\n",
              "      <th>Long_Term_CO2_Flux</th>\n",
              "      <th>d13CO2_source</th>\n",
              "      <th>LowerBound_d13CO2_source</th>\n",
              "      <th>UpperBound_d13CO2_source</th>\n",
              "      <th>Long_Term_CH4_Flux</th>\n",
              "      <th>d13CH4_err</th>\n",
              "      <th>d13CO2_err</th>\n",
              "    </tr>\n",
              "  </thead>\n",
              "  <tbody>\n",
              "    <tr>\n",
              "      <th>5</th>\n",
              "      <td>Porcelain Basin</td>\n",
              "      <td>North of Norris GB</td>\n",
              "      <td>PRCN_20Jun2018_2.3</td>\n",
              "      <td>Acid-Sulphate</td>\n",
              "      <td>44.745106</td>\n",
              "      <td>-110.713044</td>\n",
              "      <td>2018-06-20</td>\n",
              "      <td>2018-06-20 14:41:31</td>\n",
              "      <td>2018-06-20 15:01:00</td>\n",
              "      <td>19.483333</td>\n",
              "      <td>0.100536</td>\n",
              "      <td>0.0367207</td>\n",
              "      <td>-37.642047</td>\n",
              "      <td>-109.340072</td>\n",
              "      <td>34.055978</td>\n",
              "      <td>18556.247163</td>\n",
              "      <td>6.77767</td>\n",
              "      <td>-8.47776</td>\n",
              "      <td>-8.603758</td>\n",
              "      <td>-8.351763</td>\n",
              "      <td>NaN</td>\n",
              "      <td>143.396050</td>\n",
              "      <td>0.251995</td>\n",
              "    </tr>\n",
              "    <tr>\n",
              "      <th>7</th>\n",
              "      <td>Porcelain Basin</td>\n",
              "      <td>North of Norris GB</td>\n",
              "      <td>PRCN_20Jun2018_3.2</td>\n",
              "      <td>Acid-Sulphate</td>\n",
              "      <td>44.750619</td>\n",
              "      <td>-110.715500</td>\n",
              "      <td>2018-06-20</td>\n",
              "      <td>2018-06-20 16:35:31</td>\n",
              "      <td>2018-06-20 16:55:00</td>\n",
              "      <td>19.483333</td>\n",
              "      <td>0.025738</td>\n",
              "      <td>0.00940078</td>\n",
              "      <td>-35.929670</td>\n",
              "      <td>-139.146822</td>\n",
              "      <td>67.287483</td>\n",
              "      <td>8967.995645</td>\n",
              "      <td>3.27556</td>\n",
              "      <td>-10.2706</td>\n",
              "      <td>-10.453702</td>\n",
              "      <td>-10.087475</td>\n",
              "      <td>NaN</td>\n",
              "      <td>206.434305</td>\n",
              "      <td>0.366227</td>\n",
              "    </tr>\n",
              "    <tr>\n",
              "      <th>11</th>\n",
              "      <td>Mammoth Hot Springs</td>\n",
              "      <td>Mammoth HS</td>\n",
              "      <td>MMTH_21Jun2018_2.1</td>\n",
              "      <td>Travertine</td>\n",
              "      <td>44.972033</td>\n",
              "      <td>-110.706000</td>\n",
              "      <td>2018-06-21</td>\n",
              "      <td>2018-06-21 12:17:08</td>\n",
              "      <td>2018-06-21 12:30:03</td>\n",
              "      <td>12.916667</td>\n",
              "      <td>-0.523629</td>\n",
              "      <td>-0.191256</td>\n",
              "      <td>-73.383265</td>\n",
              "      <td>-100.415714</td>\n",
              "      <td>-46.350817</td>\n",
              "      <td>66807.423288</td>\n",
              "      <td>24.4014</td>\n",
              "      <td>-2.39055</td>\n",
              "      <td>-2.555541</td>\n",
              "      <td>-2.225555</td>\n",
              "      <td>NaN</td>\n",
              "      <td>54.064897</td>\n",
              "      <td>0.329986</td>\n",
              "    </tr>\n",
              "    <tr>\n",
              "      <th>12</th>\n",
              "      <td>Mammoth Hot Springs</td>\n",
              "      <td>Mammoth HS</td>\n",
              "      <td>MMTH_21Jun2018_2.2</td>\n",
              "      <td>Travertine</td>\n",
              "      <td>44.971967</td>\n",
              "      <td>-110.705739</td>\n",
              "      <td>2018-06-21</td>\n",
              "      <td>2018-06-21 12:44:35</td>\n",
              "      <td>2018-06-21 12:49:33</td>\n",
              "      <td>4.966667</td>\n",
              "      <td>-0.444378</td>\n",
              "      <td>-0.162309</td>\n",
              "      <td>-60.396107</td>\n",
              "      <td>-74.404621</td>\n",
              "      <td>-46.387593</td>\n",
              "      <td>35962.559266</td>\n",
              "      <td>13.1353</td>\n",
              "      <td>-4.63314</td>\n",
              "      <td>-4.719340</td>\n",
              "      <td>-4.546946</td>\n",
              "      <td>NaN</td>\n",
              "      <td>28.017028</td>\n",
              "      <td>0.172394</td>\n",
              "    </tr>\n",
              "    <tr>\n",
              "      <th>13</th>\n",
              "      <td>Mammoth Hot Springs</td>\n",
              "      <td>Mammoth HS</td>\n",
              "      <td>MMTH_21Jun2018_2.3</td>\n",
              "      <td>Travertine</td>\n",
              "      <td>44.971647</td>\n",
              "      <td>-110.705356</td>\n",
              "      <td>2018-06-21</td>\n",
              "      <td>2018-06-21 13:21:47</td>\n",
              "      <td>2018-06-21 13:43:14</td>\n",
              "      <td>21.450000</td>\n",
              "      <td>-0.450886</td>\n",
              "      <td>-0.164686</td>\n",
              "      <td>-57.830239</td>\n",
              "      <td>-74.681387</td>\n",
              "      <td>-40.979092</td>\n",
              "      <td>28379.514371</td>\n",
              "      <td>10.3656</td>\n",
              "      <td>-3.62192</td>\n",
              "      <td>-3.695535</td>\n",
              "      <td>-3.548296</td>\n",
              "      <td>NaN</td>\n",
              "      <td>33.702295</td>\n",
              "      <td>0.147239</td>\n",
              "    </tr>\n",
              "  </tbody>\n",
              "</table>\n",
              "</div>"
            ],
            "text/plain": [
              "              Site_Name               Group  ...  d13CH4_err d13CO2_err\n",
              "5       Porcelain Basin  North of Norris GB  ...  143.396050   0.251995\n",
              "7       Porcelain Basin  North of Norris GB  ...  206.434305   0.366227\n",
              "11  Mammoth Hot Springs          Mammoth HS  ...   54.064897   0.329986\n",
              "12  Mammoth Hot Springs          Mammoth HS  ...   28.017028   0.172394\n",
              "13  Mammoth Hot Springs          Mammoth HS  ...   33.702295   0.147239\n",
              "\n",
              "[5 rows x 23 columns]"
            ]
          },
          "metadata": {
            "tags": []
          },
          "execution_count": 28
        }
      ]
    },
    {
      "cell_type": "code",
      "metadata": {
        "colab": {
          "base_uri": "https://localhost:8080/",
          "height": 411
        },
        "id": "exDBe8YoH_Z7",
        "outputId": "c1dfe1a9-ef3c-49ba-f6a0-a81ea3c6b4c1"
      },
      "source": [
        "## CH4\r\n",
        "plt.figure(figsize=(8,6))\r\n",
        "ax = sns.scatterplot(x=\"CH4_Flux\", y=\"d13CH4_source\", data=df_YC_iso_trim,\r\n",
        "                                 hue=\"Soil_Classification\")\r\n",
        "ax.set(xlabel=\"CH$_4$ Flux (mg m$^{-2}$ day$^{-1}$)\",\r\n",
        "       ylabel=\"$\\delta^{13}$C-CH$_4$ (‰)\")\r\n",
        "plt.show()\r\n",
        "plt.savefig(\"figures/CH4_d13_flx_trim.png\", dpi=300)"
      ],
      "execution_count": 29,
      "outputs": [
        {
          "output_type": "display_data",
          "data": {
            "image/png": "[encoded data removed]",
            "text/plain": [
              "<Figure size 576x432 with 1 Axes>"
            ]
          },
          "metadata": {
            "tags": []
          }
        },
        {
          "output_type": "display_data",
          "data": {
            "text/plain": [
              "<Figure size 432x288 with 0 Axes>"
            ]
          },
          "metadata": {
            "tags": []
          }
        }
      ]
    },
    {
      "cell_type": "code",
      "metadata": {
        "id": "MxmhvJq8TnIg"
      },
      "source": [
        "# Create an errorbar function for plotting\r\n",
        "def errplot(x, y, yerr, **kwargs):\r\n",
        "    ax = plt.gca()\r\n",
        "    data = kwargs.pop(\"data\")\r\n",
        "    data.plot(x=x, y=y, yerr=yerr, kind=\"scatter\", ax=ax, **kwargs)"
      ],
      "execution_count": 30,
      "outputs": []
    },
    {
      "cell_type": "code",
      "metadata": {
        "colab": {
          "base_uri": "https://localhost:8080/",
          "height": 658
        },
        "id": "5Rh4tlgLWhWv",
        "outputId": "4a8df42f-8239-4208-e204-f2bf270148fa"
      },
      "source": [
        "## CH4\r\n",
        "fg = sns.FacetGrid(df_YC_iso_trim, hue=\"Soil_Classification\",\r\n",
        "                   col=\"Group\", col_wrap=4, height=3,aspect=0.8,\r\n",
        "                   sharex=True)\r\n",
        "fg.map_dataframe(errplot, x=\"CH4_Flux\", y=\"d13CH4_source\", yerr=\"d13CH4_err\")\r\n",
        "fg.set(ylim=(-100,0),\r\n",
        "       xlabel=\"CH$_4$ Flux (mg m$^{-2}$ day$^{-1}$)\",\r\n",
        "       ylabel=\"$\\delta^{13}$C-CH$_4$ (‰)\")\r\n",
        "fg.tight_layout()\r\n",
        "fg.add_legend()\r\n",
        "plt.savefig(\"figures/faceted_d13CH4_v_CH4_Flux\")"
      ],
      "execution_count": 31,
      "outputs": [
        {
          "output_type": "display_data",
          "data": {
            "image/png": "[encoded data removed]",
            "text/plain": [
              "<Figure size 794.88x648 with 10 Axes>"
            ]
          },
          "metadata": {
            "tags": []
          }
        }
      ]
    },
    {
      "cell_type": "code",
      "metadata": {
        "colab": {
          "base_uri": "https://localhost:8080/",
          "height": 658
        },
        "id": "sSQaSkSoPfyZ",
        "outputId": "b4c17fca-a03e-4cbe-ac66-43418ccb87f9"
      },
      "source": [
        "## CO2\r\n",
        "fg = sns.FacetGrid(df_YC_iso_trim, hue=\"Soil_Classification\",\r\n",
        "                   col=\"Group\", col_wrap=4, height=3,aspect=0.8,\r\n",
        "                   sharex=True)\r\n",
        "fg.map_dataframe(errplot, x=\"CO2_Flux\", y=\"d13CO2_source\", yerr=\"d13CO2_err\")\r\n",
        "fg.set(ylim=(-50,10))\r\n",
        "fg.tight_layout()\r\n",
        "fg.add_legend()\r\n",
        "plt.savefig(\"figures/faceted_d13CO2_v_CO2_Flux\")"
      ],
      "execution_count": 32,
      "outputs": [
        {
          "output_type": "display_data",
          "data": {
            "image/png": "[encoded data removed]",
            "text/plain": [
              "<Figure size 794.88x648 with 10 Axes>"
            ]
          },
          "metadata": {
            "tags": []
          }
        }
      ]
    },
    {
      "cell_type": "markdown",
      "metadata": {
        "id": "g6TnOLAEqn0d"
      },
      "source": [
        "### Hypothesis Tests Across Groups\r\n",
        "\r\n",
        "Having visualized the fluxes and δ<sup>13</sup>C compositions, it is time to quantify the differences between groups using frequentist methods. An analysis of variance will allow us to compare the means of the fluxes in the groups (site and thermal geochemistry). \r\n",
        "\r\n",
        "Using the information gleaned from quantifying the mean and standard deviation of the fluxes it is possible that one or both gases are displaying non-normal behavior. To test this, we employ Kolmogorov-Smirnov (KS) test for normality."
      ]
    },
    {
      "cell_type": "code",
      "metadata": {
        "colab": {
          "base_uri": "https://localhost:8080/"
        },
        "id": "XBwjrv85c55I",
        "outputId": "32d0533a-2aae-4f99-f0c9-5190cb4510eb"
      },
      "source": [
        "# Import KS test from statsmodels\r\n",
        "from statsmodels.stats.diagnostic import kstest_normal\r\n",
        "\r\n",
        "## CH4\r\n",
        "# Deploy a KS test for normality\r\n",
        "ksstest, pvalue = kstest_normal(df_YC_iso_trim.CH4_Flux)\r\n",
        "# Print result\r\n",
        "print(\"The p-value for the CH4 fluxes of the KS test was {}\".format(pvalue))\r\n",
        "\r\n",
        "## CO2\r\n",
        "# Deploy a KS test for normality\r\n",
        "ksstest, pvalue = kstest_normal(df_YC_iso_trim.CO2_Flux)\r\n",
        "# Print result\r\n",
        "print(\"The p-value for the CO2 fluxes of the KS test was {}\".format(pvalue))"
      ],
      "execution_count": 33,
      "outputs": [
        {
          "output_type": "stream",
          "text": [
            "The p-value for the CH4 fluxes of the KS test was 3.062479973175797e-28\n",
            "The p-value for the CO2 fluxes of the KS test was 6.834918344723726e-19\n"
          ],
          "name": "stdout"
        }
      ]
    },
    {
      "cell_type": "markdown",
      "metadata": {
        "id": "ExkjlKGfz2f1"
      },
      "source": [
        "The KS test for the CH<sub>4</sub> and CO<sub>2</sub> fluxes shows that these meterics **do not** represent normally distributed data. Therfore, to analyze the significant differences between groups, a non-parametric model will need to be used. In this case, a [Kruskal-Wallis](https://en.wikipedia.org/wiki/Kruskal%E2%80%93Wallis_one-way_analysis_of_variance) (KW) test will be appropriate. The KW test will analyze the different groups (sites) as they have been presented above to see if at least one group is significantly different than the others. If so, post-hoc tests will be conducted to see which group(s) are significantly different. "
      ]
    },
    {
      "cell_type": "code",
      "metadata": {
        "colab": {
          "base_uri": "https://localhost:8080/"
        },
        "id": "iWJ9f3lf2xZp",
        "outputId": "cd7e9ae0-c623-4595-e772-3727572d718b"
      },
      "source": [
        "# Conduct the KW test\r\n",
        "import scipy.stats as spstat\r\n",
        "\r\n",
        "## CH4\r\n",
        "# Split the dataframe up by the groups (i.e., site)\r\n",
        "gb = df_YC_iso_trim.groupby('Group')    \r\n",
        "gb = [gb.get_group(x) for x in gb.groups]\r\n",
        "\r\n",
        "KW, pvalue = spstat.kruskal(gb[0].CH4_Flux, gb[1].CH4_Flux, gb[2].CH4_Flux, \r\n",
        "                            gb[3].CH4_Flux, gb[4].CH4_Flux, gb[5].CH4_Flux,\r\n",
        "                            gb[6].CH4_Flux, gb[7].CH4_Flux, gb[8].CH4_Flux,\r\n",
        "                            gb[9].CH4_Flux)\r\n",
        "print(\"The pvalue for the Kruskal-Wallis test for CH4 fluxes is: {}\".format(pvalue))\r\n",
        "\r\n",
        "## CO2\r\n",
        "# Split the dataframe up by the groups (i.e., site)\r\n",
        "bg = df_YC_iso_trim.groupby('Group')    \r\n",
        "bg = [bg.get_group(x) for x in bg.groups]\r\n",
        "\r\n",
        "KW, pvalue = spstat.kruskal(bg[0].CO2_Flux, bg[1].CO2_Flux, bg[2].CO2_Flux, \r\n",
        "                            bg[3].CO2_Flux, bg[4].CO2_Flux, bg[5].CO2_Flux,\r\n",
        "                            bg[6].CO2_Flux, bg[7].CO2_Flux, bg[8].CO2_Flux,\r\n",
        "                            bg[9].CO2_Flux)\r\n",
        "print(\"The pvalue for the Kruskal-Wallis test for CO2 fluxes is: {}\".format(pvalue))"
      ],
      "execution_count": 34,
      "outputs": [
        {
          "output_type": "stream",
          "text": [
            "The pvalue for the Kruskal-Wallis test for CH4 fluxes is: 9.470108712434069e-05\n",
            "The pvalue for the Kruskal-Wallis test for CO2 fluxes is: 2.64667139928577e-07\n"
          ],
          "name": "stdout"
        }
      ]
    },
    {
      "cell_type": "markdown",
      "metadata": {
        "id": "FjG_Ukvf9nkA"
      },
      "source": [
        "As anticipated, the KW test rejected the null hypothesis for CH<sub>4</sub> fluxes was rejected (p-value ≤ 0.0001), and the null for CO<sub>2</sub> was also rejected (p-value ≤ 0.0001). \r\n",
        "\r\n",
        "Since both of these gases have at least one significantly different group among them, the next step is to conduct post-hoc analysis. There are two reasonable methods to conduct this analsysis: 1) [Dunn's](https://www.statology.org/dunns-test/) test and 2) [Conover-Imam](https://permalink.lanl.gov/object/tr?what=info:lanl-repo/lareport/LA-07677-MS) test. To leverage the [greatest statistical power](https://stackoverflow.com/questions/31434166/which-post-hoc-test-should-i-conduct-after-doing-a-kruskal-wallis) in assessing the different groups, the Conover-Imam test is the best option. "
      ]
    },
    {
      "cell_type": "code",
      "metadata": {
        "colab": {
          "base_uri": "https://localhost:8080/"
        },
        "id": "CAO4q7o5E8Xe",
        "outputId": "7b2960e3-7e7b-436e-be3c-26ee8d3a4691"
      },
      "source": [
        "# Install package for variation test\r\n",
        "!pip install scikit-posthocs"
      ],
      "execution_count": 35,
      "outputs": [
        {
          "output_type": "stream",
          "text": [
            "Requirement already satisfied: scikit-posthocs in /usr/local/lib/python3.6/dist-packages (0.6.6)\n",
            "Requirement already satisfied: pandas>=0.20.0 in /usr/local/lib/python3.6/dist-packages (from scikit-posthocs) (1.1.5)\n",
            "Requirement already satisfied: seaborn in /usr/local/lib/python3.6/dist-packages (from scikit-posthocs) (0.11.1)\n",
            "Requirement already satisfied: matplotlib in /usr/local/lib/python3.6/dist-packages (from scikit-posthocs) (3.2.2)\n",
            "Requirement already satisfied: scipy in /usr/local/lib/python3.6/dist-packages (from scikit-posthocs) (1.4.1)\n",
            "Requirement already satisfied: numpy in /usr/local/lib/python3.6/dist-packages (from scikit-posthocs) (1.19.5)\n",
            "Requirement already satisfied: statsmodels in /usr/local/lib/python3.6/dist-packages (from scikit-posthocs) (0.10.2)\n",
            "Requirement already satisfied: python-dateutil>=2.7.3 in /usr/local/lib/python3.6/dist-packages (from pandas>=0.20.0->scikit-posthocs) (2.8.1)\n",
            "Requirement already satisfied: pytz>=2017.2 in /usr/local/lib/python3.6/dist-packages (from pandas>=0.20.0->scikit-posthocs) (2018.9)\n",
            "Requirement already satisfied: cycler>=0.10 in /usr/local/lib/python3.6/dist-packages (from matplotlib->scikit-posthocs) (0.10.0)\n",
            "Requirement already satisfied: pyparsing!=2.0.4,!=2.1.2,!=2.1.6,>=2.0.1 in /usr/local/lib/python3.6/dist-packages (from matplotlib->scikit-posthocs) (2.4.7)\n",
            "Requirement already satisfied: kiwisolver>=1.0.1 in /usr/local/lib/python3.6/dist-packages (from matplotlib->scikit-posthocs) (1.3.1)\n",
            "Requirement already satisfied: patsy>=0.4.0 in /usr/local/lib/python3.6/dist-packages (from statsmodels->scikit-posthocs) (0.5.1)\n",
            "Requirement already satisfied: six>=1.5 in /usr/local/lib/python3.6/dist-packages (from python-dateutil>=2.7.3->pandas>=0.20.0->scikit-posthocs) (1.15.0)\n"
          ],
          "name": "stdout"
        }
      ]
    },
    {
      "cell_type": "code",
      "metadata": {
        "colab": {
          "base_uri": "https://localhost:8080/",
          "height": 393
        },
        "id": "fo4pNu2N8lDE",
        "outputId": "c99093ad-f099-4c02-e424-5d1151361729"
      },
      "source": [
        "# Assess the significant differences between groups\r\n",
        "# Import the test\r\n",
        "from scikit_posthocs import posthoc_conover as conover\r\n",
        "\r\n",
        "## Apply the test to the datasets\r\n",
        "pval_conover = conover([gb[0].CH4_Flux, gb[1].CH4_Flux, gb[2].CH4_Flux,\r\n",
        "                        gb[3].CH4_Flux, gb[4].CH4_Flux, gb[5].CH4_Flux,\r\n",
        "                        gb[6].CH4_Flux, gb[7].CH4_Flux, gb[8].CH4_Flux,\r\n",
        "                        gb[9].CH4_Flux],\r\n",
        "                       p_adjust=\"bonferroni\")\r\n",
        "# Names for Conover-Imam test results\r\n",
        "names = [\"North of Norris GB\", \"Mammoth HS\", \"Gas Vents (Solfatara Springs)\",\r\n",
        "         \"Terrace Springs\", \"Eastern Yellowstone\", \"Mud Volcano\", \"Lower GB\",\r\n",
        "         \"West Thumb GB\", \"Upper GB\", \"Norris GB\"]\r\n",
        "## Change the column and index names\r\n",
        "pval_conover.columns = names\r\n",
        "pval_conover.index = names\r\n",
        "# Show the results\r\n",
        "pval_conover"
      ],
      "execution_count": 40,
      "outputs": [
        {
          "output_type": "execute_result",
          "data": {
            "text/html": [
              "<div>\n",
              "<style scoped>\n",
              "    .dataframe tbody tr th:only-of-type {\n",
              "        vertical-align: middle;\n",
              "    }\n",
              "\n",
              "    .dataframe tbody tr th {\n",
              "        vertical-align: top;\n",
              "    }\n",
              "\n",
              "    .dataframe thead th {\n",
              "        text-align: right;\n",
              "    }\n",
              "</style>\n",
              "<table border=\"1\" class=\"dataframe\">\n",
              "  <thead>\n",
              "    <tr style=\"text-align: right;\">\n",
              "      <th></th>\n",
              "      <th>North of Norris GB</th>\n",
              "      <th>Mammoth HS</th>\n",
              "      <th>Gas Vents (Solfatara Springs)</th>\n",
              "      <th>Terrace Springs</th>\n",
              "      <th>Eastern Yellowstone</th>\n",
              "      <th>Mud Volcano</th>\n",
              "      <th>Lower GB</th>\n",
              "      <th>West Thumb GB</th>\n",
              "      <th>Upper GB</th>\n",
              "      <th>Norris GB</th>\n",
              "    </tr>\n",
              "  </thead>\n",
              "  <tbody>\n",
              "    <tr>\n",
              "      <th>North of Norris GB</th>\n",
              "      <td>1.000000</td>\n",
              "      <td>0.186376</td>\n",
              "      <td>1.000000</td>\n",
              "      <td>0.847995</td>\n",
              "      <td>1.000000</td>\n",
              "      <td>0.015205</td>\n",
              "      <td>1.0</td>\n",
              "      <td>1.00000</td>\n",
              "      <td>1.000000</td>\n",
              "      <td>1.000000</td>\n",
              "    </tr>\n",
              "    <tr>\n",
              "      <th>Mammoth HS</th>\n",
              "      <td>0.186376</td>\n",
              "      <td>1.000000</td>\n",
              "      <td>0.012557</td>\n",
              "      <td>0.000782</td>\n",
              "      <td>0.350478</td>\n",
              "      <td>1.000000</td>\n",
              "      <td>1.0</td>\n",
              "      <td>1.00000</td>\n",
              "      <td>0.234924</td>\n",
              "      <td>0.676202</td>\n",
              "    </tr>\n",
              "    <tr>\n",
              "      <th>Gas Vents (Solfatara Springs)</th>\n",
              "      <td>1.000000</td>\n",
              "      <td>0.012557</td>\n",
              "      <td>1.000000</td>\n",
              "      <td>1.000000</td>\n",
              "      <td>1.000000</td>\n",
              "      <td>0.001259</td>\n",
              "      <td>1.0</td>\n",
              "      <td>1.00000</td>\n",
              "      <td>1.000000</td>\n",
              "      <td>1.000000</td>\n",
              "    </tr>\n",
              "    <tr>\n",
              "      <th>Terrace Springs</th>\n",
              "      <td>0.847995</td>\n",
              "      <td>0.000782</td>\n",
              "      <td>1.000000</td>\n",
              "      <td>1.000000</td>\n",
              "      <td>1.000000</td>\n",
              "      <td>0.000061</td>\n",
              "      <td>1.0</td>\n",
              "      <td>1.00000</td>\n",
              "      <td>1.000000</td>\n",
              "      <td>1.000000</td>\n",
              "    </tr>\n",
              "    <tr>\n",
              "      <th>Eastern Yellowstone</th>\n",
              "      <td>1.000000</td>\n",
              "      <td>0.350478</td>\n",
              "      <td>1.000000</td>\n",
              "      <td>1.000000</td>\n",
              "      <td>1.000000</td>\n",
              "      <td>0.061749</td>\n",
              "      <td>1.0</td>\n",
              "      <td>1.00000</td>\n",
              "      <td>1.000000</td>\n",
              "      <td>1.000000</td>\n",
              "    </tr>\n",
              "    <tr>\n",
              "      <th>Mud Volcano</th>\n",
              "      <td>0.015205</td>\n",
              "      <td>1.000000</td>\n",
              "      <td>0.001259</td>\n",
              "      <td>0.000061</td>\n",
              "      <td>0.061749</td>\n",
              "      <td>1.000000</td>\n",
              "      <td>1.0</td>\n",
              "      <td>0.67298</td>\n",
              "      <td>0.025626</td>\n",
              "      <td>0.155115</td>\n",
              "    </tr>\n",
              "    <tr>\n",
              "      <th>Lower GB</th>\n",
              "      <td>1.000000</td>\n",
              "      <td>1.000000</td>\n",
              "      <td>1.000000</td>\n",
              "      <td>1.000000</td>\n",
              "      <td>1.000000</td>\n",
              "      <td>1.000000</td>\n",
              "      <td>1.0</td>\n",
              "      <td>1.00000</td>\n",
              "      <td>1.000000</td>\n",
              "      <td>1.000000</td>\n",
              "    </tr>\n",
              "    <tr>\n",
              "      <th>West Thumb GB</th>\n",
              "      <td>1.000000</td>\n",
              "      <td>1.000000</td>\n",
              "      <td>1.000000</td>\n",
              "      <td>1.000000</td>\n",
              "      <td>1.000000</td>\n",
              "      <td>0.672980</td>\n",
              "      <td>1.0</td>\n",
              "      <td>1.00000</td>\n",
              "      <td>1.000000</td>\n",
              "      <td>1.000000</td>\n",
              "    </tr>\n",
              "    <tr>\n",
              "      <th>Upper GB</th>\n",
              "      <td>1.000000</td>\n",
              "      <td>0.234924</td>\n",
              "      <td>1.000000</td>\n",
              "      <td>1.000000</td>\n",
              "      <td>1.000000</td>\n",
              "      <td>0.025626</td>\n",
              "      <td>1.0</td>\n",
              "      <td>1.00000</td>\n",
              "      <td>1.000000</td>\n",
              "      <td>1.000000</td>\n",
              "    </tr>\n",
              "    <tr>\n",
              "      <th>Norris GB</th>\n",
              "      <td>1.000000</td>\n",
              "      <td>0.676202</td>\n",
              "      <td>1.000000</td>\n",
              "      <td>1.000000</td>\n",
              "      <td>1.000000</td>\n",
              "      <td>0.155115</td>\n",
              "      <td>1.0</td>\n",
              "      <td>1.00000</td>\n",
              "      <td>1.000000</td>\n",
              "      <td>1.000000</td>\n",
              "    </tr>\n",
              "  </tbody>\n",
              "</table>\n",
              "</div>"
            ],
            "text/plain": [
              "                               North of Norris GB  ...  Norris GB\n",
              "North of Norris GB                       1.000000  ...   1.000000\n",
              "Mammoth HS                               0.186376  ...   0.676202\n",
              "Gas Vents (Solfatara Springs)            1.000000  ...   1.000000\n",
              "Terrace Springs                          0.847995  ...   1.000000\n",
              "Eastern Yellowstone                      1.000000  ...   1.000000\n",
              "Mud Volcano                              0.015205  ...   0.155115\n",
              "Lower GB                                 1.000000  ...   1.000000\n",
              "West Thumb GB                            1.000000  ...   1.000000\n",
              "Upper GB                                 1.000000  ...   1.000000\n",
              "Norris GB                                1.000000  ...   1.000000\n",
              "\n",
              "[10 rows x 10 columns]"
            ]
          },
          "metadata": {
            "tags": []
          },
          "execution_count": 40
        }
      ]
    },
    {
      "cell_type": "code",
      "metadata": {
        "colab": {
          "base_uri": "https://localhost:8080/",
          "height": 442
        },
        "id": "PXpanN6-Hpr3",
        "outputId": "18af40fb-da46-4f64-d6eb-7fc664f96126"
      },
      "source": [
        "# Create heatmap\r\n",
        "plt.figure(figsize=(8,6))\r\n",
        "sns.heatmap(pval_conover, linewidths=0.35, cmap=\"cubehelix\")\r\n",
        "plt.tight_layout()\r\n",
        "plt.savefig(\"figures/CH4_flx_CI_tst.png\", dpi=300)"
      ],
      "execution_count": 55,
      "outputs": [
        {
          "output_type": "display_data",
          "data": {
            "image/png": "[encoded data removed]",
            "text/plain": [
              "<Figure size 576x432 with 2 Axes>"
            ]
          },
          "metadata": {
            "tags": []
          }
        }
      ]
    },
    {
      "cell_type": "code",
      "metadata": {
        "colab": {
          "base_uri": "https://localhost:8080/",
          "height": 393
        },
        "id": "7D6XZH8qIEvP",
        "outputId": "32a7dec2-a6e9-433b-bd4e-a5352eeb5150"
      },
      "source": [
        "## CO2\r\n",
        "## Apply the Conover-Imam test to the datasets\r\n",
        "pval_conover = conover([bg[0].CH4_Flux, bg[1].CH4_Flux, bg[2].CH4_Flux,\r\n",
        "                        bg[3].CH4_Flux, bg[4].CH4_Flux, bg[5].CH4_Flux,\r\n",
        "                        bg[6].CH4_Flux, bg[7].CH4_Flux, bg[8].CH4_Flux,\r\n",
        "                        bg[9].CH4_Flux],\r\n",
        "                       p_adjust=\"bonferroni\")\r\n",
        "# Names for Conover-Imam test results\r\n",
        "names = [\"North of Norris GB\", \"Mammoth HS\", \"Gas Vents (Solfatara Springs)\",\r\n",
        "         \"Terrace Springs\", \"Eastern Yellowstone\", \"Mud Volcano\", \"Lower GB\",\r\n",
        "         \"West Thumb GB\", \"Upper GB\", \"Norris GB\"]\r\n",
        "## Change the column and index names\r\n",
        "pval_conover.columns = names\r\n",
        "pval_conover.index = names\r\n",
        "# Show the results\r\n",
        "pval_conover"
      ],
      "execution_count": 49,
      "outputs": [
        {
          "output_type": "execute_result",
          "data": {
            "text/html": [
              "<div>\n",
              "<style scoped>\n",
              "    .dataframe tbody tr th:only-of-type {\n",
              "        vertical-align: middle;\n",
              "    }\n",
              "\n",
              "    .dataframe tbody tr th {\n",
              "        vertical-align: top;\n",
              "    }\n",
              "\n",
              "    .dataframe thead th {\n",
              "        text-align: right;\n",
              "    }\n",
              "</style>\n",
              "<table border=\"1\" class=\"dataframe\">\n",
              "  <thead>\n",
              "    <tr style=\"text-align: right;\">\n",
              "      <th></th>\n",
              "      <th>North of Norris GB</th>\n",
              "      <th>Mammoth HS</th>\n",
              "      <th>Gas Vents (Solfatara Springs)</th>\n",
              "      <th>Terrace Springs</th>\n",
              "      <th>Eastern Yellowstone</th>\n",
              "      <th>Mud Volcano</th>\n",
              "      <th>Lower GB</th>\n",
              "      <th>West Thumb GB</th>\n",
              "      <th>Upper GB</th>\n",
              "      <th>Norris GB</th>\n",
              "    </tr>\n",
              "  </thead>\n",
              "  <tbody>\n",
              "    <tr>\n",
              "      <th>North of Norris GB</th>\n",
              "      <td>1.000000</td>\n",
              "      <td>0.186376</td>\n",
              "      <td>1.000000</td>\n",
              "      <td>0.847995</td>\n",
              "      <td>1.000000</td>\n",
              "      <td>0.015205</td>\n",
              "      <td>1.0</td>\n",
              "      <td>1.00000</td>\n",
              "      <td>1.000000</td>\n",
              "      <td>1.000000</td>\n",
              "    </tr>\n",
              "    <tr>\n",
              "      <th>Mammoth HS</th>\n",
              "      <td>0.186376</td>\n",
              "      <td>1.000000</td>\n",
              "      <td>0.012557</td>\n",
              "      <td>0.000782</td>\n",
              "      <td>0.350478</td>\n",
              "      <td>1.000000</td>\n",
              "      <td>1.0</td>\n",
              "      <td>1.00000</td>\n",
              "      <td>0.234924</td>\n",
              "      <td>0.676202</td>\n",
              "    </tr>\n",
              "    <tr>\n",
              "      <th>Gas Vents (Solfatara Springs)</th>\n",
              "      <td>1.000000</td>\n",
              "      <td>0.012557</td>\n",
              "      <td>1.000000</td>\n",
              "      <td>1.000000</td>\n",
              "      <td>1.000000</td>\n",
              "      <td>0.001259</td>\n",
              "      <td>1.0</td>\n",
              "      <td>1.00000</td>\n",
              "      <td>1.000000</td>\n",
              "      <td>1.000000</td>\n",
              "    </tr>\n",
              "    <tr>\n",
              "      <th>Terrace Springs</th>\n",
              "      <td>0.847995</td>\n",
              "      <td>0.000782</td>\n",
              "      <td>1.000000</td>\n",
              "      <td>1.000000</td>\n",
              "      <td>1.000000</td>\n",
              "      <td>0.000061</td>\n",
              "      <td>1.0</td>\n",
              "      <td>1.00000</td>\n",
              "      <td>1.000000</td>\n",
              "      <td>1.000000</td>\n",
              "    </tr>\n",
              "    <tr>\n",
              "      <th>Eastern Yellowstone</th>\n",
              "      <td>1.000000</td>\n",
              "      <td>0.350478</td>\n",
              "      <td>1.000000</td>\n",
              "      <td>1.000000</td>\n",
              "      <td>1.000000</td>\n",
              "      <td>0.061749</td>\n",
              "      <td>1.0</td>\n",
              "      <td>1.00000</td>\n",
              "      <td>1.000000</td>\n",
              "      <td>1.000000</td>\n",
              "    </tr>\n",
              "    <tr>\n",
              "      <th>Mud Volcano</th>\n",
              "      <td>0.015205</td>\n",
              "      <td>1.000000</td>\n",
              "      <td>0.001259</td>\n",
              "      <td>0.000061</td>\n",
              "      <td>0.061749</td>\n",
              "      <td>1.000000</td>\n",
              "      <td>1.0</td>\n",
              "      <td>0.67298</td>\n",
              "      <td>0.025626</td>\n",
              "      <td>0.155115</td>\n",
              "    </tr>\n",
              "    <tr>\n",
              "      <th>Lower GB</th>\n",
              "      <td>1.000000</td>\n",
              "      <td>1.000000</td>\n",
              "      <td>1.000000</td>\n",
              "      <td>1.000000</td>\n",
              "      <td>1.000000</td>\n",
              "      <td>1.000000</td>\n",
              "      <td>1.0</td>\n",
              "      <td>1.00000</td>\n",
              "      <td>1.000000</td>\n",
              "      <td>1.000000</td>\n",
              "    </tr>\n",
              "    <tr>\n",
              "      <th>West Thumb GB</th>\n",
              "      <td>1.000000</td>\n",
              "      <td>1.000000</td>\n",
              "      <td>1.000000</td>\n",
              "      <td>1.000000</td>\n",
              "      <td>1.000000</td>\n",
              "      <td>0.672980</td>\n",
              "      <td>1.0</td>\n",
              "      <td>1.00000</td>\n",
              "      <td>1.000000</td>\n",
              "      <td>1.000000</td>\n",
              "    </tr>\n",
              "    <tr>\n",
              "      <th>Upper GB</th>\n",
              "      <td>1.000000</td>\n",
              "      <td>0.234924</td>\n",
              "      <td>1.000000</td>\n",
              "      <td>1.000000</td>\n",
              "      <td>1.000000</td>\n",
              "      <td>0.025626</td>\n",
              "      <td>1.0</td>\n",
              "      <td>1.00000</td>\n",
              "      <td>1.000000</td>\n",
              "      <td>1.000000</td>\n",
              "    </tr>\n",
              "    <tr>\n",
              "      <th>Norris GB</th>\n",
              "      <td>1.000000</td>\n",
              "      <td>0.676202</td>\n",
              "      <td>1.000000</td>\n",
              "      <td>1.000000</td>\n",
              "      <td>1.000000</td>\n",
              "      <td>0.155115</td>\n",
              "      <td>1.0</td>\n",
              "      <td>1.00000</td>\n",
              "      <td>1.000000</td>\n",
              "      <td>1.000000</td>\n",
              "    </tr>\n",
              "  </tbody>\n",
              "</table>\n",
              "</div>"
            ],
            "text/plain": [
              "                               North of Norris GB  ...  Norris GB\n",
              "North of Norris GB                       1.000000  ...   1.000000\n",
              "Mammoth HS                               0.186376  ...   0.676202\n",
              "Gas Vents (Solfatara Springs)            1.000000  ...   1.000000\n",
              "Terrace Springs                          0.847995  ...   1.000000\n",
              "Eastern Yellowstone                      1.000000  ...   1.000000\n",
              "Mud Volcano                              0.015205  ...   0.155115\n",
              "Lower GB                                 1.000000  ...   1.000000\n",
              "West Thumb GB                            1.000000  ...   1.000000\n",
              "Upper GB                                 1.000000  ...   1.000000\n",
              "Norris GB                                1.000000  ...   1.000000\n",
              "\n",
              "[10 rows x 10 columns]"
            ]
          },
          "metadata": {
            "tags": []
          },
          "execution_count": 49
        }
      ]
    },
    {
      "cell_type": "code",
      "metadata": {
        "colab": {
          "base_uri": "https://localhost:8080/",
          "height": 442
        },
        "id": "OR8tRPdjOP1Z",
        "outputId": "c2ba223d-dbf0-4c4c-e0f5-ab8971222949"
      },
      "source": [
        "plt.figure(figsize=(8,6))\r\n",
        "sns.heatmap(pval_conover, linewidths=0.35, \r\n",
        "            cmap=\"cubehelix\", square=True,\r\n",
        "            annot=False)\r\n",
        "plt.tight_layout()\r\n",
        "plt.savefig(\"figures/CO2_flx_CI_tst.png\", dpi=300)"
      ],
      "execution_count": 59,
      "outputs": [
        {
          "output_type": "display_data",
          "data": {
            "image/png": "[encoded data removed]",
            "text/plain": [
              "<Figure size 576x432 with 2 Axes>"
            ]
          },
          "metadata": {
            "tags": []
          }
        }
      ]
    }
  ]
}