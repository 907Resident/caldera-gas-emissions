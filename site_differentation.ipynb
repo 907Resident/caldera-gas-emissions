{
  "nbformat": 4,
  "nbformat_minor": 0,
  "metadata": {
    "colab": {
      "name": "site-differentation.ipynb",
      "provenance": [],
      "toc_visible": true,
      "authorship_tag": "ABX9TyPHqXKwAoLGGEGTjyDHCJ5d",
      "include_colab_link": true
    },
    "kernelspec": {
      "name": "python3",
      "display_name": "Python 3"
    }
  },
  "cells": [
    {
      "cell_type": "markdown",
      "metadata": {
        "id": "view-in-github",
        "colab_type": "text"
      },
      "source": [
        "<a href=\"https://colab.research.google.com/github/907Resident/caldera-gas-emissions/blob/logistic-prediction/site_differentation.ipynb\" target=\"_parent\"><img src=\"https://colab.research.google.com/assets/colab-badge.svg\" alt=\"Open In Colab\"/></a>"
      ]
    },
    {
      "cell_type": "markdown",
      "metadata": {
        "id": "vr0NxKcpyApw"
      },
      "source": [
        "# Site Differentation\r\n",
        "How are the sites similar and/or different.\r\n",
        "\r\n",
        "## Importing necessary libraries"
      ]
    },
    {
      "cell_type": "code",
      "metadata": {
        "id": "83oV_uKlx-Rm"
      },
      "source": [
        "# Import libraries\r\n",
        "import pandas as pd\r\n",
        "import matplotlib.pyplot as plt\r\n",
        "import seaborn as sns\r\n",
        "import numpy as np\r\n"
      ],
      "execution_count": null,
      "outputs": []
    },
    {
      "cell_type": "markdown",
      "metadata": {
        "id": "6jsJokXb0xPU"
      },
      "source": [
        "## Import data\r\n",
        "The data have been processed using code developed in MATLAB previously. The data is currently stored in a OneDrive directory. Therefore to access it, one will need to use [`onedrivesdk<2`](https://github.com/OneDrive/onedrive-sdk-python/blob/master/README.md#onedrive). This library will be able to tap into the OneDrive API. After user authentication, you can get the necesary files for this exercise. "
      ]
    },
    {
      "cell_type": "markdown",
      "metadata": {
        "id": "1DHU6XvJXbNZ"
      },
      "source": [
        "_need to return to get `onedrivesdk` working properly_"
      ]
    },
    {
      "cell_type": "code",
      "metadata": {
        "id": "lquY54Rnyw_w",
        "colab": {
          "base_uri": "https://localhost:8080/"
        },
        "outputId": "df3fd6e8-b94f-4308-e7d9-49b5fe082a2f"
      },
      "source": [
        "#!pip install \"onedrivesdk<2\""
      ],
      "execution_count": null,
      "outputs": [
        {
          "output_type": "stream",
          "text": [
            "Collecting onedrivesdk<2\n",
            "\u001b[?25l  Downloading https://files.pythonhosted.org/packages/d9/73/32677f3ffc420522c9ebf92aa5741bd19e6844a907a15b491fcbe2221d9f/onedrivesdk-1.1.8.zip (203kB)\n",
            "\r\u001b[K     |█▋                              | 10kB 12.7MB/s eta 0:00:01\r\u001b[K     |███▏                            | 20kB 14.0MB/s eta 0:00:01\r\u001b[K     |████▉                           | 30kB 8.9MB/s eta 0:00:01\r\u001b[K     |██████▍                         | 40kB 7.8MB/s eta 0:00:01\r\u001b[K     |████████                        | 51kB 4.4MB/s eta 0:00:01\r\u001b[K     |█████████▋                      | 61kB 4.9MB/s eta 0:00:01\r\u001b[K     |███████████▎                    | 71kB 5.0MB/s eta 0:00:01\r\u001b[K     |████████████▉                   | 81kB 5.0MB/s eta 0:00:01\r\u001b[K     |██████████████▌                 | 92kB 5.3MB/s eta 0:00:01\r\u001b[K     |████████████████                | 102kB 5.6MB/s eta 0:00:01\r\u001b[K     |█████████████████▊              | 112kB 5.6MB/s eta 0:00:01\r\u001b[K     |███████████████████▎            | 122kB 5.6MB/s eta 0:00:01\r\u001b[K     |████████████████████▉           | 133kB 5.6MB/s eta 0:00:01\r\u001b[K     |██████████████████████▌         | 143kB 5.6MB/s eta 0:00:01\r\u001b[K     |████████████████████████        | 153kB 5.6MB/s eta 0:00:01\r\u001b[K     |█████████████████████████▊      | 163kB 5.6MB/s eta 0:00:01\r\u001b[K     |███████████████████████████▎    | 174kB 5.6MB/s eta 0:00:01\r\u001b[K     |█████████████████████████████   | 184kB 5.6MB/s eta 0:00:01\r\u001b[K     |██████████████████████████████▌ | 194kB 5.6MB/s eta 0:00:01\r\u001b[K     |████████████████████████████████| 204kB 5.6MB/s \n",
            "\u001b[?25hRequirement already satisfied: requests>=2.6.1 in /usr/local/lib/python3.6/dist-packages (from onedrivesdk<2) (2.23.0)\n",
            "Requirement already satisfied: certifi>=2017.4.17 in /usr/local/lib/python3.6/dist-packages (from requests>=2.6.1->onedrivesdk<2) (2020.12.5)\n",
            "Requirement already satisfied: idna<3,>=2.5 in /usr/local/lib/python3.6/dist-packages (from requests>=2.6.1->onedrivesdk<2) (2.10)\n",
            "Requirement already satisfied: urllib3!=1.25.0,!=1.25.1,<1.26,>=1.21.1 in /usr/local/lib/python3.6/dist-packages (from requests>=2.6.1->onedrivesdk<2) (1.24.3)\n",
            "Requirement already satisfied: chardet<4,>=3.0.2 in /usr/local/lib/python3.6/dist-packages (from requests>=2.6.1->onedrivesdk<2) (3.0.4)\n",
            "Building wheels for collected packages: onedrivesdk\n",
            "  Building wheel for onedrivesdk (setup.py) ... \u001b[?25l\u001b[?25hdone\n",
            "  Created wheel for onedrivesdk: filename=onedrivesdk-1.1.8-cp36-none-any.whl size=147150 sha256=c2e10c2ad86165a776de2a97b73297d69fc07c78def8e870ba7d87740b65229c\n",
            "  Stored in directory: /root/.cache/pip/wheels/8f/0c/f0/fe6e0677e05a8bfbd6c2b8d2034db9bcdc03f365545a990fff\n",
            "Successfully built onedrivesdk\n",
            "Installing collected packages: onedrivesdk\n",
            "Successfully installed onedrivesdk-1.1.8\n"
          ],
          "name": "stdout"
        }
      ]
    },
    {
      "cell_type": "code",
      "metadata": {
        "colab": {
          "base_uri": "https://localhost:8080/",
          "height": 394
        },
        "id": "2cOt4syk8E1-",
        "outputId": "3bc7e896-02c2-46e2-9a18-4541087342de"
      },
      "source": [
        "'''\r\n",
        "# Import packages from `ondrivesdk`\r\n",
        "import onedrivesdk\r\n",
        "from onedrivesdk.helpers import GetAuthCodeServer\r\n",
        "from onedrivesdk.helpers.resource_discovery import ResourceDiscoveryRequest\r\n",
        "\r\n",
        "redirect_uri = 'http://localhost:8080/' \r\n",
        "client_secret = 'txwlRACN800:~abtZDV08@=' \r\n",
        "client_id='9603342a-0630-4e1c-9fb1-fe97746511ae' \r\n",
        "api_base_url= 'https://graph.microsoft.com/v1.0/' \r\n",
        "scopes=['wl.signin', 'wl.offline_access', 'onedrive.readwrite'] \r\n",
        "http_provider = onedrivesdk.HttpProvider() \r\n",
        "auth_provider = onedrivesdk.AuthProvider(http_provider=http_provider, \r\n",
        "                                         client_id=client_id, \r\n",
        "                                         scopes=scopes) \r\n",
        "client = onedrivesdk.OneDriveClient(api_base_url, auth_provider, \r\n",
        "                                    http_provider) \r\n",
        "auth_url = client.auth_provider.get_auth_url(redirect_uri) \r\n",
        "print(auth_url)\r\n",
        "code = \"https://login.live.com/oauth20_authorize.srf?client_id=64bdfc12-0546-4082-beb4-8504880da74e&response_type=code&redirect_uri=http%3A%2F%2Flocalhost%3A8080%2F&scope=wl.signin+wl.offline_access+onedrive.readwrite\"\r\n",
        "client.auth_provider.authenticate(code, redirect_uri, client_secret)\r\n",
        "'''"
      ],
      "execution_count": null,
      "outputs": [
        {
          "output_type": "stream",
          "text": [
            "https://login.live.com/oauth20_authorize.srf?client_id=9603342a-0630-4e1c-9fb1-fe97746511ae&response_type=code&redirect_uri=http%3A%2F%2Flocalhost%3A8080%2F&scope=wl.signin+wl.offline_access+onedrive.readwrite\n"
          ],
          "name": "stdout"
        },
        {
          "output_type": "error",
          "ename": "Exception",
          "evalue": "ignored",
          "traceback": [
            "\u001b[0;31m---------------------------------------------------------------------------\u001b[0m",
            "\u001b[0;31mException\u001b[0m                                 Traceback (most recent call last)",
            "\u001b[0;32m<ipython-input-3-c050eab5c819>\u001b[0m in \u001b[0;36m<module>\u001b[0;34m()\u001b[0m\n\u001b[1;32m     18\u001b[0m \u001b[0mprint\u001b[0m\u001b[0;34m(\u001b[0m\u001b[0mauth_url\u001b[0m\u001b[0;34m)\u001b[0m\u001b[0;34m\u001b[0m\u001b[0;34m\u001b[0m\u001b[0m\n\u001b[1;32m     19\u001b[0m \u001b[0mcode\u001b[0m \u001b[0;34m=\u001b[0m \u001b[0;34m\"https://login.live.com/oauth20_authorize.srf?client_id=64bdfc12-0546-4082-beb4-8504880da74e&response_type=code&redirect_uri=http%3A%2F%2Flocalhost%3A8080%2F&scope=wl.signin+wl.offline_access+onedrive.readwrite\"\u001b[0m\u001b[0;34m\u001b[0m\u001b[0;34m\u001b[0m\u001b[0m\n\u001b[0;32m---> 20\u001b[0;31m \u001b[0mclient\u001b[0m\u001b[0;34m.\u001b[0m\u001b[0mauth_provider\u001b[0m\u001b[0;34m.\u001b[0m\u001b[0mauthenticate\u001b[0m\u001b[0;34m(\u001b[0m\u001b[0mcode\u001b[0m\u001b[0;34m,\u001b[0m \u001b[0mredirect_uri\u001b[0m\u001b[0;34m,\u001b[0m \u001b[0mclient_secret\u001b[0m\u001b[0;34m)\u001b[0m\u001b[0;34m\u001b[0m\u001b[0;34m\u001b[0m\u001b[0m\n\u001b[0m",
            "\u001b[0;32m/usr/local/lib/python3.6/dist-packages/onedrivesdk/auth_provider.py\u001b[0m in \u001b[0;36mauthenticate\u001b[0;34m(self, code, redirect_uri, client_secret, resource)\u001b[0m\n\u001b[1;32m    201\u001b[0m                                             \u001b[0mheaders\u001b[0m\u001b[0;34m=\u001b[0m\u001b[0mheaders\u001b[0m\u001b[0;34m,\u001b[0m\u001b[0;34m\u001b[0m\u001b[0;34m\u001b[0m\u001b[0m\n\u001b[1;32m    202\u001b[0m                                             \u001b[0murl\u001b[0m\u001b[0;34m=\u001b[0m\u001b[0mauth_url\u001b[0m\u001b[0;34m,\u001b[0m\u001b[0;34m\u001b[0m\u001b[0;34m\u001b[0m\u001b[0m\n\u001b[0;32m--> 203\u001b[0;31m                                             data=params)\n\u001b[0m\u001b[1;32m    204\u001b[0m \u001b[0;34m\u001b[0m\u001b[0m\n\u001b[1;32m    205\u001b[0m         \u001b[0mrcont\u001b[0m \u001b[0;34m=\u001b[0m \u001b[0mjson\u001b[0m\u001b[0;34m.\u001b[0m\u001b[0mloads\u001b[0m\u001b[0;34m(\u001b[0m\u001b[0mresponse\u001b[0m\u001b[0;34m.\u001b[0m\u001b[0mcontent\u001b[0m\u001b[0;34m)\u001b[0m\u001b[0;34m\u001b[0m\u001b[0;34m\u001b[0m\u001b[0m\n",
            "\u001b[0;32m/usr/local/lib/python3.6/dist-packages/onedrivesdk/http_provider.py\u001b[0m in \u001b[0;36msend\u001b[0;34m(self, method, headers, url, data, content, path)\u001b[0m\n\u001b[1;32m     69\u001b[0m             \u001b[0mresponse\u001b[0m \u001b[0;34m=\u001b[0m \u001b[0msession\u001b[0m\u001b[0;34m.\u001b[0m\u001b[0msend\u001b[0m\u001b[0;34m(\u001b[0m\u001b[0mprepped\u001b[0m\u001b[0;34m)\u001b[0m\u001b[0;34m\u001b[0m\u001b[0;34m\u001b[0m\u001b[0m\n\u001b[1;32m     70\u001b[0m \u001b[0;34m\u001b[0m\u001b[0m\n\u001b[0;32m---> 71\u001b[0;31m         \u001b[0mcustom_response\u001b[0m \u001b[0;34m=\u001b[0m \u001b[0mHttpResponse\u001b[0m\u001b[0;34m(\u001b[0m\u001b[0mresponse\u001b[0m\u001b[0;34m.\u001b[0m\u001b[0mstatus_code\u001b[0m\u001b[0;34m,\u001b[0m \u001b[0mresponse\u001b[0m\u001b[0;34m.\u001b[0m\u001b[0mheaders\u001b[0m\u001b[0;34m,\u001b[0m \u001b[0mresponse\u001b[0m\u001b[0;34m.\u001b[0m\u001b[0mtext\u001b[0m\u001b[0;34m)\u001b[0m\u001b[0;34m\u001b[0m\u001b[0;34m\u001b[0m\u001b[0m\n\u001b[0m\u001b[1;32m     72\u001b[0m         \u001b[0;32mreturn\u001b[0m \u001b[0mcustom_response\u001b[0m\u001b[0;34m\u001b[0m\u001b[0;34m\u001b[0m\u001b[0m\n\u001b[1;32m     73\u001b[0m \u001b[0;34m\u001b[0m\u001b[0m\n",
            "\u001b[0;32m/usr/local/lib/python3.6/dist-packages/onedrivesdk/http_response.py\u001b[0m in \u001b[0;36m__init__\u001b[0;34m(self, status, headers, content)\u001b[0m\n\u001b[1;32m     59\u001b[0m                     \u001b[0;32mraise\u001b[0m \u001b[0mOneDriveError\u001b[0m\u001b[0;34m(\u001b[0m\u001b[0mmessage\u001b[0m\u001b[0;34m[\u001b[0m\u001b[0;34m\"error\"\u001b[0m\u001b[0;34m]\u001b[0m\u001b[0;34m,\u001b[0m \u001b[0mself\u001b[0m\u001b[0;34m.\u001b[0m\u001b[0mstatus\u001b[0m\u001b[0;34m)\u001b[0m\u001b[0;34m\u001b[0m\u001b[0;34m\u001b[0m\u001b[0m\n\u001b[1;32m     60\u001b[0m                 \u001b[0;32melse\u001b[0m\u001b[0;34m:\u001b[0m\u001b[0;34m\u001b[0m\u001b[0;34m\u001b[0m\u001b[0m\n\u001b[0;32m---> 61\u001b[0;31m                     \u001b[0;32mraise\u001b[0m \u001b[0mException\u001b[0m\u001b[0;34m(\u001b[0m\u001b[0mstr\u001b[0m\u001b[0;34m(\u001b[0m\u001b[0mmessage\u001b[0m\u001b[0;34m[\u001b[0m\u001b[0;34m\"error\"\u001b[0m\u001b[0;34m]\u001b[0m\u001b[0;34m)\u001b[0m\u001b[0;34m)\u001b[0m\u001b[0;34m\u001b[0m\u001b[0;34m\u001b[0m\u001b[0m\n\u001b[0m\u001b[1;32m     62\u001b[0m \u001b[0;34m\u001b[0m\u001b[0m\n\u001b[1;32m     63\u001b[0m     \u001b[0;32mdef\u001b[0m \u001b[0m__str__\u001b[0m\u001b[0;34m(\u001b[0m\u001b[0mself\u001b[0m\u001b[0;34m)\u001b[0m\u001b[0;34m:\u001b[0m\u001b[0;34m\u001b[0m\u001b[0;34m\u001b[0m\u001b[0m\n",
            "\u001b[0;31mException\u001b[0m: invalid_grant"
          ]
        }
      ]
    },
    {
      "cell_type": "markdown",
      "metadata": {
        "id": "3S6HYmWyZ8CO"
      },
      "source": [
        "Using manual file upload until issue #1 is resolved"
      ]
    },
    {
      "cell_type": "code",
      "metadata": {
        "colab": {
          "resources": {
            "http://localhost:8080/nbextensions/google.colab/files.js": {
              "data": "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",
              "ok": true,
              "headers": [
                [
                  "content-type",
                  "application/javascript"
                ]
              ],
              "status": 200,
              "status_text": ""
            }
          },
          "base_uri": "https://localhost:8080/",
          "height": 72
        },
        "id": "StzVW07XXq5D",
        "outputId": "d4d10fec-bb76-46fe-a48f-4482f95c4900"
      },
      "source": [
        "# Manual File Upload from local drive\r\n",
        "from google.colab import files\r\n",
        "uploaded2018 = files.upload()"
      ],
      "execution_count": null,
      "outputs": [
        {
          "output_type": "display_data",
          "data": {
            "text/html": [
              "\n",
              "     <input type=\"file\" id=\"files-add8a24e-2218-4d68-bb26-b9660c48e02c\" name=\"files[]\" multiple disabled\n",
              "        style=\"border:none\" />\n",
              "     <output id=\"result-add8a24e-2218-4d68-bb26-b9660c48e02c\">\n",
              "      Upload widget is only available when the cell has been executed in the\n",
              "      current browser session. Please rerun this cell to enable.\n",
              "      </output>\n",
              "      <script src=\"/nbextensions/google.colab/files.js\"></script> "
            ],
            "text/plain": [
              "<IPython.core.display.HTML object>"
            ]
          },
          "metadata": {
            "tags": []
          }
        },
        {
          "output_type": "stream",
          "text": [
            "Saving YNP_SummaryData.xlsx to YNP_SummaryData.xlsx\n"
          ],
          "name": "stdout"
        }
      ]
    },
    {
      "cell_type": "code",
      "metadata": {
        "colab": {
          "base_uri": "https://localhost:8080/",
          "height": 496
        },
        "id": "1BUl_5zyZ58r",
        "outputId": "ee0249d1-bc70-4de0-d579-8ca6ba311f9b"
      },
      "source": [
        "# Import file into workspace\r\n",
        "import io\r\n",
        "df_2018_YC = pd.read_excel(io.BytesIO(uploaded2018['YNP_SummaryData.xlsx']), \r\n",
        "                           sheet_name=\"2018\",\r\n",
        "                           header=0)\r\n",
        "# Delete first row that contains secondary data information\r\n",
        "df_2018_YC.drop([0], inplace=True)\r\n",
        "\r\n",
        "# Reset index\r\n",
        "df_2018_YC.reset_index(drop=True, inplace=True)\r\n",
        "\r\n",
        "# Preview data\r\n",
        "df_2018_YC.head()"
      ],
      "execution_count": null,
      "outputs": [
        {
          "output_type": "execute_result",
          "data": {
            "text/html": [
              "<div>\n",
              "<style scoped>\n",
              "    .dataframe tbody tr th:only-of-type {\n",
              "        vertical-align: middle;\n",
              "    }\n",
              "\n",
              "    .dataframe tbody tr th {\n",
              "        vertical-align: top;\n",
              "    }\n",
              "\n",
              "    .dataframe thead th {\n",
              "        text-align: right;\n",
              "    }\n",
              "</style>\n",
              "<table border=\"1\" class=\"dataframe\">\n",
              "  <thead>\n",
              "    <tr style=\"text-align: right;\">\n",
              "      <th></th>\n",
              "      <th>Site_Name</th>\n",
              "      <th>Group</th>\n",
              "      <th>Location</th>\n",
              "      <th>Soil_Classification</th>\n",
              "      <th>Latitude</th>\n",
              "      <th>Longitude</th>\n",
              "      <th>Date_of_Measurement</th>\n",
              "      <th>Start_Time_of_Chamber_Enclosure</th>\n",
              "      <th>End_Time_of_Chamber_Enclosure</th>\n",
              "      <th>Duration_of_Chamber_Enclosure</th>\n",
              "      <th>CH4_Flux</th>\n",
              "      <th>Long_Term CH4_Flux</th>\n",
              "      <th>d13CH4_source</th>\n",
              "      <th>LowerBound_d13CH4_source</th>\n",
              "      <th>UpperBound_d13CH4_source</th>\n",
              "      <th>CO2_Flux</th>\n",
              "      <th>Long_Term_CO2_Flux</th>\n",
              "      <th>d13CO2_source</th>\n",
              "      <th>LowerBound_d13CO2_source</th>\n",
              "      <th>UpperBound_d13CO2_source</th>\n",
              "      <th>Horita_Geothermometer_Temperature_at_Formation</th>\n",
              "      <th>Ambient_Temperature</th>\n",
              "      <th>Barometric_Pressure</th>\n",
              "      <th>Soil_Moisture</th>\n",
              "      <th>Soil_Conductivity</th>\n",
              "      <th>Soil_Tempeature_at_Surface</th>\n",
              "      <th>Soil_Tempeature_at_6_in_depth</th>\n",
              "    </tr>\n",
              "  </thead>\n",
              "  <tbody>\n",
              "    <tr>\n",
              "      <th>0</th>\n",
              "      <td>Porcelain Basin</td>\n",
              "      <td>North of Norris GB</td>\n",
              "      <td>PRCN_20Jun2018_1.1</td>\n",
              "      <td>Acid-Sulphate</td>\n",
              "      <td>44.7447</td>\n",
              "      <td>-110.713</td>\n",
              "      <td>2018-06-20 00:00:00</td>\n",
              "      <td>2018-06-20 11:48:30</td>\n",
              "      <td>2018-06-20 12:08:00</td>\n",
              "      <td>19.5</td>\n",
              "      <td>0.0001738</td>\n",
              "      <td>0.00152353</td>\n",
              "      <td>7.14093</td>\n",
              "      <td>-142.064</td>\n",
              "      <td>156.346</td>\n",
              "      <td>214.948</td>\n",
              "      <td>1.88424</td>\n",
              "      <td>-5.56615</td>\n",
              "      <td>-5.87406</td>\n",
              "      <td>-5.25824</td>\n",
              "      <td>-5.87406</td>\n",
              "      <td>-5.25824</td>\n",
              "      <td>1.11546e+11</td>\n",
              "      <td>NaN</td>\n",
              "      <td>NaN</td>\n",
              "      <td>1.31763</td>\n",
              "      <td>714.47</td>\n",
              "    </tr>\n",
              "    <tr>\n",
              "      <th>1</th>\n",
              "      <td>Porcelain Basin</td>\n",
              "      <td>North of Norris GB</td>\n",
              "      <td>PRCN_20Jun2018_1.2</td>\n",
              "      <td>Acid-Sulphate</td>\n",
              "      <td>44.7448</td>\n",
              "      <td>-110.713</td>\n",
              "      <td>2018-06-20 00:00:00</td>\n",
              "      <td>2018-06-20 12:22:30</td>\n",
              "      <td>2018-06-20 12:42:00</td>\n",
              "      <td>19.5</td>\n",
              "      <td>-0.000784411</td>\n",
              "      <td>-0.00687615</td>\n",
              "      <td>-116.363</td>\n",
              "      <td>-386.473</td>\n",
              "      <td>153.747</td>\n",
              "      <td>437.633</td>\n",
              "      <td>3.83629</td>\n",
              "      <td>-19.2932</td>\n",
              "      <td>-19.4558</td>\n",
              "      <td>-19.1307</td>\n",
              "      <td>-19.4558</td>\n",
              "      <td>-19.1307</td>\n",
              "      <td>-29.0515</td>\n",
              "      <td>NaN</td>\n",
              "      <td>NaN</td>\n",
              "      <td>1.31647</td>\n",
              "      <td>778.056</td>\n",
              "    </tr>\n",
              "    <tr>\n",
              "      <th>2</th>\n",
              "      <td>Porcelain Basin</td>\n",
              "      <td>North of Norris GB</td>\n",
              "      <td>PRCN_20Jun2018_1.3</td>\n",
              "      <td>Acid-Sulphate</td>\n",
              "      <td>44.7448</td>\n",
              "      <td>-110.713</td>\n",
              "      <td>2018-06-20 00:00:00</td>\n",
              "      <td>2018-06-20 12:56:30</td>\n",
              "      <td>2018-06-20 13:15:59</td>\n",
              "      <td>19.4833</td>\n",
              "      <td>-0.00236666</td>\n",
              "      <td>-0.0207461</td>\n",
              "      <td>36.94</td>\n",
              "      <td>-59.3935</td>\n",
              "      <td>133.273</td>\n",
              "      <td>215.394</td>\n",
              "      <td>1.88815</td>\n",
              "      <td>-23.4323</td>\n",
              "      <td>-23.7177</td>\n",
              "      <td>-23.1469</td>\n",
              "      <td>-23.7177</td>\n",
              "      <td>-23.1469</td>\n",
              "      <td>450282228398209761280</td>\n",
              "      <td>NaN</td>\n",
              "      <td>NaN</td>\n",
              "      <td>1.31442</td>\n",
              "      <td>737.47</td>\n",
              "    </tr>\n",
              "    <tr>\n",
              "      <th>3</th>\n",
              "      <td>Porcelain Basin</td>\n",
              "      <td>North of Norris GB</td>\n",
              "      <td>PRCN_20Jun2018_2.1</td>\n",
              "      <td>Acid-Sulphate</td>\n",
              "      <td>44.745</td>\n",
              "      <td>-110.713</td>\n",
              "      <td>2018-06-20 00:00:00</td>\n",
              "      <td>2018-06-20 13:32:33</td>\n",
              "      <td>2018-06-20 13:51:57</td>\n",
              "      <td>19.4</td>\n",
              "      <td>-0.00125964</td>\n",
              "      <td>-0.011042</td>\n",
              "      <td>31.0104</td>\n",
              "      <td>-84.1555</td>\n",
              "      <td>146.176</td>\n",
              "      <td>347.507</td>\n",
              "      <td>3.04624</td>\n",
              "      <td>-22.9485</td>\n",
              "      <td>-23.1399</td>\n",
              "      <td>-22.757</td>\n",
              "      <td>-23.1399</td>\n",
              "      <td>-22.757</td>\n",
              "      <td>503872814901302919168</td>\n",
              "      <td>NaN</td>\n",
              "      <td>NaN</td>\n",
              "      <td>1.31679</td>\n",
              "      <td>688.697</td>\n",
              "    </tr>\n",
              "    <tr>\n",
              "      <th>4</th>\n",
              "      <td>Porcelain Basin</td>\n",
              "      <td>North of Norris GB</td>\n",
              "      <td>PRCN_20Jun2018_2.2</td>\n",
              "      <td>Acid-Sulphate</td>\n",
              "      <td>44.745</td>\n",
              "      <td>-110.713</td>\n",
              "      <td>2018-06-20 00:00:00</td>\n",
              "      <td>2018-06-20 14:07:30</td>\n",
              "      <td>2018-06-20 14:27:00</td>\n",
              "      <td>19.5</td>\n",
              "      <td>-0.000472218</td>\n",
              "      <td>-0.00413946</td>\n",
              "      <td>317.581</td>\n",
              "      <td>-88.6927</td>\n",
              "      <td>723.856</td>\n",
              "      <td>350.529</td>\n",
              "      <td>3.07273</td>\n",
              "      <td>-19.3013</td>\n",
              "      <td>-19.5028</td>\n",
              "      <td>-19.0999</td>\n",
              "      <td>-19.5028</td>\n",
              "      <td>-19.0999</td>\n",
              "      <td>251936407216017440768</td>\n",
              "      <td>NaN</td>\n",
              "      <td>NaN</td>\n",
              "      <td>1.31185</td>\n",
              "      <td>708.358</td>\n",
              "    </tr>\n",
              "  </tbody>\n",
              "</table>\n",
              "</div>"
            ],
            "text/plain": [
              "         Site_Name  ... Soil_Tempeature_at_6_in_depth\n",
              "0  Porcelain Basin  ...                        714.47\n",
              "1  Porcelain Basin  ...                       778.056\n",
              "2  Porcelain Basin  ...                        737.47\n",
              "3  Porcelain Basin  ...                       688.697\n",
              "4  Porcelain Basin  ...                       708.358\n",
              "\n",
              "[5 rows x 27 columns]"
            ]
          },
          "metadata": {
            "tags": []
          },
          "execution_count": 4
        }
      ]
    },
    {
      "cell_type": "code",
      "metadata": {
        "colab": {
          "resources": {
            "http://localhost:8080/nbextensions/google.colab/files.js": {
              "data": "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",
              "ok": true,
              "headers": [
                [
                  "content-type",
                  "application/javascript"
                ]
              ],
              "status": 200,
              "status_text": ""
            }
          },
          "base_uri": "https://localhost:8080/",
          "height": 72
        },
        "id": "Z1kNKjQKFvxY",
        "outputId": "536bb586-c300-41c9-b6c3-397140193730"
      },
      "source": [
        "# Import data from 2019 into Workspace\r\n",
        "uploaded2019 = files.upload()"
      ],
      "execution_count": null,
      "outputs": [
        {
          "output_type": "display_data",
          "data": {
            "text/html": [
              "\n",
              "     <input type=\"file\" id=\"files-f8d03ee4-92d5-4e31-b731-49af32864122\" name=\"files[]\" multiple disabled\n",
              "        style=\"border:none\" />\n",
              "     <output id=\"result-f8d03ee4-92d5-4e31-b731-49af32864122\">\n",
              "      Upload widget is only available when the cell has been executed in the\n",
              "      current browser session. Please rerun this cell to enable.\n",
              "      </output>\n",
              "      <script src=\"/nbextensions/google.colab/files.js\"></script> "
            ],
            "text/plain": [
              "<IPython.core.display.HTML object>"
            ]
          },
          "metadata": {
            "tags": []
          }
        },
        {
          "output_type": "stream",
          "text": [
            "Saving YNP_SummaryData.xlsx to YNP_SummaryData (2).xlsx\n"
          ],
          "name": "stdout"
        }
      ]
    },
    {
      "cell_type": "code",
      "metadata": {
        "colab": {
          "base_uri": "https://localhost:8080/",
          "height": 479
        },
        "id": "PYzpMaV9c57o",
        "outputId": "3f4a7485-b7a2-45a7-a342-768d77bc2c4f"
      },
      "source": [
        "# Import file into workspace\r\n",
        "df_2019_YC = pd.read_excel(io.BytesIO(uploaded2019['YNP_SummaryData.xlsx']), \r\n",
        "                           sheet_name=\"2019\",\r\n",
        "                           header=0)\r\n",
        "# Delete first row that contains secondary data information\r\n",
        "df_2019_YC.drop([0], inplace=True)\r\n",
        "\r\n",
        "# Reset index\r\n",
        "df_2019_YC.reset_index(drop=True, inplace=True)\r\n",
        "\r\n",
        "# Preview data\r\n",
        "df_2019_YC.head()"
      ],
      "execution_count": null,
      "outputs": [
        {
          "output_type": "execute_result",
          "data": {
            "text/html": [
              "<div>\n",
              "<style scoped>\n",
              "    .dataframe tbody tr th:only-of-type {\n",
              "        vertical-align: middle;\n",
              "    }\n",
              "\n",
              "    .dataframe tbody tr th {\n",
              "        vertical-align: top;\n",
              "    }\n",
              "\n",
              "    .dataframe thead th {\n",
              "        text-align: right;\n",
              "    }\n",
              "</style>\n",
              "<table border=\"1\" class=\"dataframe\">\n",
              "  <thead>\n",
              "    <tr style=\"text-align: right;\">\n",
              "      <th></th>\n",
              "      <th>Site_Name</th>\n",
              "      <th>Group</th>\n",
              "      <th>Location</th>\n",
              "      <th>Soil_Classification</th>\n",
              "      <th>Latitude</th>\n",
              "      <th>Longitude</th>\n",
              "      <th>Date_of_Measurement</th>\n",
              "      <th>Start_Time_of_Chamber_Enclosure</th>\n",
              "      <th>End_Time_of_Chamber_Enclosure</th>\n",
              "      <th>Duration_of_Chamber_Enclosure</th>\n",
              "      <th>CH4_Flux</th>\n",
              "      <th>Long_Term_CH4_Flux</th>\n",
              "      <th>d13CH4_source</th>\n",
              "      <th>LowerBound_d13CH4_source</th>\n",
              "      <th>UpperBound_d13CH4_source</th>\n",
              "      <th>CO2_Flux</th>\n",
              "      <th>Long_Term_CO2_Flux</th>\n",
              "      <th>d13CO2_source</th>\n",
              "      <th>LowerBound_d13CO2_source</th>\n",
              "      <th>UpperBound_d13CO2_source</th>\n",
              "      <th>Horita_Geothermometer_Temperature_at_Formation</th>\n",
              "      <th>Ambient_Temperature</th>\n",
              "      <th>Barometric_Pressure</th>\n",
              "      <th>Soil_Moisture</th>\n",
              "      <th>Soil_Conductivity</th>\n",
              "      <th>Soil_Tempeature_at_Surface</th>\n",
              "      <th>Soil_Tempeature_at_6_in_depth</th>\n",
              "    </tr>\n",
              "  </thead>\n",
              "  <tbody>\n",
              "    <tr>\n",
              "      <th>0</th>\n",
              "      <td>Gas Vents</td>\n",
              "      <td>Gas Vents (Solfatara Springs)</td>\n",
              "      <td>GVNT_06Jun2019_3.1</td>\n",
              "      <td>Acid-Sulphate</td>\n",
              "      <td>44.7095</td>\n",
              "      <td>-110.554</td>\n",
              "      <td>2019-06-06 00:00:00</td>\n",
              "      <td>2019-06-06 11:15:48</td>\n",
              "      <td>2019-06-06 11:33:27</td>\n",
              "      <td>17.65</td>\n",
              "      <td>-0.0142029</td>\n",
              "      <td>-0.124503</td>\n",
              "      <td>-60.1871</td>\n",
              "      <td>-94.4202</td>\n",
              "      <td>-25.954</td>\n",
              "      <td>61.6027</td>\n",
              "      <td>0.540009</td>\n",
              "      <td>-0.994721</td>\n",
              "      <td>-0.994721</td>\n",
              "      <td>4.3392</td>\n",
              "      <td>NaN</td>\n",
              "      <td>NaN</td>\n",
              "      <td>NaN</td>\n",
              "      <td>NaN</td>\n",
              "      <td>NaN</td>\n",
              "      <td>10.8</td>\n",
              "      <td>NaN</td>\n",
              "    </tr>\n",
              "    <tr>\n",
              "      <th>1</th>\n",
              "      <td>Gas Vents</td>\n",
              "      <td>Gas Vents (Solfatara Springs)</td>\n",
              "      <td>GVNT_06Jun2019_3.2</td>\n",
              "      <td>Acid-Sulphate</td>\n",
              "      <td>44.7097</td>\n",
              "      <td>-110.554</td>\n",
              "      <td>2019-06-06 00:00:00</td>\n",
              "      <td>2019-06-06 11:49:57</td>\n",
              "      <td>2019-06-06 12:04:49</td>\n",
              "      <td>14.8667</td>\n",
              "      <td>0.245512</td>\n",
              "      <td>2.15215</td>\n",
              "      <td>-11.7023</td>\n",
              "      <td>-14.3093</td>\n",
              "      <td>-9.09528</td>\n",
              "      <td>1998.61</td>\n",
              "      <td>17.5198</td>\n",
              "      <td>-4.19908</td>\n",
              "      <td>-4.19908</td>\n",
              "      <td>-4.04135</td>\n",
              "      <td>NaN</td>\n",
              "      <td>NaN</td>\n",
              "      <td>NaN</td>\n",
              "      <td>NaN</td>\n",
              "      <td>NaN</td>\n",
              "      <td>19</td>\n",
              "      <td>NaN</td>\n",
              "    </tr>\n",
              "    <tr>\n",
              "      <th>2</th>\n",
              "      <td>Gas Vents</td>\n",
              "      <td>Gas Vents (Solfatara Springs)</td>\n",
              "      <td>GVNT_06Jun2019_3.3</td>\n",
              "      <td>Acid-Sulphate</td>\n",
              "      <td>44.7098</td>\n",
              "      <td>-110.554</td>\n",
              "      <td>2019-06-06 00:00:00</td>\n",
              "      <td>2019-06-06 12:26:56</td>\n",
              "      <td>2019-06-06 12:35:29</td>\n",
              "      <td>8.55</td>\n",
              "      <td>1.92642</td>\n",
              "      <td>16.887</td>\n",
              "      <td>-30.8819</td>\n",
              "      <td>-31.8585</td>\n",
              "      <td>-29.9052</td>\n",
              "      <td>3759.53</td>\n",
              "      <td>32.956</td>\n",
              "      <td>-6.3691</td>\n",
              "      <td>-6.3691</td>\n",
              "      <td>-6.1339</td>\n",
              "      <td>NaN</td>\n",
              "      <td>NaN</td>\n",
              "      <td>NaN</td>\n",
              "      <td>NaN</td>\n",
              "      <td>NaN</td>\n",
              "      <td>20.7</td>\n",
              "      <td>NaN</td>\n",
              "    </tr>\n",
              "    <tr>\n",
              "      <th>3</th>\n",
              "      <td>Gas Vents</td>\n",
              "      <td>Gas Vents (Solfatara Springs)</td>\n",
              "      <td>GVNT_06Jun2019_4.1</td>\n",
              "      <td>Acid-Sulphate</td>\n",
              "      <td>44.7112</td>\n",
              "      <td>-110.554</td>\n",
              "      <td>2019-06-06 00:00:00</td>\n",
              "      <td>2019-06-06 13:59:30</td>\n",
              "      <td>2019-06-06 14:01:43</td>\n",
              "      <td>2.21667</td>\n",
              "      <td>9.77365</td>\n",
              "      <td>85.6758</td>\n",
              "      <td>-26.7443</td>\n",
              "      <td>-28.5211</td>\n",
              "      <td>-24.9675</td>\n",
              "      <td>15562.5</td>\n",
              "      <td>136.421</td>\n",
              "      <td>-9.25684</td>\n",
              "      <td>-9.25684</td>\n",
              "      <td>-3.47258</td>\n",
              "      <td>NaN</td>\n",
              "      <td>NaN</td>\n",
              "      <td>NaN</td>\n",
              "      <td>NaN</td>\n",
              "      <td>NaN</td>\n",
              "      <td>43.3</td>\n",
              "      <td>NaN</td>\n",
              "    </tr>\n",
              "    <tr>\n",
              "      <th>4</th>\n",
              "      <td>Gas Vents</td>\n",
              "      <td>Gas Vents (Solfatara Springs)</td>\n",
              "      <td>GVNT_06Jun2019_4.2</td>\n",
              "      <td>Acid-Sulphate</td>\n",
              "      <td>44.7113</td>\n",
              "      <td>-110.554</td>\n",
              "      <td>2019-06-06 00:00:00</td>\n",
              "      <td>2019-06-06 14:27:20</td>\n",
              "      <td>2019-06-06 14:33:03</td>\n",
              "      <td>5.71667</td>\n",
              "      <td>4.06264</td>\n",
              "      <td>35.6131</td>\n",
              "      <td>-30.2581</td>\n",
              "      <td>-30.9619</td>\n",
              "      <td>-29.5543</td>\n",
              "      <td>5666.13</td>\n",
              "      <td>49.6693</td>\n",
              "      <td>4.18146</td>\n",
              "      <td>4.18146</td>\n",
              "      <td>7.97036</td>\n",
              "      <td>NaN</td>\n",
              "      <td>NaN</td>\n",
              "      <td>NaN</td>\n",
              "      <td>NaN</td>\n",
              "      <td>NaN</td>\n",
              "      <td>46.5</td>\n",
              "      <td>NaN</td>\n",
              "    </tr>\n",
              "  </tbody>\n",
              "</table>\n",
              "</div>"
            ],
            "text/plain": [
              "   Site_Name  ... Soil_Tempeature_at_6_in_depth\n",
              "0  Gas Vents  ...                           NaN\n",
              "1  Gas Vents  ...                           NaN\n",
              "2  Gas Vents  ...                           NaN\n",
              "3  Gas Vents  ...                           NaN\n",
              "4  Gas Vents  ...                           NaN\n",
              "\n",
              "[5 rows x 27 columns]"
            ]
          },
          "metadata": {
            "tags": []
          },
          "execution_count": 12
        }
      ]
    },
    {
      "cell_type": "markdown",
      "metadata": {
        "id": "JY6p6jbIcea0"
      },
      "source": [
        "## Preprocessing and cleaning\r\n",
        "For the initial deployment of this exercise, we will only examine data collected at Gas Vents (GVNT). Therefore, several cleaning steps are requireed to ensure correct data types, addressing missing data, and other cleaning activities."
      ]
    },
    {
      "cell_type": "code",
      "metadata": {
        "colab": {
          "base_uri": "https://localhost:8080/"
        },
        "id": "nd-IwUW5c2WH",
        "outputId": "9de743ed-6163-4047-8452-f03497969a14"
      },
      "source": [
        "# Assess the data types for the dataframe\r\n",
        "df_2018_YC.dtypes"
      ],
      "execution_count": null,
      "outputs": [
        {
          "output_type": "execute_result",
          "data": {
            "text/plain": [
              "Site_Name                                         object\n",
              "Group                                             object\n",
              "Location                                          object\n",
              "Soil_Classification                               object\n",
              "Latitude                                          object\n",
              "Longitude                                         object\n",
              "Date_of_Measurement                               object\n",
              "Start_Time_of_Chamber_Enclosure                   object\n",
              "End_Time_of_Chamber_Enclosure                     object\n",
              "Duration_of_Chamber_Enclosure                     object\n",
              "CH4_Flux                                          object\n",
              "Long_Term CH4_Flux                                object\n",
              "d13CH4_source                                     object\n",
              "LowerBound_d13CH4_source                          object\n",
              "UpperBound_d13CH4_source                          object\n",
              "CO2_Flux                                          object\n",
              "Long_Term_CO2_Flux                                object\n",
              "d13CO2_source                                     object\n",
              "LowerBound_d13CO2_source                          object\n",
              "UpperBound_d13CO2_source                          object\n",
              "Horita_Geothermometer_Temperature_at_Formation    object\n",
              "Ambient_Temperature                               object\n",
              "Barometric_Pressure                               object\n",
              "Soil_Moisture                                     object\n",
              "Soil_Conductivity                                 object\n",
              "Soil_Tempeature_at_Surface                        object\n",
              "Soil_Tempeature_at_6_in_depth                     object\n",
              "dtype: object"
            ]
          },
          "metadata": {
            "tags": []
          },
          "execution_count": 7
        }
      ]
    },
    {
      "cell_type": "markdown",
      "metadata": {
        "id": "Z44oGxcVI8OH"
      },
      "source": [
        "From visual inspection of the data types, it appears that all columns have been set to `object`. Therefore, it will require a dictionary where, I have mannually set up."
      ]
    },
    {
      "cell_type": "code",
      "metadata": {
        "colab": {
          "base_uri": "https://localhost:8080/"
        },
        "id": "o7Yxin88IVUj",
        "outputId": "d8ae1408-aa80-4740-b311-b374999fa805"
      },
      "source": [
        "# Set dictionary for correct data types\r\n",
        "data_types = {\"Group\":\"category\", \r\n",
        "              \"Location\":\"object\",\r\n",
        "              \"Soil_Classification\":\"category\", \r\n",
        "              \"Latitude\":\"float64\",\"Longitude\":\"float64\", \r\n",
        "              \"Date_of_Measurement\":\"datetime64\",\r\n",
        "              \"Start_Time_of_Chamber_Enclosure\":\"datetime64\", \r\n",
        "              \"End_Time_of_Chamber_Enclosure\":\"datetime64\",\r\n",
        "              \"Duration_of_Chamber_Enclosure\":\"float64\",\r\n",
        "              \"CH4_Flux\":\"float64\",\r\n",
        "              \"d13CH4_source\":\"float64\", \r\n",
        "              \"LowerBound_d13CH4_source\":\"float64\",\r\n",
        "              \"UpperBound_d13CH4_source\":\"float64\",\r\n",
        "              \"CO2_Flux\":\"float64\",\r\n",
        "              \"LowerBound_d13CO2_source\":\"float64\",\r\n",
        "              \"UpperBound_d13CO2_source\":\"float64\"}\r\n",
        "\r\n",
        "# Set data types accordingly\r\n",
        "df_2018_YC = df_2018_YC.astype(data_types)\r\n",
        "df_2019_YC = df_2019_YC.astype(data_types)\r\n",
        "\r\n",
        "# Confirm correct data types\r\n",
        "df_2018_YC.dtypes"
      ],
      "execution_count": null,
      "outputs": [
        {
          "output_type": "execute_result",
          "data": {
            "text/plain": [
              "Site_Name                                                 object\n",
              "Group                                                   category\n",
              "Location                                                  object\n",
              "Soil_Classification                                     category\n",
              "Latitude                                                 float64\n",
              "Longitude                                                float64\n",
              "Date_of_Measurement                               datetime64[ns]\n",
              "Start_Time_of_Chamber_Enclosure                   datetime64[ns]\n",
              "End_Time_of_Chamber_Enclosure                     datetime64[ns]\n",
              "Duration_of_Chamber_Enclosure                            float64\n",
              "CH4_Flux                                                 float64\n",
              "Long_Term CH4_Flux                                       float64\n",
              "d13CH4_source                                            float64\n",
              "LowerBound_d13CH4_source                                 float64\n",
              "UpperBound_d13CH4_source                                 float64\n",
              "CO2_Flux                                                 float64\n",
              "Long_Term_CO2_Flux                                        object\n",
              "d13CO2_source                                             object\n",
              "LowerBound_d13CO2_source                                 float64\n",
              "UpperBound_d13CO2_source                                 float64\n",
              "Horita_Geothermometer_Temperature_at_Formation            object\n",
              "Ambient_Temperature                                       object\n",
              "Barometric_Pressure                                       object\n",
              "Soil_Moisture                                             object\n",
              "Soil_Conductivity                                         object\n",
              "Soil_Tempeature_at_Surface                                object\n",
              "Soil_Tempeature_at_6_in_depth                             object\n",
              "dtype: object"
            ]
          },
          "metadata": {
            "tags": []
          },
          "execution_count": 13
        }
      ]
    },
    {
      "cell_type": "code",
      "metadata": {
        "colab": {
          "base_uri": "https://localhost:8080/"
        },
        "id": "AT2qA1f2rDZc",
        "outputId": "9be71744-f68e-4344-af2e-db4be5b718dd"
      },
      "source": [
        "# Drop unnecessary columns\r\n",
        "df_2018_YC.drop(df_2018_YC.columns[20:27],\r\n",
        "                axis=1, inplace=True)\r\n",
        "df_2019_YC.drop(df_2019_YC.columns[20:27],\r\n",
        "                axis=1, inplace=True)\r\n",
        "# Show columns to confirm drop\r\n",
        "df_2018_YC.columns"
      ],
      "execution_count": null,
      "outputs": [
        {
          "output_type": "execute_result",
          "data": {
            "text/plain": [
              "Index(['Site_Name', 'Group', 'Location', 'Soil_Classification', 'Latitude',\n",
              "       'Longitude', 'Date_of_Measurement', 'Start_Time_of_Chamber_Enclosure',\n",
              "       'End_Time_of_Chamber_Enclosure', 'Duration_of_Chamber_Enclosure',\n",
              "       'CH4_Flux', 'Long_Term CH4_Flux', 'd13CH4_source',\n",
              "       'LowerBound_d13CH4_source', 'UpperBound_d13CH4_source', 'CO2_Flux',\n",
              "       'Long_Term_CO2_Flux', 'd13CO2_source', 'LowerBound_d13CO2_source',\n",
              "       'UpperBound_d13CO2_source'],\n",
              "      dtype='object')"
            ]
          },
          "metadata": {
            "tags": []
          },
          "execution_count": 14
        }
      ]
    },
    {
      "cell_type": "code",
      "metadata": {
        "colab": {
          "base_uri": "https://localhost:8080/",
          "height": 496
        },
        "id": "pwa-w0jU4SMU",
        "outputId": "6f72dc08-20c8-4b4e-f6b5-6bd5b7b14db5"
      },
      "source": [
        "# Preview 2018 DataFrame\r\n",
        "df_2018_YC.head()"
      ],
      "execution_count": null,
      "outputs": [
        {
          "output_type": "execute_result",
          "data": {
            "text/html": [
              "<div>\n",
              "<style scoped>\n",
              "    .dataframe tbody tr th:only-of-type {\n",
              "        vertical-align: middle;\n",
              "    }\n",
              "\n",
              "    .dataframe tbody tr th {\n",
              "        vertical-align: top;\n",
              "    }\n",
              "\n",
              "    .dataframe thead th {\n",
              "        text-align: right;\n",
              "    }\n",
              "</style>\n",
              "<table border=\"1\" class=\"dataframe\">\n",
              "  <thead>\n",
              "    <tr style=\"text-align: right;\">\n",
              "      <th></th>\n",
              "      <th>Site_Name</th>\n",
              "      <th>Group</th>\n",
              "      <th>Location</th>\n",
              "      <th>Soil_Classification</th>\n",
              "      <th>Latitude</th>\n",
              "      <th>Longitude</th>\n",
              "      <th>Date_of_Measurement</th>\n",
              "      <th>Start_Time_of_Chamber_Enclosure</th>\n",
              "      <th>End_Time_of_Chamber_Enclosure</th>\n",
              "      <th>Duration_of_Chamber_Enclosure</th>\n",
              "      <th>CH4_Flux</th>\n",
              "      <th>Long_Term CH4_Flux</th>\n",
              "      <th>d13CH4_source</th>\n",
              "      <th>LowerBound_d13CH4_source</th>\n",
              "      <th>UpperBound_d13CH4_source</th>\n",
              "      <th>CO2_Flux</th>\n",
              "      <th>Long_Term_CO2_Flux</th>\n",
              "      <th>d13CO2_source</th>\n",
              "      <th>LowerBound_d13CO2_source</th>\n",
              "      <th>UpperBound_d13CO2_source</th>\n",
              "    </tr>\n",
              "  </thead>\n",
              "  <tbody>\n",
              "    <tr>\n",
              "      <th>0</th>\n",
              "      <td>Porcelain Basin</td>\n",
              "      <td>North of Norris GB</td>\n",
              "      <td>PRCN_20Jun2018_1.1</td>\n",
              "      <td>Acid-Sulphate</td>\n",
              "      <td>44.744714</td>\n",
              "      <td>-110.712883</td>\n",
              "      <td>2018-06-20</td>\n",
              "      <td>2018-06-20 11:48:30</td>\n",
              "      <td>2018-06-20 12:08:00</td>\n",
              "      <td>19.500000</td>\n",
              "      <td>0.000174</td>\n",
              "      <td>0.001524</td>\n",
              "      <td>7.140927</td>\n",
              "      <td>-142.064286</td>\n",
              "      <td>156.346140</td>\n",
              "      <td>214.948480</td>\n",
              "      <td>1.88424</td>\n",
              "      <td>-5.56615</td>\n",
              "      <td>-5.874057</td>\n",
              "      <td>-5.258235</td>\n",
              "    </tr>\n",
              "    <tr>\n",
              "      <th>1</th>\n",
              "      <td>Porcelain Basin</td>\n",
              "      <td>North of Norris GB</td>\n",
              "      <td>PRCN_20Jun2018_1.2</td>\n",
              "      <td>Acid-Sulphate</td>\n",
              "      <td>44.744758</td>\n",
              "      <td>-110.712736</td>\n",
              "      <td>2018-06-20</td>\n",
              "      <td>2018-06-20 12:22:30</td>\n",
              "      <td>2018-06-20 12:42:00</td>\n",
              "      <td>19.500000</td>\n",
              "      <td>-0.000784</td>\n",
              "      <td>-0.006876</td>\n",
              "      <td>-116.362966</td>\n",
              "      <td>-386.473305</td>\n",
              "      <td>153.747374</td>\n",
              "      <td>437.632807</td>\n",
              "      <td>3.83629</td>\n",
              "      <td>-19.2932</td>\n",
              "      <td>-19.455798</td>\n",
              "      <td>-19.130683</td>\n",
              "    </tr>\n",
              "    <tr>\n",
              "      <th>2</th>\n",
              "      <td>Porcelain Basin</td>\n",
              "      <td>North of Norris GB</td>\n",
              "      <td>PRCN_20Jun2018_1.3</td>\n",
              "      <td>Acid-Sulphate</td>\n",
              "      <td>44.744814</td>\n",
              "      <td>-110.712583</td>\n",
              "      <td>2018-06-20</td>\n",
              "      <td>2018-06-20 12:56:30</td>\n",
              "      <td>2018-06-20 13:15:59</td>\n",
              "      <td>19.483333</td>\n",
              "      <td>-0.002367</td>\n",
              "      <td>-0.020746</td>\n",
              "      <td>36.940010</td>\n",
              "      <td>-59.393456</td>\n",
              "      <td>133.273475</td>\n",
              "      <td>215.394469</td>\n",
              "      <td>1.88815</td>\n",
              "      <td>-23.4323</td>\n",
              "      <td>-23.717714</td>\n",
              "      <td>-23.146891</td>\n",
              "    </tr>\n",
              "    <tr>\n",
              "      <th>3</th>\n",
              "      <td>Porcelain Basin</td>\n",
              "      <td>North of Norris GB</td>\n",
              "      <td>PRCN_20Jun2018_2.1</td>\n",
              "      <td>Acid-Sulphate</td>\n",
              "      <td>44.744978</td>\n",
              "      <td>-110.712708</td>\n",
              "      <td>2018-06-20</td>\n",
              "      <td>2018-06-20 13:32:33</td>\n",
              "      <td>2018-06-20 13:51:57</td>\n",
              "      <td>19.400000</td>\n",
              "      <td>-0.001260</td>\n",
              "      <td>-0.011042</td>\n",
              "      <td>31.010437</td>\n",
              "      <td>-84.155527</td>\n",
              "      <td>146.176401</td>\n",
              "      <td>347.506806</td>\n",
              "      <td>3.04624</td>\n",
              "      <td>-22.9485</td>\n",
              "      <td>-23.139932</td>\n",
              "      <td>-22.756976</td>\n",
              "    </tr>\n",
              "    <tr>\n",
              "      <th>4</th>\n",
              "      <td>Porcelain Basin</td>\n",
              "      <td>North of Norris GB</td>\n",
              "      <td>PRCN_20Jun2018_2.2</td>\n",
              "      <td>Acid-Sulphate</td>\n",
              "      <td>44.745047</td>\n",
              "      <td>-110.712861</td>\n",
              "      <td>2018-06-20</td>\n",
              "      <td>2018-06-20 14:07:30</td>\n",
              "      <td>2018-06-20 14:27:00</td>\n",
              "      <td>19.500000</td>\n",
              "      <td>-0.000472</td>\n",
              "      <td>-0.004139</td>\n",
              "      <td>317.581459</td>\n",
              "      <td>-88.692665</td>\n",
              "      <td>723.855582</td>\n",
              "      <td>350.528532</td>\n",
              "      <td>3.07273</td>\n",
              "      <td>-19.3013</td>\n",
              "      <td>-19.502787</td>\n",
              "      <td>-19.099911</td>\n",
              "    </tr>\n",
              "  </tbody>\n",
              "</table>\n",
              "</div>"
            ],
            "text/plain": [
              "         Site_Name  ... UpperBound_d13CO2_source\n",
              "0  Porcelain Basin  ...                -5.258235\n",
              "1  Porcelain Basin  ...               -19.130683\n",
              "2  Porcelain Basin  ...               -23.146891\n",
              "3  Porcelain Basin  ...               -22.756976\n",
              "4  Porcelain Basin  ...               -19.099911\n",
              "\n",
              "[5 rows x 20 columns]"
            ]
          },
          "metadata": {
            "tags": []
          },
          "execution_count": 60
        }
      ]
    },
    {
      "cell_type": "markdown",
      "metadata": {
        "id": "HWhy_TLT4P4j"
      },
      "source": [
        ""
      ]
    },
    {
      "cell_type": "code",
      "metadata": {
        "id": "Gt4i07-H4NkU",
        "colab": {
          "base_uri": "https://localhost:8080/",
          "height": 479
        },
        "outputId": "6f6245e7-af5f-4ee2-a64b-4ee7203e4375"
      },
      "source": [
        "# Preview 2019 DataFrame\r\n",
        "df_2019_YC.head()"
      ],
      "execution_count": null,
      "outputs": [
        {
          "output_type": "execute_result",
          "data": {
            "text/html": [
              "<div>\n",
              "<style scoped>\n",
              "    .dataframe tbody tr th:only-of-type {\n",
              "        vertical-align: middle;\n",
              "    }\n",
              "\n",
              "    .dataframe tbody tr th {\n",
              "        vertical-align: top;\n",
              "    }\n",
              "\n",
              "    .dataframe thead th {\n",
              "        text-align: right;\n",
              "    }\n",
              "</style>\n",
              "<table border=\"1\" class=\"dataframe\">\n",
              "  <thead>\n",
              "    <tr style=\"text-align: right;\">\n",
              "      <th></th>\n",
              "      <th>Site_Name</th>\n",
              "      <th>Group</th>\n",
              "      <th>Location</th>\n",
              "      <th>Soil_Classification</th>\n",
              "      <th>Latitude</th>\n",
              "      <th>Longitude</th>\n",
              "      <th>Date_of_Measurement</th>\n",
              "      <th>Start_Time_of_Chamber_Enclosure</th>\n",
              "      <th>End_Time_of_Chamber_Enclosure</th>\n",
              "      <th>Duration_of_Chamber_Enclosure</th>\n",
              "      <th>CH4_Flux</th>\n",
              "      <th>Long_Term_CH4_Flux</th>\n",
              "      <th>d13CH4_source</th>\n",
              "      <th>LowerBound_d13CH4_source</th>\n",
              "      <th>UpperBound_d13CH4_source</th>\n",
              "      <th>CO2_Flux</th>\n",
              "      <th>Long_Term_CO2_Flux</th>\n",
              "      <th>d13CO2_source</th>\n",
              "      <th>LowerBound_d13CO2_source</th>\n",
              "      <th>UpperBound_d13CO2_source</th>\n",
              "    </tr>\n",
              "  </thead>\n",
              "  <tbody>\n",
              "    <tr>\n",
              "      <th>0</th>\n",
              "      <td>Gas Vents</td>\n",
              "      <td>Gas Vents (Solfatara Springs)</td>\n",
              "      <td>GVNT_06Jun2019_3.1</td>\n",
              "      <td>Acid-Sulphate</td>\n",
              "      <td>44.709504</td>\n",
              "      <td>-110.553566</td>\n",
              "      <td>2019-06-06</td>\n",
              "      <td>2019-06-06 11:15:48</td>\n",
              "      <td>2019-06-06 11:33:27</td>\n",
              "      <td>17.650000</td>\n",
              "      <td>-0.014203</td>\n",
              "      <td>-0.124503</td>\n",
              "      <td>-60.187106</td>\n",
              "      <td>-94.420223</td>\n",
              "      <td>-25.953990</td>\n",
              "      <td>61.602677</td>\n",
              "      <td>0.540009</td>\n",
              "      <td>-0.994721</td>\n",
              "      <td>-0.994721</td>\n",
              "      <td>4.339204</td>\n",
              "    </tr>\n",
              "    <tr>\n",
              "      <th>1</th>\n",
              "      <td>Gas Vents</td>\n",
              "      <td>Gas Vents (Solfatara Springs)</td>\n",
              "      <td>GVNT_06Jun2019_3.2</td>\n",
              "      <td>Acid-Sulphate</td>\n",
              "      <td>44.709732</td>\n",
              "      <td>-110.553658</td>\n",
              "      <td>2019-06-06</td>\n",
              "      <td>2019-06-06 11:49:57</td>\n",
              "      <td>2019-06-06 12:04:49</td>\n",
              "      <td>14.866667</td>\n",
              "      <td>0.245512</td>\n",
              "      <td>2.15215</td>\n",
              "      <td>-11.702293</td>\n",
              "      <td>-14.309306</td>\n",
              "      <td>-9.095280</td>\n",
              "      <td>1998.611542</td>\n",
              "      <td>17.5198</td>\n",
              "      <td>-4.19908</td>\n",
              "      <td>-4.199076</td>\n",
              "      <td>-4.041347</td>\n",
              "    </tr>\n",
              "    <tr>\n",
              "      <th>2</th>\n",
              "      <td>Gas Vents</td>\n",
              "      <td>Gas Vents (Solfatara Springs)</td>\n",
              "      <td>GVNT_06Jun2019_3.3</td>\n",
              "      <td>Acid-Sulphate</td>\n",
              "      <td>44.709816</td>\n",
              "      <td>-110.553599</td>\n",
              "      <td>2019-06-06</td>\n",
              "      <td>2019-06-06 12:26:56</td>\n",
              "      <td>2019-06-06 12:35:29</td>\n",
              "      <td>8.550000</td>\n",
              "      <td>1.926425</td>\n",
              "      <td>16.887</td>\n",
              "      <td>-30.881871</td>\n",
              "      <td>-31.858541</td>\n",
              "      <td>-29.905202</td>\n",
              "      <td>3759.525151</td>\n",
              "      <td>32.956</td>\n",
              "      <td>-6.3691</td>\n",
              "      <td>-6.369096</td>\n",
              "      <td>-6.133900</td>\n",
              "    </tr>\n",
              "    <tr>\n",
              "      <th>3</th>\n",
              "      <td>Gas Vents</td>\n",
              "      <td>Gas Vents (Solfatara Springs)</td>\n",
              "      <td>GVNT_06Jun2019_4.1</td>\n",
              "      <td>Acid-Sulphate</td>\n",
              "      <td>44.711171</td>\n",
              "      <td>-110.553609</td>\n",
              "      <td>2019-06-06</td>\n",
              "      <td>2019-06-06 13:59:30</td>\n",
              "      <td>2019-06-06 14:01:43</td>\n",
              "      <td>2.216667</td>\n",
              "      <td>9.773651</td>\n",
              "      <td>85.6758</td>\n",
              "      <td>-26.744295</td>\n",
              "      <td>-28.521085</td>\n",
              "      <td>-24.967505</td>\n",
              "      <td>15562.486763</td>\n",
              "      <td>136.421</td>\n",
              "      <td>-9.25684</td>\n",
              "      <td>-9.256836</td>\n",
              "      <td>-3.472577</td>\n",
              "    </tr>\n",
              "    <tr>\n",
              "      <th>4</th>\n",
              "      <td>Gas Vents</td>\n",
              "      <td>Gas Vents (Solfatara Springs)</td>\n",
              "      <td>GVNT_06Jun2019_4.2</td>\n",
              "      <td>Acid-Sulphate</td>\n",
              "      <td>44.711273</td>\n",
              "      <td>-110.553768</td>\n",
              "      <td>2019-06-06</td>\n",
              "      <td>2019-06-06 14:27:20</td>\n",
              "      <td>2019-06-06 14:33:03</td>\n",
              "      <td>5.716667</td>\n",
              "      <td>4.062640</td>\n",
              "      <td>35.6131</td>\n",
              "      <td>-30.258069</td>\n",
              "      <td>-30.961868</td>\n",
              "      <td>-29.554269</td>\n",
              "      <td>5666.133748</td>\n",
              "      <td>49.6693</td>\n",
              "      <td>4.18146</td>\n",
              "      <td>4.181460</td>\n",
              "      <td>7.970357</td>\n",
              "    </tr>\n",
              "  </tbody>\n",
              "</table>\n",
              "</div>"
            ],
            "text/plain": [
              "   Site_Name  ... UpperBound_d13CO2_source\n",
              "0  Gas Vents  ...                 4.339204\n",
              "1  Gas Vents  ...                -4.041347\n",
              "2  Gas Vents  ...                -6.133900\n",
              "3  Gas Vents  ...                -3.472577\n",
              "4  Gas Vents  ...                 7.970357\n",
              "\n",
              "[5 rows x 20 columns]"
            ]
          },
          "metadata": {
            "tags": []
          },
          "execution_count": 20
        }
      ]
    },
    {
      "cell_type": "markdown",
      "metadata": {
        "id": "5E0-NwOtgbnS"
      },
      "source": [
        ""
      ]
    },
    {
      "cell_type": "code",
      "metadata": {
        "colab": {
          "base_uri": "https://localhost:8080/"
        },
        "id": "4r_lWruKd2vK",
        "outputId": "35dad9ca-f6de-4538-ba65-5dbb0b413d20"
      },
      "source": [
        "# Concatenate 2018 & 2019 dataframes\r\n",
        "df_YC_all = pd.concat([df_2018_YC, df_2019_YC], ignore_index=True)\r\n",
        "\r\n",
        "# Preview dataframe dimensions\r\n",
        "df_YC_all.shape"
      ],
      "execution_count": null,
      "outputs": [
        {
          "output_type": "execute_result",
          "data": {
            "text/plain": [
              "(154, 21)"
            ]
          },
          "metadata": {
            "tags": []
          },
          "execution_count": 18
        }
      ]
    },
    {
      "cell_type": "code",
      "metadata": {
        "id": "KZPhJhvQAQIM"
      },
      "source": [
        "# Convert Fluxes to mass m-2 per day\r\n",
        "df_YC_all[\"CH4_Flux\"] = df_YC_all.CH4_Flux * 24\r\n",
        "df_YC_all[\"CO2_Flux\"] = df_YC_all.CO2_Flux * 24"
      ],
      "execution_count": 46,
      "outputs": []
    },
    {
      "cell_type": "markdown",
      "metadata": {
        "id": "_bfmGvhKnhkT"
      },
      "source": [
        "## Visualize flux and isotope compositions\r\n",
        "To begin the exploratory data analysis process, we will visualize the two variables of interest, fluxes and carbon isotope (δ<sup>13</sup>C) compositions. The analysis will begin with site-by-site analysis and then examine geochemical groups."
      ]
    },
    {
      "cell_type": "code",
      "metadata": {
        "colab": {
          "base_uri": "https://localhost:8080/"
        },
        "id": "v55owDKUOCBk",
        "outputId": "d9b12f1d-3362-4a19-8ceb-775913bc47aa"
      },
      "source": [
        "# Connect to Google Drive\r\n",
        "from google.colab import drive\r\n",
        "drive.mount('/content/gdrive')"
      ],
      "execution_count": null,
      "outputs": [
        {
          "output_type": "stream",
          "text": [
            "Mounted at /content/gdrive\n"
          ],
          "name": "stdout"
        }
      ]
    },
    {
      "cell_type": "code",
      "metadata": {
        "colab": {
          "base_uri": "https://localhost:8080/"
        },
        "id": "caPYwykEMri3",
        "outputId": "26c3dbc7-e9f0-4128-823c-e62823a10c92"
      },
      "source": [
        "# Point directory to correct place\r\n",
        "%cd /content/gdrive/My Drive/Colab Notebooks/caldera-gases"
      ],
      "execution_count": 75,
      "outputs": [
        {
          "output_type": "stream",
          "text": [
            "/content/gdrive/My Drive/Colab Notebooks/caldera-gases\n"
          ],
          "name": "stdout"
        }
      ]
    },
    {
      "cell_type": "code",
      "metadata": {
        "colab": {
          "base_uri": "https://localhost:8080/",
          "height": 334
        },
        "id": "YGNTsxQSTGgL",
        "outputId": "8f314224-8df7-47b8-e8bc-6abe172ade77"
      },
      "source": [
        "# Descriptive statistics for numeric data\r\n",
        "df_YC_descrip = df_YC_all.describe(include=[np.number])\r\n",
        "df_YC_descrip"
      ],
      "execution_count": 81,
      "outputs": [
        {
          "output_type": "execute_result",
          "data": {
            "text/html": [
              "<div>\n",
              "<style scoped>\n",
              "    .dataframe tbody tr th:only-of-type {\n",
              "        vertical-align: middle;\n",
              "    }\n",
              "\n",
              "    .dataframe tbody tr th {\n",
              "        vertical-align: top;\n",
              "    }\n",
              "\n",
              "    .dataframe thead th {\n",
              "        text-align: right;\n",
              "    }\n",
              "</style>\n",
              "<table border=\"1\" class=\"dataframe\">\n",
              "  <thead>\n",
              "    <tr style=\"text-align: right;\">\n",
              "      <th></th>\n",
              "      <th>Latitude</th>\n",
              "      <th>Longitude</th>\n",
              "      <th>Duration_of_Chamber_Enclosure</th>\n",
              "      <th>CH4_Flux</th>\n",
              "      <th>Long_Term CH4_Flux</th>\n",
              "      <th>d13CH4_source</th>\n",
              "      <th>LowerBound_d13CH4_source</th>\n",
              "      <th>UpperBound_d13CH4_source</th>\n",
              "      <th>CO2_Flux</th>\n",
              "      <th>LowerBound_d13CO2_source</th>\n",
              "      <th>UpperBound_d13CO2_source</th>\n",
              "    </tr>\n",
              "  </thead>\n",
              "  <tbody>\n",
              "    <tr>\n",
              "      <th>count</th>\n",
              "      <td>146.000000</td>\n",
              "      <td>146.000000</td>\n",
              "      <td>147.000000</td>\n",
              "      <td>147.000000</td>\n",
              "      <td>105.000000</td>\n",
              "      <td>147.000000</td>\n",
              "      <td>147.000000</td>\n",
              "      <td>147.000000</td>\n",
              "      <td>147.000000</td>\n",
              "      <td>147.000000</td>\n",
              "      <td>147.000000</td>\n",
              "    </tr>\n",
              "    <tr>\n",
              "      <th>mean</th>\n",
              "      <td>44.638405</td>\n",
              "      <td>-110.623380</td>\n",
              "      <td>13.666327</td>\n",
              "      <td>19.241308</td>\n",
              "      <td>6.049913</td>\n",
              "      <td>-34.102750</td>\n",
              "      <td>-89.900414</td>\n",
              "      <td>21.922635</td>\n",
              "      <td>51126.039486</td>\n",
              "      <td>-9.605762</td>\n",
              "      <td>-5.793381</td>\n",
              "    </tr>\n",
              "    <tr>\n",
              "      <th>std</th>\n",
              "      <td>0.159328</td>\n",
              "      <td>0.192855</td>\n",
              "      <td>6.760053</td>\n",
              "      <td>48.397572</td>\n",
              "      <td>18.670091</td>\n",
              "      <td>49.404711</td>\n",
              "      <td>87.000758</td>\n",
              "      <td>93.665903</td>\n",
              "      <td>79853.558222</td>\n",
              "      <td>21.651186</td>\n",
              "      <td>22.424012</td>\n",
              "    </tr>\n",
              "    <tr>\n",
              "      <th>min</th>\n",
              "      <td>44.415900</td>\n",
              "      <td>-110.846600</td>\n",
              "      <td>1.850000</td>\n",
              "      <td>-0.843960</td>\n",
              "      <td>-0.308256</td>\n",
              "      <td>-178.100408</td>\n",
              "      <td>-492.474963</td>\n",
              "      <td>-70.815084</td>\n",
              "      <td>-598.603106</td>\n",
              "      <td>-173.795614</td>\n",
              "      <td>-167.145707</td>\n",
              "    </tr>\n",
              "    <tr>\n",
              "      <th>25%</th>\n",
              "      <td>44.470500</td>\n",
              "      <td>-110.806275</td>\n",
              "      <td>7.900000</td>\n",
              "      <td>-0.170222</td>\n",
              "      <td>-0.077741</td>\n",
              "      <td>-57.562841</td>\n",
              "      <td>-113.723317</td>\n",
              "      <td>-22.505913</td>\n",
              "      <td>1113.243711</td>\n",
              "      <td>-14.538849</td>\n",
              "      <td>-10.342205</td>\n",
              "    </tr>\n",
              "    <tr>\n",
              "      <th>50%</th>\n",
              "      <td>44.647300</td>\n",
              "      <td>-110.703405</td>\n",
              "      <td>14.866667</td>\n",
              "      <td>0.055147</td>\n",
              "      <td>-0.013154</td>\n",
              "      <td>-28.278966</td>\n",
              "      <td>-73.433362</td>\n",
              "      <td>-6.683255</td>\n",
              "      <td>9911.238192</td>\n",
              "      <td>-5.563228</td>\n",
              "      <td>-3.548296</td>\n",
              "    </tr>\n",
              "    <tr>\n",
              "      <th>75%</th>\n",
              "      <td>44.723408</td>\n",
              "      <td>-110.552514</td>\n",
              "      <td>19.750000</td>\n",
              "      <td>17.819436</td>\n",
              "      <td>3.573257</td>\n",
              "      <td>-16.712272</td>\n",
              "      <td>-25.768953</td>\n",
              "      <td>42.239005</td>\n",
              "      <td>57516.476436</td>\n",
              "      <td>-1.916186</td>\n",
              "      <td>0.205694</td>\n",
              "    </tr>\n",
              "    <tr>\n",
              "      <th>max</th>\n",
              "      <td>44.972700</td>\n",
              "      <td>-110.219897</td>\n",
              "      <td>30.300000</td>\n",
              "      <td>337.107570</td>\n",
              "      <td>123.128540</td>\n",
              "      <td>317.581459</td>\n",
              "      <td>22.629418</td>\n",
              "      <td>723.855582</td>\n",
              "      <td>422852.024070</td>\n",
              "      <td>50.591769</td>\n",
              "      <td>73.909350</td>\n",
              "    </tr>\n",
              "  </tbody>\n",
              "</table>\n",
              "</div>"
            ],
            "text/plain": [
              "         Latitude  ...  UpperBound_d13CO2_source\n",
              "count  146.000000  ...                147.000000\n",
              "mean    44.638405  ...                 -5.793381\n",
              "std      0.159328  ...                 22.424012\n",
              "min     44.415900  ...               -167.145707\n",
              "25%     44.470500  ...                -10.342205\n",
              "50%     44.647300  ...                 -3.548296\n",
              "75%     44.723408  ...                  0.205694\n",
              "max     44.972700  ...                 73.909350\n",
              "\n",
              "[8 rows x 11 columns]"
            ]
          },
          "metadata": {
            "tags": []
          },
          "execution_count": 81
        }
      ]
    },
    {
      "cell_type": "code",
      "metadata": {
        "colab": {
          "base_uri": "https://localhost:8080/",
          "height": 591
        },
        "id": "8bZYWHCnUJpu",
        "outputId": "8f568a25-faf7-467a-cfbf-08a65a1a3566"
      },
      "source": [
        "# Descriptive Stats by Group\r\n",
        "df_YC_descrip_grp = df_YC_all.groupby(by=[\"Group\", \"Soil_Classification\"])[[\"CH4_Flux\", \"CO2_Flux\"]].describe()\r\n",
        "df_YC_descrip_grp"
      ],
      "execution_count": 85,
      "outputs": [
        {
          "output_type": "execute_result",
          "data": {
            "text/html": [
              "<div>\n",
              "<style scoped>\n",
              "    .dataframe tbody tr th:only-of-type {\n",
              "        vertical-align: middle;\n",
              "    }\n",
              "\n",
              "    .dataframe tbody tr th {\n",
              "        vertical-align: top;\n",
              "    }\n",
              "\n",
              "    .dataframe thead tr th {\n",
              "        text-align: left;\n",
              "    }\n",
              "\n",
              "    .dataframe thead tr:last-of-type th {\n",
              "        text-align: right;\n",
              "    }\n",
              "</style>\n",
              "<table border=\"1\" class=\"dataframe\">\n",
              "  <thead>\n",
              "    <tr>\n",
              "      <th></th>\n",
              "      <th></th>\n",
              "      <th colspan=\"8\" halign=\"left\">CH4_Flux</th>\n",
              "      <th colspan=\"8\" halign=\"left\">CO2_Flux</th>\n",
              "    </tr>\n",
              "    <tr>\n",
              "      <th></th>\n",
              "      <th></th>\n",
              "      <th>count</th>\n",
              "      <th>mean</th>\n",
              "      <th>std</th>\n",
              "      <th>min</th>\n",
              "      <th>25%</th>\n",
              "      <th>50%</th>\n",
              "      <th>75%</th>\n",
              "      <th>max</th>\n",
              "      <th>count</th>\n",
              "      <th>mean</th>\n",
              "      <th>std</th>\n",
              "      <th>min</th>\n",
              "      <th>25%</th>\n",
              "      <th>50%</th>\n",
              "      <th>75%</th>\n",
              "      <th>max</th>\n",
              "    </tr>\n",
              "    <tr>\n",
              "      <th>Group</th>\n",
              "      <th>Soil_Classification</th>\n",
              "      <th></th>\n",
              "      <th></th>\n",
              "      <th></th>\n",
              "      <th></th>\n",
              "      <th></th>\n",
              "      <th></th>\n",
              "      <th></th>\n",
              "      <th></th>\n",
              "      <th></th>\n",
              "      <th></th>\n",
              "      <th></th>\n",
              "      <th></th>\n",
              "      <th></th>\n",
              "      <th></th>\n",
              "      <th></th>\n",
              "      <th></th>\n",
              "    </tr>\n",
              "  </thead>\n",
              "  <tbody>\n",
              "    <tr>\n",
              "      <th rowspan=\"2\" valign=\"top\">Eastern Yellowstone</th>\n",
              "      <th>Acid-Sulphate</th>\n",
              "      <td>15.0</td>\n",
              "      <td>54.173216</td>\n",
              "      <td>114.309175</td>\n",
              "      <td>-0.420069</td>\n",
              "      <td>1.143577</td>\n",
              "      <td>13.883326</td>\n",
              "      <td>27.845346</td>\n",
              "      <td>337.107570</td>\n",
              "      <td>15.0</td>\n",
              "      <td>71893.974661</td>\n",
              "      <td>80664.818772</td>\n",
              "      <td>-329.077088</td>\n",
              "      <td>-94.830514</td>\n",
              "      <td>72628.608251</td>\n",
              "      <td>109888.703637</td>\n",
              "      <td>287760.462839</td>\n",
              "    </tr>\n",
              "    <tr>\n",
              "      <th>Unclassified</th>\n",
              "      <td>8.0</td>\n",
              "      <td>-0.211805</td>\n",
              "      <td>0.380172</td>\n",
              "      <td>-0.798543</td>\n",
              "      <td>-0.369666</td>\n",
              "      <td>-0.209717</td>\n",
              "      <td>-0.139299</td>\n",
              "      <td>0.534097</td>\n",
              "      <td>8.0</td>\n",
              "      <td>13133.541052</td>\n",
              "      <td>10351.135999</td>\n",
              "      <td>-49.267884</td>\n",
              "      <td>4575.986070</td>\n",
              "      <td>12854.305107</td>\n",
              "      <td>19455.952759</td>\n",
              "      <td>27368.656860</td>\n",
              "    </tr>\n",
              "    <tr>\n",
              "      <th>Gas Vents (Solfatara Springs)</th>\n",
              "      <th>Acid-Sulphate</th>\n",
              "      <td>23.0</td>\n",
              "      <td>49.449179</td>\n",
              "      <td>60.493201</td>\n",
              "      <td>-0.340870</td>\n",
              "      <td>3.262782</td>\n",
              "      <td>12.063484</td>\n",
              "      <td>88.747851</td>\n",
              "      <td>234.567631</td>\n",
              "      <td>23.0</td>\n",
              "      <td>147712.252514</td>\n",
              "      <td>119299.275049</td>\n",
              "      <td>1478.464239</td>\n",
              "      <td>69097.640316</td>\n",
              "      <td>127608.893560</td>\n",
              "      <td>200040.810370</td>\n",
              "      <td>422852.024070</td>\n",
              "    </tr>\n",
              "    <tr>\n",
              "      <th>Lower GB</th>\n",
              "      <th>Neutral-Chloride</th>\n",
              "      <td>8.0</td>\n",
              "      <td>-0.207874</td>\n",
              "      <td>0.170713</td>\n",
              "      <td>-0.380380</td>\n",
              "      <td>-0.308486</td>\n",
              "      <td>-0.289654</td>\n",
              "      <td>-0.116851</td>\n",
              "      <td>0.118733</td>\n",
              "      <td>8.0</td>\n",
              "      <td>2214.727445</td>\n",
              "      <td>1408.994853</td>\n",
              "      <td>559.887394</td>\n",
              "      <td>1236.283391</td>\n",
              "      <td>1927.992578</td>\n",
              "      <td>2932.467663</td>\n",
              "      <td>4899.157829</td>\n",
              "    </tr>\n",
              "    <tr>\n",
              "      <th>Mammoth HS</th>\n",
              "      <th>Travertine</th>\n",
              "      <td>10.0</td>\n",
              "      <td>-0.371400</td>\n",
              "      <td>0.256857</td>\n",
              "      <td>-0.843960</td>\n",
              "      <td>-0.505444</td>\n",
              "      <td>-0.352007</td>\n",
              "      <td>-0.186693</td>\n",
              "      <td>-0.050672</td>\n",
              "      <td>10.0</td>\n",
              "      <td>71599.248338</td>\n",
              "      <td>84893.247358</td>\n",
              "      <td>563.548365</td>\n",
              "      <td>6825.983204</td>\n",
              "      <td>32171.036819</td>\n",
              "      <td>121029.172155</td>\n",
              "      <td>233429.837175</td>\n",
              "    </tr>\n",
              "    <tr>\n",
              "      <th>Mud Volcano</th>\n",
              "      <th>Acid-Sulphate</th>\n",
              "      <td>10.0</td>\n",
              "      <td>2.432698</td>\n",
              "      <td>4.509947</td>\n",
              "      <td>-0.546462</td>\n",
              "      <td>-0.207714</td>\n",
              "      <td>0.083199</td>\n",
              "      <td>3.124459</td>\n",
              "      <td>13.104497</td>\n",
              "      <td>10.0</td>\n",
              "      <td>95198.712642</td>\n",
              "      <td>67875.159973</td>\n",
              "      <td>1334.416899</td>\n",
              "      <td>44742.722111</td>\n",
              "      <td>78384.768638</td>\n",
              "      <td>161126.898062</td>\n",
              "      <td>188859.551626</td>\n",
              "    </tr>\n",
              "    <tr>\n",
              "      <th>Norris GB</th>\n",
              "      <th>Neutral-Chloride</th>\n",
              "      <td>21.0</td>\n",
              "      <td>33.290316</td>\n",
              "      <td>17.129644</td>\n",
              "      <td>-0.385322</td>\n",
              "      <td>39.702120</td>\n",
              "      <td>41.396279</td>\n",
              "      <td>43.201821</td>\n",
              "      <td>44.509155</td>\n",
              "      <td>21.0</td>\n",
              "      <td>40956.136404</td>\n",
              "      <td>20109.509967</td>\n",
              "      <td>489.595421</td>\n",
              "      <td>47825.143628</td>\n",
              "      <td>50111.788096</td>\n",
              "      <td>52443.398422</td>\n",
              "      <td>54755.474303</td>\n",
              "    </tr>\n",
              "    <tr>\n",
              "      <th>North of Norris GB</th>\n",
              "      <th>Acid-Sulphate</th>\n",
              "      <td>8.0</td>\n",
              "      <td>-0.039087</td>\n",
              "      <td>0.125033</td>\n",
              "      <td>-0.325954</td>\n",
              "      <td>-0.036873</td>\n",
              "      <td>-0.015080</td>\n",
              "      <td>0.009563</td>\n",
              "      <td>0.100536</td>\n",
              "      <td>8.0</td>\n",
              "      <td>31824.017263</td>\n",
              "      <td>63842.042904</td>\n",
              "      <td>5158.763526</td>\n",
              "      <td>7547.489323</td>\n",
              "      <td>8690.340207</td>\n",
              "      <td>12516.452319</td>\n",
              "      <td>189483.629032</td>\n",
              "    </tr>\n",
              "    <tr>\n",
              "      <th>Terrace Springs</th>\n",
              "      <th>Travertine</th>\n",
              "      <td>6.0</td>\n",
              "      <td>-0.047813</td>\n",
              "      <td>0.023763</td>\n",
              "      <td>-0.071337</td>\n",
              "      <td>-0.066860</td>\n",
              "      <td>-0.050531</td>\n",
              "      <td>-0.034969</td>\n",
              "      <td>-0.012393</td>\n",
              "      <td>6.0</td>\n",
              "      <td>870.071119</td>\n",
              "      <td>644.865713</td>\n",
              "      <td>247.959333</td>\n",
              "      <td>552.029249</td>\n",
              "      <td>657.997169</td>\n",
              "      <td>963.491157</td>\n",
              "      <td>2074.443951</td>\n",
              "    </tr>\n",
              "    <tr>\n",
              "      <th>Upper GB</th>\n",
              "      <th>Neutral-Chloride</th>\n",
              "      <td>27.0</td>\n",
              "      <td>5.050003</td>\n",
              "      <td>8.609298</td>\n",
              "      <td>-0.447252</td>\n",
              "      <td>-0.177887</td>\n",
              "      <td>-0.081124</td>\n",
              "      <td>9.751083</td>\n",
              "      <td>28.122441</td>\n",
              "      <td>27.0</td>\n",
              "      <td>3652.161675</td>\n",
              "      <td>5425.231962</td>\n",
              "      <td>-129.272451</td>\n",
              "      <td>111.222949</td>\n",
              "      <td>564.750828</td>\n",
              "      <td>6171.680251</td>\n",
              "      <td>18430.704840</td>\n",
              "    </tr>\n",
              "    <tr>\n",
              "      <th>West Thumb GB</th>\n",
              "      <th>Neutral-Chloride</th>\n",
              "      <td>11.0</td>\n",
              "      <td>2.403653</td>\n",
              "      <td>7.968793</td>\n",
              "      <td>-0.200572</td>\n",
              "      <td>-0.131901</td>\n",
              "      <td>-0.082189</td>\n",
              "      <td>0.108850</td>\n",
              "      <td>26.418348</td>\n",
              "      <td>11.0</td>\n",
              "      <td>2770.074942</td>\n",
              "      <td>2928.592689</td>\n",
              "      <td>-598.603106</td>\n",
              "      <td>705.244601</td>\n",
              "      <td>2577.566579</td>\n",
              "      <td>2577.566579</td>\n",
              "      <td>8383.322477</td>\n",
              "    </tr>\n",
              "  </tbody>\n",
              "</table>\n",
              "</div>"
            ],
            "text/plain": [
              "                                                  CH4_Flux  ...       CO2_Flux\n",
              "                                                     count  ...            max\n",
              "Group                         Soil_Classification           ...               \n",
              "Eastern Yellowstone           Acid-Sulphate           15.0  ...  287760.462839\n",
              "                              Unclassified             8.0  ...   27368.656860\n",
              "Gas Vents (Solfatara Springs) Acid-Sulphate           23.0  ...  422852.024070\n",
              "Lower GB                      Neutral-Chloride         8.0  ...    4899.157829\n",
              "Mammoth HS                    Travertine              10.0  ...  233429.837175\n",
              "Mud Volcano                   Acid-Sulphate           10.0  ...  188859.551626\n",
              "Norris GB                     Neutral-Chloride        21.0  ...   54755.474303\n",
              "North of Norris GB            Acid-Sulphate            8.0  ...  189483.629032\n",
              "Terrace Springs               Travertine               6.0  ...    2074.443951\n",
              "Upper GB                      Neutral-Chloride        27.0  ...   18430.704840\n",
              "West Thumb GB                 Neutral-Chloride        11.0  ...    8383.322477\n",
              "\n",
              "[11 rows x 16 columns]"
            ]
          },
          "metadata": {
            "tags": []
          },
          "execution_count": 85
        }
      ]
    },
    {
      "cell_type": "code",
      "metadata": {
        "colab": {
          "base_uri": "https://localhost:8080/",
          "height": 1000
        },
        "id": "Kuwu1NOKnJ1y",
        "outputId": "a8250071-2c35-4372-f419-2b3ff22077b7"
      },
      "source": [
        "# Import axis formatting package\r\n",
        "import matplotlib.ticker as ticker\r\n",
        "\r\n",
        "# Set theme (e.g., visual style, color pallette, etc.)\r\n",
        "sns.set_theme(context=\"paper\", style=\"darkgrid\", palette=\"dark\")\r\n",
        "\r\n",
        "# Boxplot fluxes by group (i.e. site)\r\n",
        "## CH4\r\n",
        "p_CH4_flx = sns.catplot(x=\"CH4_Flux\", y=\"Group\", data=df_YC_all,\r\n",
        "            kind=\"strip\",hue=\"Soil_Classification\",\r\n",
        "            orient=\"h\", height=8, aspect=0.8)\r\n",
        "p_CH4_flx.set_axis_labels(\"CH$_4$ mg m$^{-2}$ day$^{-1}$\", \"\")\r\n",
        "#p_CH4_flx.set(xscale=\"log\")\r\n",
        "plt.savefig(\"figures/CH4_flx_swarm.png\", dpi=300)\r\n",
        "\r\n",
        "## CO2\r\n",
        "p_CO2_flx = sns.catplot(x=\"CO2_Flux\", y=\"Group\", data=df_YC_all,\r\n",
        "            kind=\"strip\",hue=\"Soil_Classification\",\r\n",
        "            orient=\"h\", height=8, aspect=0.8)\r\n",
        "p_CO2_flx.set_axis_labels(\"CO$_2$ mg m$^{-2}$ day$^{-1}$\", \"\")\r\n",
        "for ax in p_CO2_flx.axes.flat:\r\n",
        "    ax.xaxis.set_major_formatter(ticker.FuncFormatter(lambda y, p: f'{y:2.0e}'))\r\n",
        "plt.savefig(\"figures/CO2_flx_swarm.png\", dpi=300)"
      ],
      "execution_count": 80,
      "outputs": [
        {
          "output_type": "display_data",
          "data": {
            "image/png": "[encoded data removed]",
            "text/plain": [
              "<Figure size 564.48x576 with 1 Axes>"
            ]
          },
          "metadata": {
            "tags": []
          }
        },
        {
          "output_type": "display_data",
          "data": {
            "image/png": "[encoded data removed]",
            "text/plain": [
              "<Figure size 564.48x576 with 1 Axes>"
            ]
          },
          "metadata": {
            "tags": []
          }
        }
      ]
    },
    {
      "cell_type": "markdown",
      "metadata": {
        "id": "1peuV1mDOszs"
      },
      "source": [
        "\r\n",
        "Flux Figure: Strip plots of fluxes collected across Yellowstone and sorted by groups as they are presented in Bergfeld et al. (2011) and Chiodini et al. (2012). The data are sorted by their geothermal classification. \r\n",
        "\r\n",
        "The strip plots of CH4 and CO2 fluxes (Figure ##) highlight the extent to which fluxes can vary at each site. There was a wide range of CH4 flux observations (19.24 ± 48.40 mg m<sup>-2</sup> day<sup>-1</sup>) with the maximum value (337 mg m<sup>-2</sup> day<sup>-1</sup>) occuring in the eastern portion of the park (coordinates?). These exceptionally high fluxes occurred in regions supported by previous reports (Werner). In particular, acid-sulphate patches along the East Entrance Road oustide of the caldera boundary, CH4 fluxes were very high (54.17 ± 114.31 mg m<sup>-2</sup> day<sup>-1</sup> ). Similary within Gas Vents (also known as Solfatara Springs), fluxes of CH4 varied greately but were also great in magnitude as well (49.45 ± 69.49 <sup>-2</sup> day<sup>-1</sup>). Apart from the high fluxes that occured in the eastern portion of YNP, most CH4 fluxes were relatively low (≤ 6 mg <sup>-2</sup> day<sup>-1</sup>) across YNP.\r\n",
        "\r\n",
        "These CO2 flux data align with previous work conducted by Wener and Brantley (2003), where the neutral-chloride sections were low in CO2 fluxes and the acid-sulphate regions distinguished themselves with higher fluxes (Figure ##). Results from this study at Mud Volacano (95.20 ± 67.88 g <sup>-2</sup> day<sup>-1</sup>) are within the same order of magnitude presented in Werner and Brantley (2003). However, measurements in the acid-sulphate region at Gas Vents (147.71 ± 119.30 g <sup>-2</sup> day<sup>-1</sup>) eclipse the Mud Volcano."
      ]
    },
    {
      "cell_type": "markdown",
      "metadata": {
        "id": "g6TnOLAEqn0d"
      },
      "source": [
        "Having visualized the fluxes and δ<sup>13</sup>C compositions, it is time to quantify the differences between groups using frequentist methods. An analysis of variance (ANOVA) will allow us to compare the means of the fluxes in the groups (site and thermal geochemistry). "
      ]
    }
  ]
}