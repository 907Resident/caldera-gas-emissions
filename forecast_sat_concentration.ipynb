{
  "nbformat": 4,
  "nbformat_minor": 0,
  "metadata": {
    "colab": {
      "name": "forecast-sat-concentration.ipynb",
      "provenance": [],
      "toc_visible": true,
      "authorship_tag": "ABX9TyOOo7Wec0fQ3r9BxWXqdFkA",
      "include_colab_link": true
    },
    "kernelspec": {
      "name": "python3",
      "display_name": "Python 3"
    }
  },
  "cells": [
    {
      "cell_type": "markdown",
      "metadata": {
        "id": "view-in-github",
        "colab_type": "text"
      },
      "source": [
        "<a href=\"https://colab.research.google.com/github/907Resident/caldera-gas-emissions/blob/logistic-prediction/forecast_sat_concentration.ipynb\" target=\"_parent\"><img src=\"https://colab.research.google.com/assets/colab-badge.svg\" alt=\"Open In Colab\"/></a>"
      ]
    },
    {
      "cell_type": "markdown",
      "metadata": {
        "id": "vr0NxKcpyApw"
      },
      "source": [
        "# Predicting Saturation Concentration\r\n",
        "In this exercise, the gas measurements made at the various locations around Yellowstone and Valles Caldera are examined as time series. From there, I apply a logistic regression to forecast the concentration (and the time) the measurements would have yielded in the field. \r\n",
        "\r\n",
        "\r\n",
        "## Importing necessary libraries"
      ]
    },
    {
      "cell_type": "code",
      "metadata": {
        "id": "83oV_uKlx-Rm"
      },
      "source": [
        "# Import libraries\r\n",
        "import pandas as pd\r\n",
        "import matplotlib.pyplot as plt\r\n",
        "import seaborn as sns\r\n",
        "\r\n",
        "# Import fbprphet for forecasting\r\n",
        "from fbprophet import Prophet"
      ],
      "execution_count": 1,
      "outputs": []
    },
    {
      "cell_type": "markdown",
      "metadata": {
        "id": "6jsJokXb0xPU"
      },
      "source": [
        "## Import data\r\n",
        "The data have been processed using code developed in MATLAB previously. The data is currently stored in a OneDrive directory. Therefore to access it, one will need to use [`onedrivesdk<2`](https://github.com/OneDrive/onedrive-sdk-python/blob/master/README.md#onedrive). This library will be able to tap into the OneDrive API. After user authentication, you can get the necesary files for this exercise. "
      ]
    },
    {
      "cell_type": "markdown",
      "metadata": {
        "id": "1DHU6XvJXbNZ"
      },
      "source": [
        "_need to return to get `onedrivesdk` working properly_"
      ]
    },
    {
      "cell_type": "code",
      "metadata": {
        "id": "lquY54Rnyw_w",
        "colab": {
          "base_uri": "https://localhost:8080/"
        },
        "outputId": "df3fd6e8-b94f-4308-e7d9-49b5fe082a2f"
      },
      "source": [
        "#!pip install \"onedrivesdk<2\""
      ],
      "execution_count": 2,
      "outputs": [
        {
          "output_type": "stream",
          "text": [
            "Collecting onedrivesdk<2\n",
            "\u001b[?25l  Downloading https://files.pythonhosted.org/packages/d9/73/32677f3ffc420522c9ebf92aa5741bd19e6844a907a15b491fcbe2221d9f/onedrivesdk-1.1.8.zip (203kB)\n",
            "\r\u001b[K     |█▋                              | 10kB 12.7MB/s eta 0:00:01\r\u001b[K     |███▏                            | 20kB 14.0MB/s eta 0:00:01\r\u001b[K     |████▉                           | 30kB 8.9MB/s eta 0:00:01\r\u001b[K     |██████▍                         | 40kB 7.8MB/s eta 0:00:01\r\u001b[K     |████████                        | 51kB 4.4MB/s eta 0:00:01\r\u001b[K     |█████████▋                      | 61kB 4.9MB/s eta 0:00:01\r\u001b[K     |███████████▎                    | 71kB 5.0MB/s eta 0:00:01\r\u001b[K     |████████████▉                   | 81kB 5.0MB/s eta 0:00:01\r\u001b[K     |██████████████▌                 | 92kB 5.3MB/s eta 0:00:01\r\u001b[K     |████████████████                | 102kB 5.6MB/s eta 0:00:01\r\u001b[K     |█████████████████▊              | 112kB 5.6MB/s eta 0:00:01\r\u001b[K     |███████████████████▎            | 122kB 5.6MB/s eta 0:00:01\r\u001b[K     |████████████████████▉           | 133kB 5.6MB/s eta 0:00:01\r\u001b[K     |██████████████████████▌         | 143kB 5.6MB/s eta 0:00:01\r\u001b[K     |████████████████████████        | 153kB 5.6MB/s eta 0:00:01\r\u001b[K     |█████████████████████████▊      | 163kB 5.6MB/s eta 0:00:01\r\u001b[K     |███████████████████████████▎    | 174kB 5.6MB/s eta 0:00:01\r\u001b[K     |█████████████████████████████   | 184kB 5.6MB/s eta 0:00:01\r\u001b[K     |██████████████████████████████▌ | 194kB 5.6MB/s eta 0:00:01\r\u001b[K     |████████████████████████████████| 204kB 5.6MB/s \n",
            "\u001b[?25hRequirement already satisfied: requests>=2.6.1 in /usr/local/lib/python3.6/dist-packages (from onedrivesdk<2) (2.23.0)\n",
            "Requirement already satisfied: certifi>=2017.4.17 in /usr/local/lib/python3.6/dist-packages (from requests>=2.6.1->onedrivesdk<2) (2020.12.5)\n",
            "Requirement already satisfied: idna<3,>=2.5 in /usr/local/lib/python3.6/dist-packages (from requests>=2.6.1->onedrivesdk<2) (2.10)\n",
            "Requirement already satisfied: urllib3!=1.25.0,!=1.25.1,<1.26,>=1.21.1 in /usr/local/lib/python3.6/dist-packages (from requests>=2.6.1->onedrivesdk<2) (1.24.3)\n",
            "Requirement already satisfied: chardet<4,>=3.0.2 in /usr/local/lib/python3.6/dist-packages (from requests>=2.6.1->onedrivesdk<2) (3.0.4)\n",
            "Building wheels for collected packages: onedrivesdk\n",
            "  Building wheel for onedrivesdk (setup.py) ... \u001b[?25l\u001b[?25hdone\n",
            "  Created wheel for onedrivesdk: filename=onedrivesdk-1.1.8-cp36-none-any.whl size=147150 sha256=c2e10c2ad86165a776de2a97b73297d69fc07c78def8e870ba7d87740b65229c\n",
            "  Stored in directory: /root/.cache/pip/wheels/8f/0c/f0/fe6e0677e05a8bfbd6c2b8d2034db9bcdc03f365545a990fff\n",
            "Successfully built onedrivesdk\n",
            "Installing collected packages: onedrivesdk\n",
            "Successfully installed onedrivesdk-1.1.8\n"
          ],
          "name": "stdout"
        }
      ]
    },
    {
      "cell_type": "code",
      "metadata": {
        "colab": {
          "base_uri": "https://localhost:8080/",
          "height": 394
        },
        "id": "2cOt4syk8E1-",
        "outputId": "3bc7e896-02c2-46e2-9a18-4541087342de"
      },
      "source": [
        "'''\r\n",
        "# Import packages from `ondrivesdk`\r\n",
        "import onedrivesdk\r\n",
        "from onedrivesdk.helpers import GetAuthCodeServer\r\n",
        "from onedrivesdk.helpers.resource_discovery import ResourceDiscoveryRequest\r\n",
        "\r\n",
        "redirect_uri = 'http://localhost:8080/' \r\n",
        "client_secret = 'txwlRACN800:~abtZDV08@=' \r\n",
        "client_id='9603342a-0630-4e1c-9fb1-fe97746511ae' \r\n",
        "api_base_url= 'https://graph.microsoft.com/v1.0/' \r\n",
        "scopes=['wl.signin', 'wl.offline_access', 'onedrive.readwrite'] \r\n",
        "http_provider = onedrivesdk.HttpProvider() \r\n",
        "auth_provider = onedrivesdk.AuthProvider(http_provider=http_provider, \r\n",
        "                                         client_id=client_id, \r\n",
        "                                         scopes=scopes) \r\n",
        "client = onedrivesdk.OneDriveClient(api_base_url, auth_provider, \r\n",
        "                                    http_provider) \r\n",
        "auth_url = client.auth_provider.get_auth_url(redirect_uri) \r\n",
        "print(auth_url)\r\n",
        "code = \"https://login.live.com/oauth20_authorize.srf?client_id=64bdfc12-0546-4082-beb4-8504880da74e&response_type=code&redirect_uri=http%3A%2F%2Flocalhost%3A8080%2F&scope=wl.signin+wl.offline_access+onedrive.readwrite\"\r\n",
        "client.auth_provider.authenticate(code, redirect_uri, client_secret)\r\n",
        "'''"
      ],
      "execution_count": 3,
      "outputs": [
        {
          "output_type": "stream",
          "text": [
            "https://login.live.com/oauth20_authorize.srf?client_id=9603342a-0630-4e1c-9fb1-fe97746511ae&response_type=code&redirect_uri=http%3A%2F%2Flocalhost%3A8080%2F&scope=wl.signin+wl.offline_access+onedrive.readwrite\n"
          ],
          "name": "stdout"
        },
        {
          "output_type": "error",
          "ename": "Exception",
          "evalue": "ignored",
          "traceback": [
            "\u001b[0;31m---------------------------------------------------------------------------\u001b[0m",
            "\u001b[0;31mException\u001b[0m                                 Traceback (most recent call last)",
            "\u001b[0;32m<ipython-input-3-c050eab5c819>\u001b[0m in \u001b[0;36m<module>\u001b[0;34m()\u001b[0m\n\u001b[1;32m     18\u001b[0m \u001b[0mprint\u001b[0m\u001b[0;34m(\u001b[0m\u001b[0mauth_url\u001b[0m\u001b[0;34m)\u001b[0m\u001b[0;34m\u001b[0m\u001b[0;34m\u001b[0m\u001b[0m\n\u001b[1;32m     19\u001b[0m \u001b[0mcode\u001b[0m \u001b[0;34m=\u001b[0m \u001b[0;34m\"https://login.live.com/oauth20_authorize.srf?client_id=64bdfc12-0546-4082-beb4-8504880da74e&response_type=code&redirect_uri=http%3A%2F%2Flocalhost%3A8080%2F&scope=wl.signin+wl.offline_access+onedrive.readwrite\"\u001b[0m\u001b[0;34m\u001b[0m\u001b[0;34m\u001b[0m\u001b[0m\n\u001b[0;32m---> 20\u001b[0;31m \u001b[0mclient\u001b[0m\u001b[0;34m.\u001b[0m\u001b[0mauth_provider\u001b[0m\u001b[0;34m.\u001b[0m\u001b[0mauthenticate\u001b[0m\u001b[0;34m(\u001b[0m\u001b[0mcode\u001b[0m\u001b[0;34m,\u001b[0m \u001b[0mredirect_uri\u001b[0m\u001b[0;34m,\u001b[0m \u001b[0mclient_secret\u001b[0m\u001b[0;34m)\u001b[0m\u001b[0;34m\u001b[0m\u001b[0;34m\u001b[0m\u001b[0m\n\u001b[0m",
            "\u001b[0;32m/usr/local/lib/python3.6/dist-packages/onedrivesdk/auth_provider.py\u001b[0m in \u001b[0;36mauthenticate\u001b[0;34m(self, code, redirect_uri, client_secret, resource)\u001b[0m\n\u001b[1;32m    201\u001b[0m                                             \u001b[0mheaders\u001b[0m\u001b[0;34m=\u001b[0m\u001b[0mheaders\u001b[0m\u001b[0;34m,\u001b[0m\u001b[0;34m\u001b[0m\u001b[0;34m\u001b[0m\u001b[0m\n\u001b[1;32m    202\u001b[0m                                             \u001b[0murl\u001b[0m\u001b[0;34m=\u001b[0m\u001b[0mauth_url\u001b[0m\u001b[0;34m,\u001b[0m\u001b[0;34m\u001b[0m\u001b[0;34m\u001b[0m\u001b[0m\n\u001b[0;32m--> 203\u001b[0;31m                                             data=params)\n\u001b[0m\u001b[1;32m    204\u001b[0m \u001b[0;34m\u001b[0m\u001b[0m\n\u001b[1;32m    205\u001b[0m         \u001b[0mrcont\u001b[0m \u001b[0;34m=\u001b[0m \u001b[0mjson\u001b[0m\u001b[0;34m.\u001b[0m\u001b[0mloads\u001b[0m\u001b[0;34m(\u001b[0m\u001b[0mresponse\u001b[0m\u001b[0;34m.\u001b[0m\u001b[0mcontent\u001b[0m\u001b[0;34m)\u001b[0m\u001b[0;34m\u001b[0m\u001b[0;34m\u001b[0m\u001b[0m\n",
            "\u001b[0;32m/usr/local/lib/python3.6/dist-packages/onedrivesdk/http_provider.py\u001b[0m in \u001b[0;36msend\u001b[0;34m(self, method, headers, url, data, content, path)\u001b[0m\n\u001b[1;32m     69\u001b[0m             \u001b[0mresponse\u001b[0m \u001b[0;34m=\u001b[0m \u001b[0msession\u001b[0m\u001b[0;34m.\u001b[0m\u001b[0msend\u001b[0m\u001b[0;34m(\u001b[0m\u001b[0mprepped\u001b[0m\u001b[0;34m)\u001b[0m\u001b[0;34m\u001b[0m\u001b[0;34m\u001b[0m\u001b[0m\n\u001b[1;32m     70\u001b[0m \u001b[0;34m\u001b[0m\u001b[0m\n\u001b[0;32m---> 71\u001b[0;31m         \u001b[0mcustom_response\u001b[0m \u001b[0;34m=\u001b[0m \u001b[0mHttpResponse\u001b[0m\u001b[0;34m(\u001b[0m\u001b[0mresponse\u001b[0m\u001b[0;34m.\u001b[0m\u001b[0mstatus_code\u001b[0m\u001b[0;34m,\u001b[0m \u001b[0mresponse\u001b[0m\u001b[0;34m.\u001b[0m\u001b[0mheaders\u001b[0m\u001b[0;34m,\u001b[0m \u001b[0mresponse\u001b[0m\u001b[0;34m.\u001b[0m\u001b[0mtext\u001b[0m\u001b[0;34m)\u001b[0m\u001b[0;34m\u001b[0m\u001b[0;34m\u001b[0m\u001b[0m\n\u001b[0m\u001b[1;32m     72\u001b[0m         \u001b[0;32mreturn\u001b[0m \u001b[0mcustom_response\u001b[0m\u001b[0;34m\u001b[0m\u001b[0;34m\u001b[0m\u001b[0m\n\u001b[1;32m     73\u001b[0m \u001b[0;34m\u001b[0m\u001b[0m\n",
            "\u001b[0;32m/usr/local/lib/python3.6/dist-packages/onedrivesdk/http_response.py\u001b[0m in \u001b[0;36m__init__\u001b[0;34m(self, status, headers, content)\u001b[0m\n\u001b[1;32m     59\u001b[0m                     \u001b[0;32mraise\u001b[0m \u001b[0mOneDriveError\u001b[0m\u001b[0;34m(\u001b[0m\u001b[0mmessage\u001b[0m\u001b[0;34m[\u001b[0m\u001b[0;34m\"error\"\u001b[0m\u001b[0;34m]\u001b[0m\u001b[0;34m,\u001b[0m \u001b[0mself\u001b[0m\u001b[0;34m.\u001b[0m\u001b[0mstatus\u001b[0m\u001b[0;34m)\u001b[0m\u001b[0;34m\u001b[0m\u001b[0;34m\u001b[0m\u001b[0m\n\u001b[1;32m     60\u001b[0m                 \u001b[0;32melse\u001b[0m\u001b[0;34m:\u001b[0m\u001b[0;34m\u001b[0m\u001b[0;34m\u001b[0m\u001b[0m\n\u001b[0;32m---> 61\u001b[0;31m                     \u001b[0;32mraise\u001b[0m \u001b[0mException\u001b[0m\u001b[0;34m(\u001b[0m\u001b[0mstr\u001b[0m\u001b[0;34m(\u001b[0m\u001b[0mmessage\u001b[0m\u001b[0;34m[\u001b[0m\u001b[0;34m\"error\"\u001b[0m\u001b[0;34m]\u001b[0m\u001b[0;34m)\u001b[0m\u001b[0;34m)\u001b[0m\u001b[0;34m\u001b[0m\u001b[0;34m\u001b[0m\u001b[0m\n\u001b[0m\u001b[1;32m     62\u001b[0m \u001b[0;34m\u001b[0m\u001b[0m\n\u001b[1;32m     63\u001b[0m     \u001b[0;32mdef\u001b[0m \u001b[0m__str__\u001b[0m\u001b[0;34m(\u001b[0m\u001b[0mself\u001b[0m\u001b[0;34m)\u001b[0m\u001b[0;34m:\u001b[0m\u001b[0;34m\u001b[0m\u001b[0;34m\u001b[0m\u001b[0m\n",
            "\u001b[0;31mException\u001b[0m: invalid_grant"
          ]
        }
      ]
    },
    {
      "cell_type": "markdown",
      "metadata": {
        "id": "3S6HYmWyZ8CO"
      },
      "source": [
        "Using manual file upload until issue #1 is resolved"
      ]
    },
    {
      "cell_type": "code",
      "metadata": {
        "colab": {
          "resources": {
            "http://localhost:8080/nbextensions/google.colab/files.js": {
              "data": "Ly8gQ29weXJpZ2h0IDIwMTcgR29vZ2xlIExMQwovLwovLyBMaWNlbnNlZCB1bmRlciB0aGUgQXBhY2hlIExpY2Vuc2UsIFZlcnNpb24gMi4wICh0aGUgIkxpY2Vuc2UiKTsKLy8geW91IG1heSBub3QgdXNlIHRoaXMgZmlsZSBleGNlcHQgaW4gY29tcGxpYW5jZSB3aXRoIHRoZSBMaWNlbnNlLgovLyBZb3UgbWF5IG9idGFpbiBhIGNvcHkgb2YgdGhlIExpY2Vuc2UgYXQKLy8KLy8gICAgICBodHRwOi8vd3d3LmFwYWNoZS5vcmcvbGljZW5zZXMvTElDRU5TRS0yLjAKLy8KLy8gVW5sZXNzIHJlcXVpcmVkIGJ5IGFwcGxpY2FibGUgbGF3IG9yIGFncmVlZCB0byBpbiB3cml0aW5nLCBzb2Z0d2FyZQovLyBkaXN0cmlidXRlZCB1bmRlciB0aGUgTGljZW5zZSBpcyBkaXN0cmlidXRlZCBvbiBhbiAiQVMgSVMiIEJBU0lTLAovLyBXSVRIT1VUIFdBUlJBTlRJRVMgT1IgQ09ORElUSU9OUyBPRiBBTlkgS0lORCwgZWl0aGVyIGV4cHJlc3Mgb3IgaW1wbGllZC4KLy8gU2VlIHRoZSBMaWNlbnNlIGZvciB0aGUgc3BlY2lmaWMgbGFuZ3VhZ2UgZ292ZXJuaW5nIHBlcm1pc3Npb25zIGFuZAovLyBsaW1pdGF0aW9ucyB1bmRlciB0aGUgTGljZW5zZS4KCi8qKgogKiBAZmlsZW92ZXJ2aWV3IEhlbHBlcnMgZm9yIGdvb2dsZS5jb2xhYiBQeXRob24gbW9kdWxlLgogKi8KKGZ1bmN0aW9uKHNjb3BlKSB7CmZ1bmN0aW9uIHNwYW4odGV4dCwgc3R5bGVBdHRyaWJ1dGVzID0ge30pIHsKICBjb25zdCBlbGVtZW50ID0gZG9jdW1lbnQuY3JlYXRlRWxlbWVudCgnc3BhbicpOwogIGVsZW1lbnQudGV4dENvbnRlbnQgPSB0ZXh0OwogIGZvciAoY29uc3Qga2V5IG9mIE9iamVjdC5rZXlzKHN0eWxlQXR0cmlidXRlcykpIHsKICAgIGVsZW1lbnQuc3R5bGVba2V5XSA9IHN0eWxlQXR0cmlidXRlc1trZXldOwogIH0KICByZXR1cm4gZWxlbWVudDsKfQoKLy8gTWF4IG51bWJlciBvZiBieXRlcyB3aGljaCB3aWxsIGJlIHVwbG9hZGVkIGF0IGEgdGltZS4KY29uc3QgTUFYX1BBWUxPQURfU0laRSA9IDEwMCAqIDEwMjQ7CgpmdW5jdGlvbiBfdXBsb2FkRmlsZXMoaW5wdXRJZCwgb3V0cHV0SWQpIHsKICBjb25zdCBzdGVwcyA9IHVwbG9hZEZpbGVzU3RlcChpbnB1dElkLCBvdXRwdXRJZCk7CiAgY29uc3Qgb3V0cHV0RWxlbWVudCA9IGRvY3VtZW50LmdldEVsZW1lbnRCeUlkKG91dHB1dElkKTsKICAvLyBDYWNoZSBzdGVwcyBvbiB0aGUgb3V0cHV0RWxlbWVudCB0byBtYWtlIGl0IGF2YWlsYWJsZSBmb3IgdGhlIG5leHQgY2FsbAogIC8vIHRvIHVwbG9hZEZpbGVzQ29udGludWUgZnJvbSBQeXRob24uCiAgb3V0cHV0RWxlbWVudC5zdGVwcyA9IHN0ZXBzOwoKICByZXR1cm4gX3VwbG9hZEZpbGVzQ29udGludWUob3V0cHV0SWQpOwp9CgovLyBUaGlzIGlzIHJvdWdobHkgYW4gYXN5bmMgZ2VuZXJhdG9yIChub3Qgc3VwcG9ydGVkIGluIHRoZSBicm93c2VyIHlldCksCi8vIHdoZXJlIHRoZXJlIGFyZSBtdWx0aXBsZSBhc3luY2hyb25vdXMgc3RlcHMgYW5kIHRoZSBQeXRob24gc2lkZSBpcyBnb2luZwovLyB0byBwb2xsIGZvciBjb21wbGV0aW9uIG9mIGVhY2ggc3RlcC4KLy8gVGhpcyB1c2VzIGEgUHJvbWlzZSB0byBibG9jayB0aGUgcHl0aG9uIHNpZGUgb24gY29tcGxldGlvbiBvZiBlYWNoIHN0ZXAsCi8vIHRoZW4gcGFzc2VzIHRoZSByZXN1bHQgb2YgdGhlIHByZXZpb3VzIHN0ZXAgYXMgdGhlIGlucHV0IHRvIHRoZSBuZXh0IHN0ZXAuCmZ1bmN0aW9uIF91cGxvYWRGaWxlc0NvbnRpbnVlKG91dHB1dElkKSB7CiAgY29uc3Qgb3V0cHV0RWxlbWVudCA9IGRvY3VtZW50LmdldEVsZW1lbnRCeUlkKG91dHB1dElkKTsKICBjb25zdCBzdGVwcyA9IG91dHB1dEVsZW1lbnQuc3RlcHM7CgogIGNvbnN0IG5leHQgPSBzdGVwcy5uZXh0KG91dHB1dEVsZW1lbnQubGFzdFByb21pc2VWYWx1ZSk7CiAgcmV0dXJuIFByb21pc2UucmVzb2x2ZShuZXh0LnZhbHVlLnByb21pc2UpLnRoZW4oKHZhbHVlKSA9PiB7CiAgICAvLyBDYWNoZSB0aGUgbGFzdCBwcm9taXNlIHZhbHVlIHRvIG1ha2UgaXQgYXZhaWxhYmxlIHRvIHRoZSBuZXh0CiAgICAvLyBzdGVwIG9mIHRoZSBnZW5lcmF0b3IuCiAgICBvdXRwdXRFbGVtZW50Lmxhc3RQcm9taXNlVmFsdWUgPSB2YWx1ZTsKICAgIHJldHVybiBuZXh0LnZhbHVlLnJlc3BvbnNlOwogIH0pOwp9CgovKioKICogR2VuZXJhdG9yIGZ1bmN0aW9uIHdoaWNoIGlzIGNhbGxlZCBiZXR3ZWVuIGVhY2ggYXN5bmMgc3RlcCBvZiB0aGUgdXBsb2FkCiAqIHByb2Nlc3MuCiAqIEBwYXJhbSB7c3RyaW5nfSBpbnB1dElkIEVsZW1lbnQgSUQgb2YgdGhlIGlucHV0IGZpbGUgcGlja2VyIGVsZW1lbnQuCiAqIEBwYXJhbSB7c3RyaW5nfSBvdXRwdXRJZCBFbGVtZW50IElEIG9mIHRoZSBvdXRwdXQgZGlzcGxheS4KICogQHJldHVybiB7IUl0ZXJhYmxlPCFPYmplY3Q+fSBJdGVyYWJsZSBvZiBuZXh0IHN0ZXBzLgogKi8KZnVuY3Rpb24qIHVwbG9hZEZpbGVzU3RlcChpbnB1dElkLCBvdXRwdXRJZCkgewogIGNvbnN0IGlucHV0RWxlbWVudCA9IGRvY3VtZW50LmdldEVsZW1lbnRCeUlkKGlucHV0SWQpOwogIGlucHV0RWxlbWVudC5kaXNhYmxlZCA9IGZhbHNlOwoKICBjb25zdCBvdXRwdXRFbGVtZW50ID0gZG9jdW1lbnQuZ2V0RWxlbWVudEJ5SWQob3V0cHV0SWQpOwogIG91dHB1dEVsZW1lbnQuaW5uZXJIVE1MID0gJyc7CgogIGNvbnN0IHBpY2tlZFByb21pc2UgPSBuZXcgUHJvbWlzZSgocmVzb2x2ZSkgPT4gewogICAgaW5wdXRFbGVtZW50LmFkZEV2ZW50TGlzdGVuZXIoJ2NoYW5nZScsIChlKSA9PiB7CiAgICAgIHJlc29sdmUoZS50YXJnZXQuZmlsZXMpOwogICAgfSk7CiAgfSk7CgogIGNvbnN0IGNhbmNlbCA9IGRvY3VtZW50LmNyZWF0ZUVsZW1lbnQoJ2J1dHRvbicpOwogIGlucHV0RWxlbWVudC5wYXJlbnRFbGVtZW50LmFwcGVuZENoaWxkKGNhbmNlbCk7CiAgY2FuY2VsLnRleHRDb250ZW50ID0gJ0NhbmNlbCB1cGxvYWQnOwogIGNvbnN0IGNhbmNlbFByb21pc2UgPSBuZXcgUHJvbWlzZSgocmVzb2x2ZSkgPT4gewogICAgY2FuY2VsLm9uY2xpY2sgPSAoKSA9PiB7CiAgICAgIHJlc29sdmUobnVsbCk7CiAgICB9OwogIH0pOwoKICAvLyBXYWl0IGZvciB0aGUgdXNlciB0byBwaWNrIHRoZSBmaWxlcy4KICBjb25zdCBmaWxlcyA9IHlpZWxkIHsKICAgIHByb21pc2U6IFByb21pc2UucmFjZShbcGlja2VkUHJvbWlzZSwgY2FuY2VsUHJvbWlzZV0pLAogICAgcmVzcG9uc2U6IHsKICAgICAgYWN0aW9uOiAnc3RhcnRpbmcnLAogICAgfQogIH07CgogIGNhbmNlbC5yZW1vdmUoKTsKCiAgLy8gRGlzYWJsZSB0aGUgaW5wdXQgZWxlbWVudCBzaW5jZSBmdXJ0aGVyIHBpY2tzIGFyZSBub3QgYWxsb3dlZC4KICBpbnB1dEVsZW1lbnQuZGlzYWJsZWQgPSB0cnVlOwoKICBpZiAoIWZpbGVzKSB7CiAgICByZXR1cm4gewogICAgICByZXNwb25zZTogewogICAgICAgIGFjdGlvbjogJ2NvbXBsZXRlJywKICAgICAgfQogICAgfTsKICB9CgogIGZvciAoY29uc3QgZmlsZSBvZiBmaWxlcykgewogICAgY29uc3QgbGkgPSBkb2N1bWVudC5jcmVhdGVFbGVtZW50KCdsaScpOwogICAgbGkuYXBwZW5kKHNwYW4oZmlsZS5uYW1lLCB7Zm9udFdlaWdodDogJ2JvbGQnfSkpOwogICAgbGkuYXBwZW5kKHNwYW4oCiAgICAgICAgYCgke2ZpbGUudHlwZSB8fCAnbi9hJ30pIC0gJHtmaWxlLnNpemV9IGJ5dGVzLCBgICsKICAgICAgICBgbGFzdCBtb2RpZmllZDogJHsKICAgICAgICAgICAgZmlsZS5sYXN0TW9kaWZpZWREYXRlID8gZmlsZS5sYXN0TW9kaWZpZWREYXRlLnRvTG9jYWxlRGF0ZVN0cmluZygpIDoKICAgICAgICAgICAgICAgICAgICAgICAgICAgICAgICAgICAgJ24vYSd9IC0gYCkpOwogICAgY29uc3QgcGVyY2VudCA9IHNwYW4oJzAlIGRvbmUnKTsKICAgIGxpLmFwcGVuZENoaWxkKHBlcmNlbnQpOwoKICAgIG91dHB1dEVsZW1lbnQuYXBwZW5kQ2hpbGQobGkpOwoKICAgIGNvbnN0IGZpbGVEYXRhUHJvbWlzZSA9IG5ldyBQcm9taXNlKChyZXNvbHZlKSA9PiB7CiAgICAgIGNvbnN0IHJlYWRlciA9IG5ldyBGaWxlUmVhZGVyKCk7CiAgICAgIHJlYWRlci5vbmxvYWQgPSAoZSkgPT4gewogICAgICAgIHJlc29sdmUoZS50YXJnZXQucmVzdWx0KTsKICAgICAgfTsKICAgICAgcmVhZGVyLnJlYWRBc0FycmF5QnVmZmVyKGZpbGUpOwogICAgfSk7CiAgICAvLyBXYWl0IGZvciB0aGUgZGF0YSB0byBiZSByZWFkeS4KICAgIGxldCBmaWxlRGF0YSA9IHlpZWxkIHsKICAgICAgcHJvbWlzZTogZmlsZURhdGFQcm9taXNlLAogICAgICByZXNwb25zZTogewogICAgICAgIGFjdGlvbjogJ2NvbnRpbnVlJywKICAgICAgfQogICAgfTsKCiAgICAvLyBVc2UgYSBjaHVua2VkIHNlbmRpbmcgdG8gYXZvaWQgbWVzc2FnZSBzaXplIGxpbWl0cy4gU2VlIGIvNjIxMTU2NjAuCiAgICBsZXQgcG9zaXRpb24gPSAwOwogICAgd2hpbGUgKHBvc2l0aW9uIDwgZmlsZURhdGEuYnl0ZUxlbmd0aCkgewogICAgICBjb25zdCBsZW5ndGggPSBNYXRoLm1pbihmaWxlRGF0YS5ieXRlTGVuZ3RoIC0gcG9zaXRpb24sIE1BWF9QQVlMT0FEX1NJWkUpOwogICAgICBjb25zdCBjaHVuayA9IG5ldyBVaW50OEFycmF5KGZpbGVEYXRhLCBwb3NpdGlvbiwgbGVuZ3RoKTsKICAgICAgcG9zaXRpb24gKz0gbGVuZ3RoOwoKICAgICAgY29uc3QgYmFzZTY0ID0gYnRvYShTdHJpbmcuZnJvbUNoYXJDb2RlLmFwcGx5KG51bGwsIGNodW5rKSk7CiAgICAgIHlpZWxkIHsKICAgICAgICByZXNwb25zZTogewogICAgICAgICAgYWN0aW9uOiAnYXBwZW5kJywKICAgICAgICAgIGZpbGU6IGZpbGUubmFtZSwKICAgICAgICAgIGRhdGE6IGJhc2U2NCwKICAgICAgICB9LAogICAgICB9OwogICAgICBwZXJjZW50LnRleHRDb250ZW50ID0KICAgICAgICAgIGAke01hdGgucm91bmQoKHBvc2l0aW9uIC8gZmlsZURhdGEuYnl0ZUxlbmd0aCkgKiAxMDApfSUgZG9uZWA7CiAgICB9CiAgfQoKICAvLyBBbGwgZG9uZS4KICB5aWVsZCB7CiAgICByZXNwb25zZTogewogICAgICBhY3Rpb246ICdjb21wbGV0ZScsCiAgICB9CiAgfTsKfQoKc2NvcGUuZ29vZ2xlID0gc2NvcGUuZ29vZ2xlIHx8IHt9OwpzY29wZS5nb29nbGUuY29sYWIgPSBzY29wZS5nb29nbGUuY29sYWIgfHwge307CnNjb3BlLmdvb2dsZS5jb2xhYi5fZmlsZXMgPSB7CiAgX3VwbG9hZEZpbGVzLAogIF91cGxvYWRGaWxlc0NvbnRpbnVlLAp9Owp9KShzZWxmKTsK",
              "ok": true,
              "headers": [
                [
                  "content-type",
                  "application/javascript"
                ]
              ],
              "status": 200,
              "status_text": ""
            }
          },
          "base_uri": "https://localhost:8080/",
          "height": 72
        },
        "id": "StzVW07XXq5D",
        "outputId": "becda3dc-42af-4591-b424-57949d1cda42"
      },
      "source": [
        "# Manual File Upload from local drive\r\n",
        "from google.colab import files\r\n",
        "uploaded = files.upload()"
      ],
      "execution_count": 4,
      "outputs": [
        {
          "output_type": "display_data",
          "data": {
            "text/html": [
              "\n",
              "     <input type=\"file\" id=\"files-6c7feabe-0a49-42d8-8d67-9f5a3e657e23\" name=\"files[]\" multiple disabled\n",
              "        style=\"border:none\" />\n",
              "     <output id=\"result-6c7feabe-0a49-42d8-8d67-9f5a3e657e23\">\n",
              "      Upload widget is only available when the cell has been executed in the\n",
              "      current browser session. Please rerun this cell to enable.\n",
              "      </output>\n",
              "      <script src=\"/nbextensions/google.colab/files.js\"></script> "
            ],
            "text/plain": [
              "<IPython.core.display.HTML object>"
            ]
          },
          "metadata": {
            "tags": []
          }
        },
        {
          "output_type": "stream",
          "text": [
            "Saving YNP_SummaryData.xlsx to YNP_SummaryData.xlsx\n"
          ],
          "name": "stdout"
        }
      ]
    },
    {
      "cell_type": "code",
      "metadata": {
        "colab": {
          "base_uri": "https://localhost:8080/",
          "height": 496
        },
        "id": "1BUl_5zyZ58r",
        "outputId": "70c0f191-d172-4143-d9bd-41d922e021be"
      },
      "source": [
        "# Import file into workspace\r\n",
        "import io\r\n",
        "df_2018_YC = pd.read_excel(io.BytesIO(uploaded['YNP_SummaryData.xlsx']), \r\n",
        "                           sheet_name=\"2018\",\r\n",
        "                           header=0)\r\n",
        "# Delete first row that contains secondary data information\r\n",
        "df_2018_YC.drop([0], inplace=True)\r\n",
        "\r\n",
        "# Reset index\r\n",
        "df_2018_YC.reset_index(drop=True, inplace=True)\r\n",
        "\r\n",
        "# Preview data\r\n",
        "df_2018_YC.head()"
      ],
      "execution_count": 7,
      "outputs": [
        {
          "output_type": "execute_result",
          "data": {
            "text/html": [
              "<div>\n",
              "<style scoped>\n",
              "    .dataframe tbody tr th:only-of-type {\n",
              "        vertical-align: middle;\n",
              "    }\n",
              "\n",
              "    .dataframe tbody tr th {\n",
              "        vertical-align: top;\n",
              "    }\n",
              "\n",
              "    .dataframe thead th {\n",
              "        text-align: right;\n",
              "    }\n",
              "</style>\n",
              "<table border=\"1\" class=\"dataframe\">\n",
              "  <thead>\n",
              "    <tr style=\"text-align: right;\">\n",
              "      <th></th>\n",
              "      <th>Site_Name</th>\n",
              "      <th>Group</th>\n",
              "      <th>Location</th>\n",
              "      <th>Soil_Classification</th>\n",
              "      <th>Latitude</th>\n",
              "      <th>Longitude</th>\n",
              "      <th>Date_of_Measurement</th>\n",
              "      <th>Start_Time_of_Chamber_Enclosure</th>\n",
              "      <th>End_Time_of_Chamber_Enclosure</th>\n",
              "      <th>Duration_of_Chamber_Enclosure</th>\n",
              "      <th>CH4_Flux</th>\n",
              "      <th>Long_Term CH4_Flux</th>\n",
              "      <th>d13CH4_source</th>\n",
              "      <th>LowerBound_d13CH4_source</th>\n",
              "      <th>UpperBound_d13CH4_source</th>\n",
              "      <th>CO2_Flux</th>\n",
              "      <th>Long_Term_CO2_Flux</th>\n",
              "      <th>d13CO2_source</th>\n",
              "      <th>LowerBound_d13CO2_source</th>\n",
              "      <th>UpperBound_d13CO2_source</th>\n",
              "      <th>Horita_Geothermometer_Temperature_at_Formation</th>\n",
              "      <th>Ambient_Temperature</th>\n",
              "      <th>Barometric_Pressure</th>\n",
              "      <th>Soil_Moisture</th>\n",
              "      <th>Soil_Conductivity</th>\n",
              "      <th>Soil_Tempeature_at_Surface</th>\n",
              "      <th>Soil_Tempeature_at_6_in_depth</th>\n",
              "    </tr>\n",
              "  </thead>\n",
              "  <tbody>\n",
              "    <tr>\n",
              "      <th>0</th>\n",
              "      <td>Porcelain Basin</td>\n",
              "      <td>North of Norris GB</td>\n",
              "      <td>PRCN_20Jun2018_1.1</td>\n",
              "      <td>Acid-Sulphate</td>\n",
              "      <td>44.7447</td>\n",
              "      <td>-110.713</td>\n",
              "      <td>2018-06-20 00:00:00</td>\n",
              "      <td>2018-06-20 11:48:30</td>\n",
              "      <td>2018-06-20 12:08:00</td>\n",
              "      <td>19.5</td>\n",
              "      <td>0.0001738</td>\n",
              "      <td>0.00152353</td>\n",
              "      <td>7.14093</td>\n",
              "      <td>-142.064</td>\n",
              "      <td>156.346</td>\n",
              "      <td>214.948</td>\n",
              "      <td>1.88424</td>\n",
              "      <td>-5.56615</td>\n",
              "      <td>-5.87406</td>\n",
              "      <td>-5.25824</td>\n",
              "      <td>-5.87406</td>\n",
              "      <td>-5.25824</td>\n",
              "      <td>1.11546e+11</td>\n",
              "      <td>NaN</td>\n",
              "      <td>NaN</td>\n",
              "      <td>1.31763</td>\n",
              "      <td>714.47</td>\n",
              "    </tr>\n",
              "    <tr>\n",
              "      <th>1</th>\n",
              "      <td>Porcelain Basin</td>\n",
              "      <td>North of Norris GB</td>\n",
              "      <td>PRCN_20Jun2018_1.2</td>\n",
              "      <td>Acid-Sulphate</td>\n",
              "      <td>44.7448</td>\n",
              "      <td>-110.713</td>\n",
              "      <td>2018-06-20 00:00:00</td>\n",
              "      <td>2018-06-20 12:22:30</td>\n",
              "      <td>2018-06-20 12:42:00</td>\n",
              "      <td>19.5</td>\n",
              "      <td>-0.000784411</td>\n",
              "      <td>-0.00687615</td>\n",
              "      <td>-116.363</td>\n",
              "      <td>-386.473</td>\n",
              "      <td>153.747</td>\n",
              "      <td>437.633</td>\n",
              "      <td>3.83629</td>\n",
              "      <td>-19.2932</td>\n",
              "      <td>-19.4558</td>\n",
              "      <td>-19.1307</td>\n",
              "      <td>-19.4558</td>\n",
              "      <td>-19.1307</td>\n",
              "      <td>-29.0515</td>\n",
              "      <td>NaN</td>\n",
              "      <td>NaN</td>\n",
              "      <td>1.31647</td>\n",
              "      <td>778.056</td>\n",
              "    </tr>\n",
              "    <tr>\n",
              "      <th>2</th>\n",
              "      <td>Porcelain Basin</td>\n",
              "      <td>North of Norris GB</td>\n",
              "      <td>PRCN_20Jun2018_1.3</td>\n",
              "      <td>Acid-Sulphate</td>\n",
              "      <td>44.7448</td>\n",
              "      <td>-110.713</td>\n",
              "      <td>2018-06-20 00:00:00</td>\n",
              "      <td>2018-06-20 12:56:30</td>\n",
              "      <td>2018-06-20 13:15:59</td>\n",
              "      <td>19.4833</td>\n",
              "      <td>-0.00236666</td>\n",
              "      <td>-0.0207461</td>\n",
              "      <td>36.94</td>\n",
              "      <td>-59.3935</td>\n",
              "      <td>133.273</td>\n",
              "      <td>215.394</td>\n",
              "      <td>1.88815</td>\n",
              "      <td>-23.4323</td>\n",
              "      <td>-23.7177</td>\n",
              "      <td>-23.1469</td>\n",
              "      <td>-23.7177</td>\n",
              "      <td>-23.1469</td>\n",
              "      <td>450282228398209761280</td>\n",
              "      <td>NaN</td>\n",
              "      <td>NaN</td>\n",
              "      <td>1.31442</td>\n",
              "      <td>737.47</td>\n",
              "    </tr>\n",
              "    <tr>\n",
              "      <th>3</th>\n",
              "      <td>Porcelain Basin</td>\n",
              "      <td>North of Norris GB</td>\n",
              "      <td>PRCN_20Jun2018_2.1</td>\n",
              "      <td>Acid-Sulphate</td>\n",
              "      <td>44.745</td>\n",
              "      <td>-110.713</td>\n",
              "      <td>2018-06-20 00:00:00</td>\n",
              "      <td>2018-06-20 13:32:33</td>\n",
              "      <td>2018-06-20 13:51:57</td>\n",
              "      <td>19.4</td>\n",
              "      <td>-0.00125964</td>\n",
              "      <td>-0.011042</td>\n",
              "      <td>31.0104</td>\n",
              "      <td>-84.1555</td>\n",
              "      <td>146.176</td>\n",
              "      <td>347.507</td>\n",
              "      <td>3.04624</td>\n",
              "      <td>-22.9485</td>\n",
              "      <td>-23.1399</td>\n",
              "      <td>-22.757</td>\n",
              "      <td>-23.1399</td>\n",
              "      <td>-22.757</td>\n",
              "      <td>503872814901302919168</td>\n",
              "      <td>NaN</td>\n",
              "      <td>NaN</td>\n",
              "      <td>1.31679</td>\n",
              "      <td>688.697</td>\n",
              "    </tr>\n",
              "    <tr>\n",
              "      <th>4</th>\n",
              "      <td>Porcelain Basin</td>\n",
              "      <td>North of Norris GB</td>\n",
              "      <td>PRCN_20Jun2018_2.2</td>\n",
              "      <td>Acid-Sulphate</td>\n",
              "      <td>44.745</td>\n",
              "      <td>-110.713</td>\n",
              "      <td>2018-06-20 00:00:00</td>\n",
              "      <td>2018-06-20 14:07:30</td>\n",
              "      <td>2018-06-20 14:27:00</td>\n",
              "      <td>19.5</td>\n",
              "      <td>-0.000472218</td>\n",
              "      <td>-0.00413946</td>\n",
              "      <td>317.581</td>\n",
              "      <td>-88.6927</td>\n",
              "      <td>723.856</td>\n",
              "      <td>350.529</td>\n",
              "      <td>3.07273</td>\n",
              "      <td>-19.3013</td>\n",
              "      <td>-19.5028</td>\n",
              "      <td>-19.0999</td>\n",
              "      <td>-19.5028</td>\n",
              "      <td>-19.0999</td>\n",
              "      <td>251936407216017440768</td>\n",
              "      <td>NaN</td>\n",
              "      <td>NaN</td>\n",
              "      <td>1.31185</td>\n",
              "      <td>708.358</td>\n",
              "    </tr>\n",
              "  </tbody>\n",
              "</table>\n",
              "</div>"
            ],
            "text/plain": [
              "         Site_Name  ... Soil_Tempeature_at_6_in_depth\n",
              "0  Porcelain Basin  ...                        714.47\n",
              "1  Porcelain Basin  ...                       778.056\n",
              "2  Porcelain Basin  ...                        737.47\n",
              "3  Porcelain Basin  ...                       688.697\n",
              "4  Porcelain Basin  ...                       708.358\n",
              "\n",
              "[5 rows x 27 columns]"
            ]
          },
          "metadata": {
            "tags": []
          },
          "execution_count": 7
        }
      ]
    },
    {
      "cell_type": "markdown",
      "metadata": {
        "id": "JY6p6jbIcea0"
      },
      "source": [
        "## Preprocessing and cleaning\r\n",
        "For the initial deployment of this exercise, we will only examine data collected at Gas Vents (GVNT). Therefore, several cleaning steps are requireed to ensure correct data types, addressing missing data, and other cleaning activities."
      ]
    },
    {
      "cell_type": "code",
      "metadata": {
        "id": "nd-IwUW5c2WH"
      },
      "source": [
        ""
      ],
      "execution_count": null,
      "outputs": []
    }
  ]
}