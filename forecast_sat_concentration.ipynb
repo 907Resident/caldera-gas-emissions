{
  "nbformat": 4,
  "nbformat_minor": 0,
  "metadata": {
    "colab": {
      "name": "forecast_sat_concentration.ipynb",
      "provenance": [],
      "authorship_tag": "ABX9TyOGcHtmqzTfqcO2vFxEg2Wa",
      "include_colab_link": true
    },
    "kernelspec": {
      "name": "python3",
      "display_name": "Python 3"
    }
  },
  "cells": [
    {
      "cell_type": "markdown",
      "metadata": {
        "id": "view-in-github",
        "colab_type": "text"
      },
      "source": [
        "<a href=\"https://colab.research.google.com/github/907Resident/caldera-gas-emissions/blob/logistic-prediction/forecast_sat_concentration.ipynb\" target=\"_parent\"><img src=\"https://colab.research.google.com/assets/colab-badge.svg\" alt=\"Open In Colab\"/></a>"
      ]
    },
    {
      "cell_type": "markdown",
      "metadata": {
        "id": "xAjHGCiD5Ptk"
      },
      "source": [
        "# Predicting Saturation Concentration\r\n",
        "In this exercise, the gas measurements made at the various locations around Yellowstone and Valles Caldera are examined as time series. From there, I apply a logistic regression to forecast the concentration (and the time) the measurements would have yielded in the field.\r\n"
      ]
    },
    {
      "cell_type": "markdown",
      "metadata": {
        "id": "WTn-VajP5lur"
      },
      "source": [
        "## Import Necessary Libraries"
      ]
    },
    {
      "cell_type": "code",
      "metadata": {
        "id": "NHPV45FU5BQr"
      },
      "source": [
        "# Import libraries\r\n",
        "import pandas as pd\r\n",
        "import matplotlib.pyplot as plt\r\n",
        "import seaborn as sns\r\n",
        "import io\r\n",
        "\r\n",
        "# Import fbprphet for forecasting\r\n",
        "from fbprophet import Prophet"
      ],
      "execution_count": null,
      "outputs": []
    },
    {
      "cell_type": "markdown",
      "metadata": {
        "id": "b59PMfxO5xrk"
      },
      "source": [
        "## Ingest data into workspace\r\n",
        "The ultimate goal is to utilze the Microsoft's `onedrivesdk` package to acces data straight from OneDrive using their [Graph API](https://docs.microsoft.com/en-us/graph/api/overview?view=graph-rest-1.0). This is currently issue #1 in the repo. \r\n",
        "\r\n",
        "For the time being, data is ingested manually using `files` from the `google.colab` library."
      ]
    },
    {
      "cell_type": "code",
      "metadata": {
        "id": "-jbKBquu6qJU"
      },
      "source": [
        "# Manual File Upload from local drive\r\n",
        "from google.colab import files\r\n",
        "uploaded = files.upload()"
      ],
      "execution_count": null,
      "outputs": []
    },
    {
      "cell_type": "code",
      "metadata": {
        "id": "4a9EVd-e6td0"
      },
      "source": [
        "# Import file into workspace\r\n",
        "import io\r\n",
        "df_2018_YC = pd.read_excel(io.BytesIO(uploaded['YNP_SummaryData.xlsx']), \r\n",
        "                           sheet_name=\"2018\",\r\n",
        "                           header=0)"
      ],
      "execution_count": null,
      "outputs": []
    }
  ]
}