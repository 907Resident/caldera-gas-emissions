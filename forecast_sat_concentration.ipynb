{
  "nbformat": 4,
  "nbformat_minor": 0,
  "metadata": {
    "colab": {
      "name": "forecast-sat-concentration.ipynb",
      "provenance": [],
      "toc_visible": true,
      "authorship_tag": "ABX9TyPWGlje5fTrIvdU92HQBDTo",
      "include_colab_link": true
    },
    "kernelspec": {
      "name": "python3",
      "display_name": "Python 3"
    }
  },
  "cells": [
    {
      "cell_type": "markdown",
      "metadata": {
        "id": "view-in-github",
        "colab_type": "text"
      },
      "source": [
        "<a href=\"https://colab.research.google.com/github/907Resident/caldera-gas-emissions/blob/main/forecast_sat_concentration.ipynb\" target=\"_parent\"><img src=\"https://colab.research.google.com/assets/colab-badge.svg\" alt=\"Open In Colab\"/></a>"
      ]
    },
    {
      "cell_type": "markdown",
      "metadata": {
        "id": "vr0NxKcpyApw"
      },
      "source": [
        "# Predicting Saturation Concentration\r\n",
        "In this exercise, the gas measurements made at the various locations around Yellowstone and Valles Caldera are examined as time series. From there, I apply a logistic regression to forecast the concentration (and the time) the measurements would have yielded in the field. \r\n",
        "\r\n",
        "The data have been processed using code developed in MATLAB previously.\r\n",
        "\r\n",
        "## Importing necessary libraries"
      ]
    },
    {
      "cell_type": "code",
      "metadata": {
        "id": "83oV_uKlx-Rm"
      },
      "source": [
        "# Import libraries\r\n",
        "import pandas as pd\r\n",
        "import matplotlib.pyplot as plt\r\n",
        "import seaborn as sns\r\n",
        "\r\n",
        "# Import fbprphet for forecasting\r\n",
        "from fbprophet import Prophet"
      ],
      "execution_count": null,
      "outputs": []
    },
    {
      "cell_type": "code",
      "metadata": {
        "id": "lquY54Rnyw_w"
      },
      "source": [
        ""
      ],
      "execution_count": null,
      "outputs": []
    }
  ]
}