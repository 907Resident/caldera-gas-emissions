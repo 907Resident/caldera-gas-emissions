{
  "nbformat": 4,
  "nbformat_minor": 0,
  "metadata": {
    "colab": {
      "name": "forecast_sat_concentration.ipynb",
      "provenance": [],
      "toc_visible": true,
      "history_visible": true,
      "authorship_tag": "ABX9TyPXwl2mXv72TOl59aEzhmMW",
      "include_colab_link": true
    },
    "kernelspec": {
      "name": "python3",
      "display_name": "Python 3"
    }
  },
  "cells": [
    {
      "cell_type": "markdown",
      "metadata": {
        "id": "view-in-github",
        "colab_type": "text"
      },
      "source": [
        "<a href=\"https://colab.research.google.com/github/907Resident/caldera-gas-emissions/blob/logistic-prediction/forecast_sat_concentration.ipynb\" target=\"_parent\"><img src=\"https://colab.research.google.com/assets/colab-badge.svg\" alt=\"Open In Colab\"/></a>"
      ]
    },
    {
      "cell_type": "markdown",
      "metadata": {
        "id": "xAjHGCiD5Ptk"
      },
      "source": [
        "# Predicting Saturation Concentration\r\n",
        "In this exercise, the gas measurements made at the various locations around Yellowstone and Valles Caldera are examined as time series. From there, I apply a logistic regression to forecast the concentration (and the time) the measurements would have yielded in the field.\r\n"
      ]
    },
    {
      "cell_type": "markdown",
      "metadata": {
        "id": "WTn-VajP5lur"
      },
      "source": [
        "## Import Necessary Libraries"
      ]
    },
    {
      "cell_type": "code",
      "metadata": {
        "id": "NHPV45FU5BQr"
      },
      "source": [
        "# Import libraries\r\n",
        "import pandas as pd\r\n",
        "import matplotlib.pyplot as plt\r\n",
        "import seaborn as sns\r\n",
        "import numpy as np\r\n",
        "\r\n",
        "import io\r\n",
        "\r\n",
        "from datetime import datetime\r\n",
        "# Import fbprphet for forecasting\r\n",
        "from fbprophet import Prophet"
      ],
      "execution_count": 1,
      "outputs": []
    },
    {
      "cell_type": "markdown",
      "metadata": {
        "id": "b59PMfxO5xrk"
      },
      "source": [
        "## Ingest data into workspace\r\n",
        "The ultimate goal is to utilze the Microsoft's `onedrivesdk` package to acces data straight from OneDrive using their [Graph API](https://docs.microsoft.com/en-us/graph/api/overview?view=graph-rest-1.0). This is currently issue #1 in the repo. \r\n",
        "\r\n",
        "For the time being, data is ingested manually using `files` from the `google.colab` library."
      ]
    },
    {
      "cell_type": "code",
      "metadata": {
        "id": "-jbKBquu6qJU",
        "colab": {
          "resources": {
            "http://localhost:8080/nbextensions/google.colab/files.js": {
              "data": "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",
              "ok": true,
              "headers": [
                [
                  "content-type",
                  "application/javascript"
                ]
              ],
              "status": 200,
              "status_text": ""
            }
          },
          "base_uri": "https://localhost:8080/",
          "height": 72
        },
        "outputId": "1eb6d176-8b3f-4b23-efa4-e15287ea4d36"
      },
      "source": [
        "# Manual File Upload from local drive\r\n",
        "from google.colab import files\r\n",
        "uploaded = files.upload()"
      ],
      "execution_count": null,
      "outputs": [
        {
          "output_type": "display_data",
          "data": {
            "text/html": [
              "\n",
              "     <input type=\"file\" id=\"files-bf7b6f1c-efc5-4c79-806c-5f9a7753e85d\" name=\"files[]\" multiple disabled\n",
              "        style=\"border:none\" />\n",
              "     <output id=\"result-bf7b6f1c-efc5-4c79-806c-5f9a7753e85d\">\n",
              "      Upload widget is only available when the cell has been executed in the\n",
              "      current browser session. Please rerun this cell to enable.\n",
              "      </output>\n",
              "      <script src=\"/nbextensions/google.colab/files.js\"></script> "
            ],
            "text/plain": [
              "<IPython.core.display.HTML object>"
            ]
          },
          "metadata": {
            "tags": []
          }
        },
        {
          "output_type": "stream",
          "text": [
            "Saving YNP_SummaryData.xlsx to YNP_SummaryData.xlsx\n"
          ],
          "name": "stdout"
        }
      ]
    },
    {
      "cell_type": "code",
      "metadata": {
        "id": "4a9EVd-e6td0",
        "colab": {
          "base_uri": "https://localhost:8080/",
          "height": 838
        },
        "outputId": "c4a471bb-fdd4-42ce-ff68-c970d75d79ce"
      },
      "source": [
        "# Import file into workspace\r\n",
        "import io\r\n",
        "df_2019_YC = pd.read_excel(io.BytesIO(uploaded['YNP_SummaryData.xlsx']), \r\n",
        "                           sheet_name=\"2019\",\r\n",
        "                           header=0)\r\n",
        "# Delete first row that contains secondary data information\r\n",
        "df_2019_YC.drop([0], inplace=True)\r\n",
        "\r\n",
        "# Reset index\r\n",
        "df_2019_YC.reset_index(drop=True, inplace=True)\r\n",
        "\r\n",
        "# Preview data\r\n",
        "df_2019_YC.head(10)"
      ],
      "execution_count": null,
      "outputs": [
        {
          "output_type": "execute_result",
          "data": {
            "text/html": [
              "<div>\n",
              "<style scoped>\n",
              "    .dataframe tbody tr th:only-of-type {\n",
              "        vertical-align: middle;\n",
              "    }\n",
              "\n",
              "    .dataframe tbody tr th {\n",
              "        vertical-align: top;\n",
              "    }\n",
              "\n",
              "    .dataframe thead th {\n",
              "        text-align: right;\n",
              "    }\n",
              "</style>\n",
              "<table border=\"1\" class=\"dataframe\">\n",
              "  <thead>\n",
              "    <tr style=\"text-align: right;\">\n",
              "      <th></th>\n",
              "      <th>Site_Name</th>\n",
              "      <th>Group</th>\n",
              "      <th>Location</th>\n",
              "      <th>Soil_Classification</th>\n",
              "      <th>Latitude</th>\n",
              "      <th>Longitude</th>\n",
              "      <th>Date_of_Measurement</th>\n",
              "      <th>Start_Time_of_Chamber_Enclosure</th>\n",
              "      <th>End_Time_of_Chamber_Enclosure</th>\n",
              "      <th>Duration_of_Chamber_Enclosure</th>\n",
              "      <th>CH4_Flux</th>\n",
              "      <th>Long_Term_CH4_Flux</th>\n",
              "      <th>d13CH4_source</th>\n",
              "      <th>LowerBound_d13CH4_source</th>\n",
              "      <th>UpperBound_d13CH4_source</th>\n",
              "      <th>CO2_Flux</th>\n",
              "      <th>Long_Term_CO2_Flux</th>\n",
              "      <th>d13CO2_source</th>\n",
              "      <th>LowerBound_d13CO2_source</th>\n",
              "      <th>UpperBound_d13CO2_source</th>\n",
              "      <th>Horita_Geothermometer_Temperature_at_Formation</th>\n",
              "      <th>Ambient_Temperature</th>\n",
              "      <th>Barometric_Pressure</th>\n",
              "      <th>Soil_Moisture</th>\n",
              "      <th>Soil_Conductivity</th>\n",
              "      <th>Soil_Tempeature_at_Surface</th>\n",
              "      <th>Soil_Tempeature_at_6_in_depth</th>\n",
              "    </tr>\n",
              "  </thead>\n",
              "  <tbody>\n",
              "    <tr>\n",
              "      <th>0</th>\n",
              "      <td>Gas Vents</td>\n",
              "      <td>Gas Vents (Solfatara Springs)</td>\n",
              "      <td>GVNT_06Jun2019_3.1</td>\n",
              "      <td>Acid-Sulphate</td>\n",
              "      <td>44.7095</td>\n",
              "      <td>-110.554</td>\n",
              "      <td>2019-06-06 00:00:00</td>\n",
              "      <td>2019-06-06 11:15:48</td>\n",
              "      <td>2019-06-06 11:33:27</td>\n",
              "      <td>17.65</td>\n",
              "      <td>-0.0142029</td>\n",
              "      <td>-0.124503</td>\n",
              "      <td>-60.1871</td>\n",
              "      <td>-94.4202</td>\n",
              "      <td>-25.954</td>\n",
              "      <td>61.6027</td>\n",
              "      <td>0.540009</td>\n",
              "      <td>-0.994721</td>\n",
              "      <td>-0.994721</td>\n",
              "      <td>4.3392</td>\n",
              "      <td>NaN</td>\n",
              "      <td>NaN</td>\n",
              "      <td>NaN</td>\n",
              "      <td>NaN</td>\n",
              "      <td>NaN</td>\n",
              "      <td>10.8</td>\n",
              "      <td>NaN</td>\n",
              "    </tr>\n",
              "    <tr>\n",
              "      <th>1</th>\n",
              "      <td>Gas Vents</td>\n",
              "      <td>Gas Vents (Solfatara Springs)</td>\n",
              "      <td>GVNT_06Jun2019_3.2</td>\n",
              "      <td>Acid-Sulphate</td>\n",
              "      <td>44.7097</td>\n",
              "      <td>-110.554</td>\n",
              "      <td>2019-06-06 00:00:00</td>\n",
              "      <td>2019-06-06 11:49:57</td>\n",
              "      <td>2019-06-06 12:04:49</td>\n",
              "      <td>14.8667</td>\n",
              "      <td>0.245512</td>\n",
              "      <td>2.15215</td>\n",
              "      <td>-11.7023</td>\n",
              "      <td>-14.3093</td>\n",
              "      <td>-9.09528</td>\n",
              "      <td>1998.61</td>\n",
              "      <td>17.5198</td>\n",
              "      <td>-4.19908</td>\n",
              "      <td>-4.19908</td>\n",
              "      <td>-4.04135</td>\n",
              "      <td>NaN</td>\n",
              "      <td>NaN</td>\n",
              "      <td>NaN</td>\n",
              "      <td>NaN</td>\n",
              "      <td>NaN</td>\n",
              "      <td>19</td>\n",
              "      <td>NaN</td>\n",
              "    </tr>\n",
              "    <tr>\n",
              "      <th>2</th>\n",
              "      <td>Gas Vents</td>\n",
              "      <td>Gas Vents (Solfatara Springs)</td>\n",
              "      <td>GVNT_06Jun2019_3.3</td>\n",
              "      <td>Acid-Sulphate</td>\n",
              "      <td>44.7098</td>\n",
              "      <td>-110.554</td>\n",
              "      <td>2019-06-06 00:00:00</td>\n",
              "      <td>2019-06-06 12:26:56</td>\n",
              "      <td>2019-06-06 12:35:29</td>\n",
              "      <td>8.55</td>\n",
              "      <td>1.92642</td>\n",
              "      <td>16.887</td>\n",
              "      <td>-30.8819</td>\n",
              "      <td>-31.8585</td>\n",
              "      <td>-29.9052</td>\n",
              "      <td>3759.53</td>\n",
              "      <td>32.956</td>\n",
              "      <td>-6.3691</td>\n",
              "      <td>-6.3691</td>\n",
              "      <td>-6.1339</td>\n",
              "      <td>NaN</td>\n",
              "      <td>NaN</td>\n",
              "      <td>NaN</td>\n",
              "      <td>NaN</td>\n",
              "      <td>NaN</td>\n",
              "      <td>20.7</td>\n",
              "      <td>NaN</td>\n",
              "    </tr>\n",
              "    <tr>\n",
              "      <th>3</th>\n",
              "      <td>Gas Vents</td>\n",
              "      <td>Gas Vents (Solfatara Springs)</td>\n",
              "      <td>GVNT_06Jun2019_4.1</td>\n",
              "      <td>Acid-Sulphate</td>\n",
              "      <td>44.7112</td>\n",
              "      <td>-110.554</td>\n",
              "      <td>2019-06-06 00:00:00</td>\n",
              "      <td>2019-06-06 13:59:30</td>\n",
              "      <td>2019-06-06 14:01:43</td>\n",
              "      <td>2.21667</td>\n",
              "      <td>9.77365</td>\n",
              "      <td>85.6758</td>\n",
              "      <td>-26.7443</td>\n",
              "      <td>-28.5211</td>\n",
              "      <td>-24.9675</td>\n",
              "      <td>15562.5</td>\n",
              "      <td>136.421</td>\n",
              "      <td>-9.25684</td>\n",
              "      <td>-9.25684</td>\n",
              "      <td>-3.47258</td>\n",
              "      <td>NaN</td>\n",
              "      <td>NaN</td>\n",
              "      <td>NaN</td>\n",
              "      <td>NaN</td>\n",
              "      <td>NaN</td>\n",
              "      <td>43.3</td>\n",
              "      <td>NaN</td>\n",
              "    </tr>\n",
              "    <tr>\n",
              "      <th>4</th>\n",
              "      <td>Gas Vents</td>\n",
              "      <td>Gas Vents (Solfatara Springs)</td>\n",
              "      <td>GVNT_06Jun2019_4.2</td>\n",
              "      <td>Acid-Sulphate</td>\n",
              "      <td>44.7113</td>\n",
              "      <td>-110.554</td>\n",
              "      <td>2019-06-06 00:00:00</td>\n",
              "      <td>2019-06-06 14:27:20</td>\n",
              "      <td>2019-06-06 14:33:03</td>\n",
              "      <td>5.71667</td>\n",
              "      <td>4.06264</td>\n",
              "      <td>35.6131</td>\n",
              "      <td>-30.2581</td>\n",
              "      <td>-30.9619</td>\n",
              "      <td>-29.5543</td>\n",
              "      <td>5666.13</td>\n",
              "      <td>49.6693</td>\n",
              "      <td>4.18146</td>\n",
              "      <td>4.18146</td>\n",
              "      <td>7.97036</td>\n",
              "      <td>NaN</td>\n",
              "      <td>NaN</td>\n",
              "      <td>NaN</td>\n",
              "      <td>NaN</td>\n",
              "      <td>NaN</td>\n",
              "      <td>46.5</td>\n",
              "      <td>NaN</td>\n",
              "    </tr>\n",
              "    <tr>\n",
              "      <th>5</th>\n",
              "      <td>Gas Vents</td>\n",
              "      <td>Gas Vents (Solfatara Springs)</td>\n",
              "      <td>GVNT_06Jun2019_4.3</td>\n",
              "      <td>Acid-Sulphate</td>\n",
              "      <td>44.7114</td>\n",
              "      <td>-110.554</td>\n",
              "      <td>2019-06-06 00:00:00</td>\n",
              "      <td>2019-06-06 14:57:48</td>\n",
              "      <td>2019-06-06 15:12:35</td>\n",
              "      <td>14.7833</td>\n",
              "      <td>0.0168218</td>\n",
              "      <td>0.14746</td>\n",
              "      <td>15.2084</td>\n",
              "      <td>-18.3973</td>\n",
              "      <td>48.8141</td>\n",
              "      <td>412.968</td>\n",
              "      <td>3.62008</td>\n",
              "      <td>-0.51335</td>\n",
              "      <td>-0.51335</td>\n",
              "      <td>0.32896</td>\n",
              "      <td>NaN</td>\n",
              "      <td>NaN</td>\n",
              "      <td>NaN</td>\n",
              "      <td>NaN</td>\n",
              "      <td>NaN</td>\n",
              "      <td>35.4</td>\n",
              "      <td>NaN</td>\n",
              "    </tr>\n",
              "    <tr>\n",
              "      <th>6</th>\n",
              "      <td>Gas Vents</td>\n",
              "      <td>Gas Vents (Solfatara Springs)</td>\n",
              "      <td>GVNT_06Jun2019_4.4</td>\n",
              "      <td>Acid-Sulphate</td>\n",
              "      <td>44.7115</td>\n",
              "      <td>-110.554</td>\n",
              "      <td>2019-06-06 00:00:00</td>\n",
              "      <td>2019-06-06 15:44:02</td>\n",
              "      <td>2019-06-06 15:59:12</td>\n",
              "      <td>15.1667</td>\n",
              "      <td>0.0367235</td>\n",
              "      <td>0.321918</td>\n",
              "      <td>-15.1822</td>\n",
              "      <td>-33.143</td>\n",
              "      <td>2.77863</td>\n",
              "      <td>133.321</td>\n",
              "      <td>1.16869</td>\n",
              "      <td>50.5918</td>\n",
              "      <td>50.5918</td>\n",
              "      <td>59.2262</td>\n",
              "      <td>NaN</td>\n",
              "      <td>NaN</td>\n",
              "      <td>NaN</td>\n",
              "      <td>NaN</td>\n",
              "      <td>NaN</td>\n",
              "      <td>28.6</td>\n",
              "      <td>NaN</td>\n",
              "    </tr>\n",
              "    <tr>\n",
              "      <th>7</th>\n",
              "      <td>West Thumb</td>\n",
              "      <td>West Thumb GB</td>\n",
              "      <td>WTHB_07Jun2019_3.1</td>\n",
              "      <td>Neutral-Chloride</td>\n",
              "      <td>44.4166</td>\n",
              "      <td>-110.572</td>\n",
              "      <td>2019-06-07 00:00:00</td>\n",
              "      <td>2019-06-07 10:54:00</td>\n",
              "      <td>2019-06-07 11:09:42</td>\n",
              "      <td>15.7</td>\n",
              "      <td>0.0022978</td>\n",
              "      <td>0.0201425</td>\n",
              "      <td>53.72</td>\n",
              "      <td>-63.6822</td>\n",
              "      <td>171.122</td>\n",
              "      <td>-24.9418</td>\n",
              "      <td>-0.21864</td>\n",
              "      <td>-16.926</td>\n",
              "      <td>0</td>\n",
              "      <td>-14.3105</td>\n",
              "      <td>NaN</td>\n",
              "      <td>NaN</td>\n",
              "      <td>NaN</td>\n",
              "      <td>NaN</td>\n",
              "      <td>NaN</td>\n",
              "      <td>19.5</td>\n",
              "      <td>NaN</td>\n",
              "    </tr>\n",
              "    <tr>\n",
              "      <th>8</th>\n",
              "      <td>West Thumb</td>\n",
              "      <td>West Thumb GB</td>\n",
              "      <td>WTHB_07Jun2019_3.2</td>\n",
              "      <td>Neutral-Chloride</td>\n",
              "      <td>44.4182</td>\n",
              "      <td>-110.572</td>\n",
              "      <td>2019-06-07 00:00:00</td>\n",
              "      <td>2019-06-07 11:45:32</td>\n",
              "      <td>2019-06-07 12:00:58</td>\n",
              "      <td>15.4333</td>\n",
              "      <td>0.0290361</td>\n",
              "      <td>0.254531</td>\n",
              "      <td>-57.6858</td>\n",
              "      <td>-75.1049</td>\n",
              "      <td>-40.2666</td>\n",
              "      <td>34.4015</td>\n",
              "      <td>0.301564</td>\n",
              "      <td>4.06232</td>\n",
              "      <td>0</td>\n",
              "      <td>6.21635</td>\n",
              "      <td>NaN</td>\n",
              "      <td>NaN</td>\n",
              "      <td>NaN</td>\n",
              "      <td>NaN</td>\n",
              "      <td>NaN</td>\n",
              "      <td>18</td>\n",
              "      <td>NaN</td>\n",
              "    </tr>\n",
              "    <tr>\n",
              "      <th>9</th>\n",
              "      <td>West Thumb</td>\n",
              "      <td>West Thumb GB</td>\n",
              "      <td>WTHB_07Jun2019_3.3</td>\n",
              "      <td>Neutral-Chloride</td>\n",
              "      <td>44.4183</td>\n",
              "      <td>-110.572</td>\n",
              "      <td>2019-06-07 00:00:00</td>\n",
              "      <td>2019-06-07 12:27:19</td>\n",
              "      <td>2019-06-07 12:43:48</td>\n",
              "      <td>16.4833</td>\n",
              "      <td>0.00677303</td>\n",
              "      <td>0.0593724</td>\n",
              "      <td>-28.279</td>\n",
              "      <td>-82.5482</td>\n",
              "      <td>25.9902</td>\n",
              "      <td>13.0644</td>\n",
              "      <td>0.114522</td>\n",
              "      <td>-22.2025</td>\n",
              "      <td>0</td>\n",
              "      <td>-17.6532</td>\n",
              "      <td>NaN</td>\n",
              "      <td>NaN</td>\n",
              "      <td>NaN</td>\n",
              "      <td>NaN</td>\n",
              "      <td>NaN</td>\n",
              "      <td>18.6</td>\n",
              "      <td>NaN</td>\n",
              "    </tr>\n",
              "  </tbody>\n",
              "</table>\n",
              "</div>"
            ],
            "text/plain": [
              "    Site_Name  ... Soil_Tempeature_at_6_in_depth\n",
              "0   Gas Vents  ...                           NaN\n",
              "1   Gas Vents  ...                           NaN\n",
              "2   Gas Vents  ...                           NaN\n",
              "3   Gas Vents  ...                           NaN\n",
              "4   Gas Vents  ...                           NaN\n",
              "5   Gas Vents  ...                           NaN\n",
              "6   Gas Vents  ...                           NaN\n",
              "7  West Thumb  ...                           NaN\n",
              "8  West Thumb  ...                           NaN\n",
              "9  West Thumb  ...                           NaN\n",
              "\n",
              "[10 rows x 27 columns]"
            ]
          },
          "metadata": {
            "tags": []
          },
          "execution_count": 5
        }
      ]
    },
    {
      "cell_type": "markdown",
      "metadata": {
        "id": "OPCTySWN9HRt"
      },
      "source": [
        "In addition to mannually importing a .xlsx file, we will need to import a .mat file (produced in MATLAB). This file will contain several items that will be stored in a dictionary. Use the `loadmat` function from the `scipy.io` package  to extract the .mat file. More details are [here](https://stackoverflow.com/questions/45007081/convert-mat-file-to-pandas-dataframe)."
      ]
    },
    {
      "cell_type": "code",
      "metadata": {
        "colab": {
          "base_uri": "https://localhost:8080/"
        },
        "id": "Mp9j3eBRCEbk",
        "outputId": "33b33bd9-c0c3-4c8e-ac4d-44ca6e104c3b"
      },
      "source": [
        "# Connect to Google Drive\r\n",
        "from google.colab import drive\r\n",
        "drive.mount('/content/gdrive')"
      ],
      "execution_count": 2,
      "outputs": [
        {
          "output_type": "stream",
          "text": [
            "Mounted at /content/gdrive\n"
          ],
          "name": "stdout"
        }
      ]
    },
    {
      "cell_type": "code",
      "metadata": {
        "colab": {
          "base_uri": "https://localhost:8080/"
        },
        "id": "dwl1YE04CD_R",
        "outputId": "ad8f4078-91bd-4837-9e88-67aada04f383"
      },
      "source": [
        "# Point directory towards the correct folder\r\n",
        "%cd /content/gdrive/My Drive/Colab Notebooks/caldera-gases"
      ],
      "execution_count": 3,
      "outputs": [
        {
          "output_type": "stream",
          "text": [
            "/content/gdrive/My Drive/Colab Notebooks/caldera-gases\n"
          ],
          "name": "stdout"
        }
      ]
    },
    {
      "cell_type": "code",
      "metadata": {
        "id": "dxMZjWpi8Qxl",
        "colab": {
          "base_uri": "https://localhost:8080/"
        },
        "outputId": "5004c199-f29b-460a-bb52-f1bdf462fa74"
      },
      "source": [
        "# Import the scipy.io package\r\n",
        "import h5py\r\n",
        "# Gather the .mat file\r\n",
        "dict_GVNT_06Jun2019 = h5py.File(\"pertinent-data/GVNT_06Jun2019_MATFILE.mat\",\r\n",
        "                                \"r\")\r\n",
        "# Print the list of items in the .mat file\r\n",
        "list(dict_GVNT_06Jun2019.keys())\r\n"
      ],
      "execution_count": 4,
      "outputs": [
        {
          "output_type": "execute_result",
          "data": {
            "text/plain": [
              "['#refs#',\n",
              " '#subsystem#',\n",
              " 'GVNT_ChamON',\n",
              " 'GVNT_ChamON_DateTimes',\n",
              " 'GVNT_PostBack',\n",
              " 'GVNT_PostBack_DateTimes',\n",
              " 'GVNT_PreBack',\n",
              " 'GVNT_PreBack_DateTimes',\n",
              " 'lin_flux',\n",
              " 'lin_mdl',\n",
              " 'lin_slope']"
            ]
          },
          "metadata": {
            "tags": []
          },
          "execution_count": 4
        }
      ]
    },
    {
      "cell_type": "code",
      "metadata": {
        "id": "xt6UCgIdgI87"
      },
      "source": [
        "# Convert the first chamber enclosure to a dataframe and be sure to transpose it\r\n",
        "# to the correct dimensions\r\n",
        "df = pd.DataFrame(dict_GVNT_06Jun2019['GVNT_ChamON'][2]).T"
      ],
      "execution_count": 10,
      "outputs": []
    },
    {
      "cell_type": "code",
      "metadata": {
        "colab": {
          "base_uri": "https://localhost:8080/",
          "height": 309
        },
        "id": "11cB_pfzQ7rw",
        "outputId": "f54dd4c2-99ff-4071-8e9f-1694e1c9e958"
      },
      "source": [
        "# Add column names with list\r\n",
        "col_names = [\"date\", \"elapsed_sec\", \"CH4_dry\", \"CH4\", \"d13_CH4\", \"d13_CH4_HR\",\r\n",
        "             \"CO2_dry\", \"d13_CO2\", \"alarm\", \"CH4_cgs\", \"CO2_cgs\"]\r\n",
        "# Substitute in the new column names             \r\n",
        "df.columns = col_names\r\n",
        "# Change the date column to the correct timestamps\r\n",
        "df[\"date\"] = pd.to_datetime(df[\"date\"]-719529, unit='D')\r\n",
        "# Preview dataset\r\n",
        "df.head()"
      ],
      "execution_count": 11,
      "outputs": [
        {
          "output_type": "execute_result",
          "data": {
            "text/html": [
              "<div>\n",
              "<style scoped>\n",
              "    .dataframe tbody tr th:only-of-type {\n",
              "        vertical-align: middle;\n",
              "    }\n",
              "\n",
              "    .dataframe tbody tr th {\n",
              "        vertical-align: top;\n",
              "    }\n",
              "\n",
              "    .dataframe thead th {\n",
              "        text-align: right;\n",
              "    }\n",
              "</style>\n",
              "<table border=\"1\" class=\"dataframe\">\n",
              "  <thead>\n",
              "    <tr style=\"text-align: right;\">\n",
              "      <th></th>\n",
              "      <th>date</th>\n",
              "      <th>elapsed_sec</th>\n",
              "      <th>CH4_dry</th>\n",
              "      <th>CH4</th>\n",
              "      <th>d13_CH4</th>\n",
              "      <th>d13_CH4_HR</th>\n",
              "      <th>CO2_dry</th>\n",
              "      <th>d13_CO2</th>\n",
              "      <th>alarm</th>\n",
              "      <th>CH4_cgs</th>\n",
              "      <th>CO2_cgs</th>\n",
              "    </tr>\n",
              "  </thead>\n",
              "  <tbody>\n",
              "    <tr>\n",
              "      <th>0</th>\n",
              "      <td>2019-06-06 12:26:56.000025600</td>\n",
              "      <td>0.000</td>\n",
              "      <td>1.849656</td>\n",
              "      <td>1.877614</td>\n",
              "      <td>-44.060339</td>\n",
              "      <td>-44.060339</td>\n",
              "      <td>421.737046</td>\n",
              "      <td>-10.220448</td>\n",
              "      <td>0.0</td>\n",
              "      <td>1.086377</td>\n",
              "      <td>679.496772</td>\n",
              "    </tr>\n",
              "    <tr>\n",
              "      <th>1</th>\n",
              "      <td>2019-06-06 12:27:00.000000000</td>\n",
              "      <td>3.491</td>\n",
              "      <td>1.851102</td>\n",
              "      <td>1.879069</td>\n",
              "      <td>-48.032279</td>\n",
              "      <td>-48.032279</td>\n",
              "      <td>421.777091</td>\n",
              "      <td>-10.243013</td>\n",
              "      <td>0.0</td>\n",
              "      <td>1.087226</td>\n",
              "      <td>679.561291</td>\n",
              "    </tr>\n",
              "    <tr>\n",
              "      <th>2</th>\n",
              "      <td>2019-06-06 12:27:02.999980800</td>\n",
              "      <td>6.994</td>\n",
              "      <td>1.853991</td>\n",
              "      <td>1.882063</td>\n",
              "      <td>-48.611680</td>\n",
              "      <td>-48.611680</td>\n",
              "      <td>422.768287</td>\n",
              "      <td>-9.812516</td>\n",
              "      <td>0.0</td>\n",
              "      <td>1.088924</td>\n",
              "      <td>681.158293</td>\n",
              "    </tr>\n",
              "    <tr>\n",
              "      <th>3</th>\n",
              "      <td>2019-06-06 12:27:06.999955200</td>\n",
              "      <td>10.473</td>\n",
              "      <td>1.858189</td>\n",
              "      <td>1.886456</td>\n",
              "      <td>-47.180816</td>\n",
              "      <td>-47.180816</td>\n",
              "      <td>424.967150</td>\n",
              "      <td>-9.323391</td>\n",
              "      <td>0.0</td>\n",
              "      <td>1.091389</td>\n",
              "      <td>684.701071</td>\n",
              "    </tr>\n",
              "    <tr>\n",
              "      <th>4</th>\n",
              "      <td>2019-06-06 12:27:10.000022400</td>\n",
              "      <td>13.951</td>\n",
              "      <td>1.865596</td>\n",
              "      <td>1.894218</td>\n",
              "      <td>-46.435142</td>\n",
              "      <td>-46.435142</td>\n",
              "      <td>428.332146</td>\n",
              "      <td>-9.808875</td>\n",
              "      <td>0.0</td>\n",
              "      <td>1.095739</td>\n",
              "      <td>690.122705</td>\n",
              "    </tr>\n",
              "  </tbody>\n",
              "</table>\n",
              "</div>"
            ],
            "text/plain": [
              "                           date  elapsed_sec  ...   CH4_cgs     CO2_cgs\n",
              "0 2019-06-06 12:26:56.000025600        0.000  ...  1.086377  679.496772\n",
              "1 2019-06-06 12:27:00.000000000        3.491  ...  1.087226  679.561291\n",
              "2 2019-06-06 12:27:02.999980800        6.994  ...  1.088924  681.158293\n",
              "3 2019-06-06 12:27:06.999955200       10.473  ...  1.091389  684.701071\n",
              "4 2019-06-06 12:27:10.000022400       13.951  ...  1.095739  690.122705\n",
              "\n",
              "[5 rows x 11 columns]"
            ]
          },
          "metadata": {
            "tags": []
          },
          "execution_count": 11
        }
      ]
    },
    {
      "cell_type": "markdown",
      "metadata": {
        "id": "UuIKbCZIgmsz"
      },
      "source": [
        "## Incorporate Logistic Modeling"
      ]
    },
    {
      "cell_type": "code",
      "metadata": {
        "colab": {
          "base_uri": "https://localhost:8080/"
        },
        "id": "DG7fmj5eh6Hy",
        "outputId": "324ba5ef-9b9b-43bc-ad34-29f0a710d523"
      },
      "source": [
        "df_test = df[[\"date\", \"CH4_dry\"]]\r\n",
        "df_test.dropna(inplace=True)\r\n",
        "df_test.set_index(\"date\", inplace=True)\r\n",
        "df_test.index = df_test.index.rename(\"ds\")\r\n",
        "df_test.index = df_test.index.round(\"S\")\r\n",
        "names_Prophet_df = [\"y\"]\r\n",
        "df_test.columns = names_Prophet_df"
      ],
      "execution_count": 12,
      "outputs": [
        {
          "output_type": "stream",
          "text": [
            "/usr/local/lib/python3.6/dist-packages/ipykernel_launcher.py:2: SettingWithCopyWarning:\n",
            "\n",
            "\n",
            "A value is trying to be set on a copy of a slice from a DataFrame\n",
            "\n",
            "See the caveats in the documentation: https://pandas.pydata.org/pandas-docs/stable/user_guide/indexing.html#returning-a-view-versus-a-copy\n",
            "\n"
          ],
          "name": "stderr"
        }
      ]
    },
    {
      "cell_type": "code",
      "metadata": {
        "colab": {
          "base_uri": "https://localhost:8080/"
        },
        "id": "opHlpAF-t3Px",
        "outputId": "43715660-eed0-472b-fcb6-1ed5fcef6ae3"
      },
      "source": [
        "df_test.reset_index(inplace=True)\r\n",
        "print(df_test)"
      ],
      "execution_count": 13,
      "outputs": [
        {
          "output_type": "stream",
          "text": [
            "                     ds         y\n",
            "0   2019-06-06 12:26:56  1.849656\n",
            "1   2019-06-06 12:27:00  1.851102\n",
            "2   2019-06-06 12:27:03  1.853991\n",
            "3   2019-06-06 12:27:07  1.858189\n",
            "4   2019-06-06 12:27:10  1.865596\n",
            "..                  ...       ...\n",
            "142 2019-06-06 12:35:15  4.720467\n",
            "143 2019-06-06 12:35:18  4.735887\n",
            "144 2019-06-06 12:35:22  4.751378\n",
            "145 2019-06-06 12:35:25  4.767941\n",
            "146 2019-06-06 12:35:29  4.783116\n",
            "\n",
            "[147 rows x 2 columns]\n"
          ],
          "name": "stdout"
        }
      ]
    },
    {
      "cell_type": "code",
      "metadata": {
        "colab": {
          "base_uri": "https://localhost:8080/",
          "height": 648
        },
        "id": "H5L2UtwVgrSi",
        "outputId": "a6720901-1ee7-4322-806a-952ffaf80c38"
      },
      "source": [
        "df_test[\"cap\"] = 11\r\n",
        "m = Prophet(growth='logistic')\r\n",
        "m.fit(df_test)\r\n",
        "\r\n",
        "# Python\r\n",
        "future = m.make_future_dataframe(periods=600, freq=\"S\")\r\n",
        "future['cap'] = 11\r\n",
        "fcst = m.predict(future)\r\n",
        "fig = m.plot(fcst)"
      ],
      "execution_count": 42,
      "outputs": [
        {
          "output_type": "stream",
          "text": [
            "/usr/local/lib/python3.6/dist-packages/ipykernel_launcher.py:1: SettingWithCopyWarning:\n",
            "\n",
            "\n",
            "A value is trying to be set on a copy of a slice from a DataFrame.\n",
            "Try using .loc[row_indexer,col_indexer] = value instead\n",
            "\n",
            "See the caveats in the documentation: https://pandas.pydata.org/pandas-docs/stable/user_guide/indexing.html#returning-a-view-versus-a-copy\n",
            "\n",
            "INFO:fbprophet:Disabling yearly seasonality. Run prophet with yearly_seasonality=True to override this.\n",
            "INFO:fbprophet:Disabling weekly seasonality. Run prophet with weekly_seasonality=True to override this.\n",
            "INFO:fbprophet:Disabling daily seasonality. Run prophet with daily_seasonality=True to override this.\n"
          ],
          "name": "stderr"
        },
        {
          "output_type": "display_data",
          "data": {
            "image/png": "[encoded data removed]",
            "text/plain": [
              "<Figure size 720x432 with 1 Axes>"
            ]
          },
          "metadata": {
            "tags": []
          }
        }
      ]
    },
    {
      "cell_type": "code",
      "metadata": {
        "colab": {
          "base_uri": "https://localhost:8080/",
          "height": 204
        },
        "id": "3Ckw-mAYqRRM",
        "outputId": "0ed4ba5d-2228-416b-c0ee-b69454ebb914"
      },
      "source": [
        "fcst[['ds', 'yhat', 'yhat_lower', 'yhat_upper', 'trend', 'trend_lower', 'trend_upper']].tail()"
      ],
      "execution_count": 38,
      "outputs": [
        {
          "output_type": "execute_result",
          "data": {
            "text/html": [
              "<div>\n",
              "<style scoped>\n",
              "    .dataframe tbody tr th:only-of-type {\n",
              "        vertical-align: middle;\n",
              "    }\n",
              "\n",
              "    .dataframe tbody tr th {\n",
              "        vertical-align: top;\n",
              "    }\n",
              "\n",
              "    .dataframe thead th {\n",
              "        text-align: right;\n",
              "    }\n",
              "</style>\n",
              "<table border=\"1\" class=\"dataframe\">\n",
              "  <thead>\n",
              "    <tr style=\"text-align: right;\">\n",
              "      <th></th>\n",
              "      <th>ds</th>\n",
              "      <th>yhat</th>\n",
              "      <th>yhat_lower</th>\n",
              "      <th>yhat_upper</th>\n",
              "      <th>trend</th>\n",
              "      <th>trend_lower</th>\n",
              "      <th>trend_upper</th>\n",
              "    </tr>\n",
              "  </thead>\n",
              "  <tbody>\n",
              "    <tr>\n",
              "      <th>742</th>\n",
              "      <td>2019-06-06 12:45:25</td>\n",
              "      <td>7.525258</td>\n",
              "      <td>5.869597</td>\n",
              "      <td>9.087022</td>\n",
              "      <td>7.525258</td>\n",
              "      <td>5.868875</td>\n",
              "      <td>9.087526</td>\n",
              "    </tr>\n",
              "    <tr>\n",
              "      <th>743</th>\n",
              "      <td>2019-06-06 12:45:26</td>\n",
              "      <td>7.529852</td>\n",
              "      <td>5.867108</td>\n",
              "      <td>9.091355</td>\n",
              "      <td>7.529852</td>\n",
              "      <td>5.867105</td>\n",
              "      <td>9.090712</td>\n",
              "    </tr>\n",
              "    <tr>\n",
              "      <th>744</th>\n",
              "      <td>2019-06-06 12:45:27</td>\n",
              "      <td>7.534445</td>\n",
              "      <td>5.865454</td>\n",
              "      <td>9.094828</td>\n",
              "      <td>7.534445</td>\n",
              "      <td>5.865630</td>\n",
              "      <td>9.095935</td>\n",
              "    </tr>\n",
              "    <tr>\n",
              "      <th>745</th>\n",
              "      <td>2019-06-06 12:45:28</td>\n",
              "      <td>7.539039</td>\n",
              "      <td>5.868233</td>\n",
              "      <td>9.104108</td>\n",
              "      <td>7.539039</td>\n",
              "      <td>5.865746</td>\n",
              "      <td>9.105300</td>\n",
              "    </tr>\n",
              "    <tr>\n",
              "      <th>746</th>\n",
              "      <td>2019-06-06 12:45:29</td>\n",
              "      <td>7.543632</td>\n",
              "      <td>5.867306</td>\n",
              "      <td>9.117160</td>\n",
              "      <td>7.543632</td>\n",
              "      <td>5.865862</td>\n",
              "      <td>9.114707</td>\n",
              "    </tr>\n",
              "  </tbody>\n",
              "</table>\n",
              "</div>"
            ],
            "text/plain": [
              "                     ds      yhat  ...  trend_lower  trend_upper\n",
              "742 2019-06-06 12:45:25  7.525258  ...     5.868875     9.087526\n",
              "743 2019-06-06 12:45:26  7.529852  ...     5.867105     9.090712\n",
              "744 2019-06-06 12:45:27  7.534445  ...     5.865630     9.095935\n",
              "745 2019-06-06 12:45:28  7.539039  ...     5.865746     9.105300\n",
              "746 2019-06-06 12:45:29  7.543632  ...     5.865862     9.114707\n",
              "\n",
              "[5 rows x 7 columns]"
            ]
          },
          "metadata": {
            "tags": []
          },
          "execution_count": 38
        }
      ]
    },
    {
      "cell_type": "code",
      "metadata": {
        "id": "HPIJDidi-3gP"
      },
      "source": [
        ""
      ],
      "execution_count": null,
      "outputs": []
    }
  ]
}